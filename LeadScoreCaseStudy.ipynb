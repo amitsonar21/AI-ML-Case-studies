{
 "cells": [
  {
   "cell_type": "markdown",
   "metadata": {},
   "source": [
    "## Lead Score Case Study - Logistic Regression\n",
    "\n",
    "Following steps will be taken.\n",
    "\n",
    "1. Reading,understanding and cleaning the data\n",
    "2. Data visualisation(EDA)\n",
    "3. Data preparation\n",
    "4. Splitting the data into train and test sets\n",
    "5. Building our model\n",
    "6. Model prediction and evaluation"
   ]
  },
  {
   "cell_type": "code",
   "execution_count": 848,
   "metadata": {},
   "outputs": [],
   "source": [
    "#import the warnings.\n",
    "import warnings\n",
    "warnings.filterwarnings(\"ignore\")"
   ]
  },
  {
   "cell_type": "code",
   "execution_count": 849,
   "metadata": {},
   "outputs": [],
   "source": [
    "import numpy as np\n",
    "import pandas as pd\n",
    "import matplotlib.pyplot as plt\n",
    "import seaborn as sns"
   ]
  },
  {
   "cell_type": "markdown",
   "metadata": {},
   "source": [
    "### Step 1- Reading and understanding the data"
   ]
  },
  {
   "cell_type": "code",
   "execution_count": 850,
   "metadata": {},
   "outputs": [
    {
     "name": "stdout",
     "output_type": "stream",
     "text": [
      "<class 'pandas.core.frame.DataFrame'>\n",
      "RangeIndex: 9240 entries, 0 to 9239\n",
      "Data columns (total 37 columns):\n",
      " #   Column                                         Non-Null Count  Dtype  \n",
      "---  ------                                         --------------  -----  \n",
      " 0   Prospect ID                                    9240 non-null   object \n",
      " 1   Lead Number                                    9240 non-null   int64  \n",
      " 2   Lead Origin                                    9240 non-null   object \n",
      " 3   Lead Source                                    9204 non-null   object \n",
      " 4   Do Not Email                                   9240 non-null   object \n",
      " 5   Do Not Call                                    9240 non-null   object \n",
      " 6   Converted                                      9240 non-null   int64  \n",
      " 7   TotalVisits                                    9103 non-null   float64\n",
      " 8   Total Time Spent on Website                    9240 non-null   int64  \n",
      " 9   Page Views Per Visit                           9103 non-null   float64\n",
      " 10  Last Activity                                  9137 non-null   object \n",
      " 11  Country                                        6779 non-null   object \n",
      " 12  Specialization                                 7802 non-null   object \n",
      " 13  How did you hear about X Education             7033 non-null   object \n",
      " 14  What is your current occupation                6550 non-null   object \n",
      " 15  What matters most to you in choosing a course  6531 non-null   object \n",
      " 16  Search                                         9240 non-null   object \n",
      " 17  Magazine                                       9240 non-null   object \n",
      " 18  Newspaper Article                              9240 non-null   object \n",
      " 19  X Education Forums                             9240 non-null   object \n",
      " 20  Newspaper                                      9240 non-null   object \n",
      " 21  Digital Advertisement                          9240 non-null   object \n",
      " 22  Through Recommendations                        9240 non-null   object \n",
      " 23  Receive More Updates About Our Courses         9240 non-null   object \n",
      " 24  Tags                                           5887 non-null   object \n",
      " 25  Lead Quality                                   4473 non-null   object \n",
      " 26  Update me on Supply Chain Content              9240 non-null   object \n",
      " 27  Get updates on DM Content                      9240 non-null   object \n",
      " 28  Lead Profile                                   6531 non-null   object \n",
      " 29  City                                           7820 non-null   object \n",
      " 30  Asymmetrique Activity Index                    5022 non-null   object \n",
      " 31  Asymmetrique Profile Index                     5022 non-null   object \n",
      " 32  Asymmetrique Activity Score                    5022 non-null   float64\n",
      " 33  Asymmetrique Profile Score                     5022 non-null   float64\n",
      " 34  I agree to pay the amount through cheque       9240 non-null   object \n",
      " 35  A free copy of Mastering The Interview         9240 non-null   object \n",
      " 36  Last Notable Activity                          9240 non-null   object \n",
      "dtypes: float64(4), int64(3), object(30)\n",
      "memory usage: 2.6+ MB\n"
     ]
    }
   ],
   "source": [
    "leads_data=pd.read_csv(\"Leads.csv\")\n",
    "leads_data.info()"
   ]
  },
  {
   "cell_type": "code",
   "execution_count": 851,
   "metadata": {},
   "outputs": [
    {
     "data": {
      "text/plain": [
       "(9240, 37)"
      ]
     },
     "execution_count": 851,
     "metadata": {},
     "output_type": "execute_result"
    }
   ],
   "source": [
    "leads_data.shape"
   ]
  },
  {
   "cell_type": "code",
   "execution_count": 852,
   "metadata": {},
   "outputs": [
    {
     "data": {
      "text/html": [
       "<div>\n",
       "<style scoped>\n",
       "    .dataframe tbody tr th:only-of-type {\n",
       "        vertical-align: middle;\n",
       "    }\n",
       "\n",
       "    .dataframe tbody tr th {\n",
       "        vertical-align: top;\n",
       "    }\n",
       "\n",
       "    .dataframe thead th {\n",
       "        text-align: right;\n",
       "    }\n",
       "</style>\n",
       "<table border=\"1\" class=\"dataframe\">\n",
       "  <thead>\n",
       "    <tr style=\"text-align: right;\">\n",
       "      <th></th>\n",
       "      <th>Prospect ID</th>\n",
       "      <th>Lead Number</th>\n",
       "      <th>Lead Origin</th>\n",
       "      <th>Lead Source</th>\n",
       "      <th>Do Not Email</th>\n",
       "      <th>Do Not Call</th>\n",
       "      <th>Converted</th>\n",
       "      <th>TotalVisits</th>\n",
       "      <th>Total Time Spent on Website</th>\n",
       "      <th>Page Views Per Visit</th>\n",
       "      <th>...</th>\n",
       "      <th>Get updates on DM Content</th>\n",
       "      <th>Lead Profile</th>\n",
       "      <th>City</th>\n",
       "      <th>Asymmetrique Activity Index</th>\n",
       "      <th>Asymmetrique Profile Index</th>\n",
       "      <th>Asymmetrique Activity Score</th>\n",
       "      <th>Asymmetrique Profile Score</th>\n",
       "      <th>I agree to pay the amount through cheque</th>\n",
       "      <th>A free copy of Mastering The Interview</th>\n",
       "      <th>Last Notable Activity</th>\n",
       "    </tr>\n",
       "  </thead>\n",
       "  <tbody>\n",
       "    <tr>\n",
       "      <th>0</th>\n",
       "      <td>7927b2df-8bba-4d29-b9a2-b6e0beafe620</td>\n",
       "      <td>660737</td>\n",
       "      <td>API</td>\n",
       "      <td>Olark Chat</td>\n",
       "      <td>No</td>\n",
       "      <td>No</td>\n",
       "      <td>0</td>\n",
       "      <td>0.0</td>\n",
       "      <td>0</td>\n",
       "      <td>0.0</td>\n",
       "      <td>...</td>\n",
       "      <td>No</td>\n",
       "      <td>Select</td>\n",
       "      <td>Select</td>\n",
       "      <td>02.Medium</td>\n",
       "      <td>02.Medium</td>\n",
       "      <td>15.0</td>\n",
       "      <td>15.0</td>\n",
       "      <td>No</td>\n",
       "      <td>No</td>\n",
       "      <td>Modified</td>\n",
       "    </tr>\n",
       "    <tr>\n",
       "      <th>1</th>\n",
       "      <td>2a272436-5132-4136-86fa-dcc88c88f482</td>\n",
       "      <td>660728</td>\n",
       "      <td>API</td>\n",
       "      <td>Organic Search</td>\n",
       "      <td>No</td>\n",
       "      <td>No</td>\n",
       "      <td>0</td>\n",
       "      <td>5.0</td>\n",
       "      <td>674</td>\n",
       "      <td>2.5</td>\n",
       "      <td>...</td>\n",
       "      <td>No</td>\n",
       "      <td>Select</td>\n",
       "      <td>Select</td>\n",
       "      <td>02.Medium</td>\n",
       "      <td>02.Medium</td>\n",
       "      <td>15.0</td>\n",
       "      <td>15.0</td>\n",
       "      <td>No</td>\n",
       "      <td>No</td>\n",
       "      <td>Email Opened</td>\n",
       "    </tr>\n",
       "    <tr>\n",
       "      <th>2</th>\n",
       "      <td>8cc8c611-a219-4f35-ad23-fdfd2656bd8a</td>\n",
       "      <td>660727</td>\n",
       "      <td>Landing Page Submission</td>\n",
       "      <td>Direct Traffic</td>\n",
       "      <td>No</td>\n",
       "      <td>No</td>\n",
       "      <td>1</td>\n",
       "      <td>2.0</td>\n",
       "      <td>1532</td>\n",
       "      <td>2.0</td>\n",
       "      <td>...</td>\n",
       "      <td>No</td>\n",
       "      <td>Potential Lead</td>\n",
       "      <td>Mumbai</td>\n",
       "      <td>02.Medium</td>\n",
       "      <td>01.High</td>\n",
       "      <td>14.0</td>\n",
       "      <td>20.0</td>\n",
       "      <td>No</td>\n",
       "      <td>Yes</td>\n",
       "      <td>Email Opened</td>\n",
       "    </tr>\n",
       "    <tr>\n",
       "      <th>3</th>\n",
       "      <td>0cc2df48-7cf4-4e39-9de9-19797f9b38cc</td>\n",
       "      <td>660719</td>\n",
       "      <td>Landing Page Submission</td>\n",
       "      <td>Direct Traffic</td>\n",
       "      <td>No</td>\n",
       "      <td>No</td>\n",
       "      <td>0</td>\n",
       "      <td>1.0</td>\n",
       "      <td>305</td>\n",
       "      <td>1.0</td>\n",
       "      <td>...</td>\n",
       "      <td>No</td>\n",
       "      <td>Select</td>\n",
       "      <td>Mumbai</td>\n",
       "      <td>02.Medium</td>\n",
       "      <td>01.High</td>\n",
       "      <td>13.0</td>\n",
       "      <td>17.0</td>\n",
       "      <td>No</td>\n",
       "      <td>No</td>\n",
       "      <td>Modified</td>\n",
       "    </tr>\n",
       "    <tr>\n",
       "      <th>4</th>\n",
       "      <td>3256f628-e534-4826-9d63-4a8b88782852</td>\n",
       "      <td>660681</td>\n",
       "      <td>Landing Page Submission</td>\n",
       "      <td>Google</td>\n",
       "      <td>No</td>\n",
       "      <td>No</td>\n",
       "      <td>1</td>\n",
       "      <td>2.0</td>\n",
       "      <td>1428</td>\n",
       "      <td>1.0</td>\n",
       "      <td>...</td>\n",
       "      <td>No</td>\n",
       "      <td>Select</td>\n",
       "      <td>Mumbai</td>\n",
       "      <td>02.Medium</td>\n",
       "      <td>01.High</td>\n",
       "      <td>15.0</td>\n",
       "      <td>18.0</td>\n",
       "      <td>No</td>\n",
       "      <td>No</td>\n",
       "      <td>Modified</td>\n",
       "    </tr>\n",
       "  </tbody>\n",
       "</table>\n",
       "<p>5 rows × 37 columns</p>\n",
       "</div>"
      ],
      "text/plain": [
       "                            Prospect ID  Lead Number              Lead Origin  \\\n",
       "0  7927b2df-8bba-4d29-b9a2-b6e0beafe620       660737                      API   \n",
       "1  2a272436-5132-4136-86fa-dcc88c88f482       660728                      API   \n",
       "2  8cc8c611-a219-4f35-ad23-fdfd2656bd8a       660727  Landing Page Submission   \n",
       "3  0cc2df48-7cf4-4e39-9de9-19797f9b38cc       660719  Landing Page Submission   \n",
       "4  3256f628-e534-4826-9d63-4a8b88782852       660681  Landing Page Submission   \n",
       "\n",
       "      Lead Source Do Not Email Do Not Call  Converted  TotalVisits  \\\n",
       "0      Olark Chat           No          No          0          0.0   \n",
       "1  Organic Search           No          No          0          5.0   \n",
       "2  Direct Traffic           No          No          1          2.0   \n",
       "3  Direct Traffic           No          No          0          1.0   \n",
       "4          Google           No          No          1          2.0   \n",
       "\n",
       "   Total Time Spent on Website  Page Views Per Visit  ...  \\\n",
       "0                            0                   0.0  ...   \n",
       "1                          674                   2.5  ...   \n",
       "2                         1532                   2.0  ...   \n",
       "3                          305                   1.0  ...   \n",
       "4                         1428                   1.0  ...   \n",
       "\n",
       "  Get updates on DM Content    Lead Profile    City  \\\n",
       "0                        No          Select  Select   \n",
       "1                        No          Select  Select   \n",
       "2                        No  Potential Lead  Mumbai   \n",
       "3                        No          Select  Mumbai   \n",
       "4                        No          Select  Mumbai   \n",
       "\n",
       "  Asymmetrique Activity Index Asymmetrique Profile Index  \\\n",
       "0                   02.Medium                  02.Medium   \n",
       "1                   02.Medium                  02.Medium   \n",
       "2                   02.Medium                    01.High   \n",
       "3                   02.Medium                    01.High   \n",
       "4                   02.Medium                    01.High   \n",
       "\n",
       "  Asymmetrique Activity Score Asymmetrique Profile Score  \\\n",
       "0                        15.0                       15.0   \n",
       "1                        15.0                       15.0   \n",
       "2                        14.0                       20.0   \n",
       "3                        13.0                       17.0   \n",
       "4                        15.0                       18.0   \n",
       "\n",
       "  I agree to pay the amount through cheque  \\\n",
       "0                                       No   \n",
       "1                                       No   \n",
       "2                                       No   \n",
       "3                                       No   \n",
       "4                                       No   \n",
       "\n",
       "  A free copy of Mastering The Interview Last Notable Activity  \n",
       "0                                     No              Modified  \n",
       "1                                     No          Email Opened  \n",
       "2                                    Yes          Email Opened  \n",
       "3                                     No              Modified  \n",
       "4                                     No              Modified  \n",
       "\n",
       "[5 rows x 37 columns]"
      ]
     },
     "execution_count": 852,
     "metadata": {},
     "output_type": "execute_result"
    }
   ],
   "source": [
    "leads_data.head()"
   ]
  },
  {
   "cell_type": "code",
   "execution_count": 853,
   "metadata": {},
   "outputs": [
    {
     "data": {
      "text/plain": [
       "Index(['Prospect ID', 'Lead Number', 'Lead Origin', 'Lead Source',\n",
       "       'Do Not Email', 'Do Not Call', 'Converted', 'TotalVisits',\n",
       "       'Total Time Spent on Website', 'Page Views Per Visit', 'Last Activity',\n",
       "       'Country', 'Specialization', 'How did you hear about X Education',\n",
       "       'What is your current occupation',\n",
       "       'What matters most to you in choosing a course', 'Search', 'Magazine',\n",
       "       'Newspaper Article', 'X Education Forums', 'Newspaper',\n",
       "       'Digital Advertisement', 'Through Recommendations',\n",
       "       'Receive More Updates About Our Courses', 'Tags', 'Lead Quality',\n",
       "       'Update me on Supply Chain Content', 'Get updates on DM Content',\n",
       "       'Lead Profile', 'City', 'Asymmetrique Activity Index',\n",
       "       'Asymmetrique Profile Index', 'Asymmetrique Activity Score',\n",
       "       'Asymmetrique Profile Score',\n",
       "       'I agree to pay the amount through cheque',\n",
       "       'A free copy of Mastering The Interview', 'Last Notable Activity'],\n",
       "      dtype='object')"
      ]
     },
     "execution_count": 853,
     "metadata": {},
     "output_type": "execute_result"
    }
   ],
   "source": [
    "leads_data.columns"
   ]
  },
  {
   "cell_type": "markdown",
   "metadata": {},
   "source": [
    "Some of the important columns in the dataset are LEAD ORIGIN,LEAD SCORES,Page Views Per Visit, City etc.\n",
    "\n",
    "The target variable, which we want to compare across the independent variables, is CONVERTED. Our strategy is to find out patterns by comparing target vairables and above listed attributes of leads data."
   ]
  },
  {
   "cell_type": "markdown",
   "metadata": {},
   "source": [
    "## Data Cleaning\n",
    "\n",
    "##### As per the problem statement, it is given that categorical columns have values \"Select\" which is nothing but NULL. So as first step we will replace \"select\" with np.nan"
   ]
  },
  {
   "cell_type": "code",
   "execution_count": 854,
   "metadata": {},
   "outputs": [
    {
     "data": {
      "text/plain": [
       "Mumbai                         3222\n",
       "Select                         2249\n",
       "Thane & Outskirts               752\n",
       "Other Cities                    686\n",
       "Other Cities of Maharashtra     457\n",
       "Other Metro Cities              380\n",
       "Tier II Cities                   74\n",
       "Name: City, dtype: int64"
      ]
     },
     "execution_count": 854,
     "metadata": {},
     "output_type": "execute_result"
    }
   ],
   "source": [
    "#before replace \"Select\" np.NaN in City\n",
    "leads_data.City.value_counts()"
   ]
  },
  {
   "cell_type": "code",
   "execution_count": 855,
   "metadata": {},
   "outputs": [
    {
     "data": {
      "text/plain": [
       "Select                               1942\n",
       "Finance Management                    976\n",
       "Human Resource Management             848\n",
       "Marketing Management                  838\n",
       "Operations Management                 503\n",
       "Business Administration               403\n",
       "IT Projects Management                366\n",
       "Supply Chain Management               349\n",
       "Banking, Investment And Insurance     338\n",
       "Travel and Tourism                    203\n",
       "Media and Advertising                 203\n",
       "International Business                178\n",
       "Healthcare Management                 159\n",
       "Hospitality Management                114\n",
       "E-COMMERCE                            112\n",
       "Retail Management                     100\n",
       "Rural and Agribusiness                 73\n",
       "E-Business                             57\n",
       "Services Excellence                    40\n",
       "Name: Specialization, dtype: int64"
      ]
     },
     "execution_count": 855,
     "metadata": {},
     "output_type": "execute_result"
    }
   ],
   "source": [
    "#before replace \"Select\" np.NaN in Specialization\n",
    "leads_data.Specialization.value_counts()"
   ]
  },
  {
   "cell_type": "code",
   "execution_count": 856,
   "metadata": {},
   "outputs": [
    {
     "data": {
      "text/plain": [
       "Select                         4146\n",
       "Potential Lead                 1613\n",
       "Other Leads                     487\n",
       "Student of SomeSchool           241\n",
       "Lateral Student                  24\n",
       "Dual Specialization Student      20\n",
       "Name: Lead Profile, dtype: int64"
      ]
     },
     "execution_count": 856,
     "metadata": {},
     "output_type": "execute_result"
    }
   ],
   "source": [
    "#before replace \"Select\" np.NaN in Lead Profile\n",
    "leads_data[\"Lead Profile\"].value_counts()"
   ]
  },
  {
   "cell_type": "code",
   "execution_count": 857,
   "metadata": {},
   "outputs": [],
   "source": [
    "#replace SELECT in categorical columns with np.NaN in whole dataframe\n",
    "leads_data.replace(\"Select\",np.NaN,inplace=True)"
   ]
  },
  {
   "cell_type": "code",
   "execution_count": 858,
   "metadata": {},
   "outputs": [
    {
     "data": {
      "text/plain": [
       "Finance Management                   976\n",
       "Human Resource Management            848\n",
       "Marketing Management                 838\n",
       "Operations Management                503\n",
       "Business Administration              403\n",
       "IT Projects Management               366\n",
       "Supply Chain Management              349\n",
       "Banking, Investment And Insurance    338\n",
       "Travel and Tourism                   203\n",
       "Media and Advertising                203\n",
       "International Business               178\n",
       "Healthcare Management                159\n",
       "Hospitality Management               114\n",
       "E-COMMERCE                           112\n",
       "Retail Management                    100\n",
       "Rural and Agribusiness                73\n",
       "E-Business                            57\n",
       "Services Excellence                   40\n",
       "Name: Specialization, dtype: int64"
      ]
     },
     "execution_count": 858,
     "metadata": {},
     "output_type": "execute_result"
    }
   ],
   "source": [
    "#Reverifying the column values Specialization\n",
    "leads_data.Specialization.value_counts()"
   ]
  },
  {
   "cell_type": "code",
   "execution_count": 859,
   "metadata": {},
   "outputs": [
    {
     "data": {
      "text/plain": [
       "Mumbai                         3222\n",
       "Thane & Outskirts               752\n",
       "Other Cities                    686\n",
       "Other Cities of Maharashtra     457\n",
       "Other Metro Cities              380\n",
       "Tier II Cities                   74\n",
       "Name: City, dtype: int64"
      ]
     },
     "execution_count": 859,
     "metadata": {},
     "output_type": "execute_result"
    }
   ],
   "source": [
    "#Reverifying the column values city\n",
    "leads_data.City.value_counts()"
   ]
  },
  {
   "cell_type": "code",
   "execution_count": 860,
   "metadata": {},
   "outputs": [
    {
     "data": {
      "text/plain": [
       "Potential Lead                 1613\n",
       "Other Leads                     487\n",
       "Student of SomeSchool           241\n",
       "Lateral Student                  24\n",
       "Dual Specialization Student      20\n",
       "Name: Lead Profile, dtype: int64"
      ]
     },
     "execution_count": 860,
     "metadata": {},
     "output_type": "execute_result"
    }
   ],
   "source": [
    "#Reverifying the column values in Lead Profile\n",
    "leads_data[\"Lead Profile\"].value_counts()"
   ]
  },
  {
   "cell_type": "code",
   "execution_count": 861,
   "metadata": {},
   "outputs": [
    {
     "data": {
      "text/plain": [
       "Prospect ID                                       0.0\n",
       "Lead Number                                       0.0\n",
       "Lead Origin                                       0.0\n",
       "Lead Source                                       0.0\n",
       "Do Not Email                                      0.0\n",
       "Do Not Call                                       0.0\n",
       "Converted                                         0.0\n",
       "TotalVisits                                       1.0\n",
       "Total Time Spent on Website                       0.0\n",
       "Page Views Per Visit                              1.0\n",
       "Last Activity                                     1.0\n",
       "Country                                          27.0\n",
       "Specialization                                   37.0\n",
       "How did you hear about X Education               78.0\n",
       "What is your current occupation                  29.0\n",
       "What matters most to you in choosing a course    29.0\n",
       "Search                                            0.0\n",
       "Magazine                                          0.0\n",
       "Newspaper Article                                 0.0\n",
       "X Education Forums                                0.0\n",
       "Newspaper                                         0.0\n",
       "Digital Advertisement                             0.0\n",
       "Through Recommendations                           0.0\n",
       "Receive More Updates About Our Courses            0.0\n",
       "Tags                                             36.0\n",
       "Lead Quality                                     52.0\n",
       "Update me on Supply Chain Content                 0.0\n",
       "Get updates on DM Content                         0.0\n",
       "Lead Profile                                     74.0\n",
       "City                                             40.0\n",
       "Asymmetrique Activity Index                      46.0\n",
       "Asymmetrique Profile Index                       46.0\n",
       "Asymmetrique Activity Score                      46.0\n",
       "Asymmetrique Profile Score                       46.0\n",
       "I agree to pay the amount through cheque          0.0\n",
       "A free copy of Mastering The Interview            0.0\n",
       "Last Notable Activity                             0.0\n",
       "dtype: float64"
      ]
     },
     "execution_count": 861,
     "metadata": {},
     "output_type": "execute_result"
    }
   ],
   "source": [
    "# finding percentage of missing values in each column\n",
    "round(leads_data.isnull().sum()/len(leads_data.index), 2)*100"
   ]
  },
  {
   "cell_type": "markdown",
   "metadata": {},
   "source": [
    "Now, we are going to drop these columns from the data set."
   ]
  },
  {
   "cell_type": "markdown",
   "metadata": {},
   "source": [
    "#### Now examining the data in categorical columns to validate skewness\n",
    "1. Lead Origin\n",
    "2. Lead Source\n",
    "3. Country\n",
    "4. Specialization                                   \n",
    "5. What is your current occupation\n",
    "6. City"
   ]
  },
  {
   "cell_type": "code",
   "execution_count": 862,
   "metadata": {},
   "outputs": [
    {
     "name": "stdout",
     "output_type": "stream",
     "text": [
      "Column - Lead Origin\n",
      "----------------------------\n",
      "Landing Page Submission    53.0\n",
      "API                        39.0\n",
      "Lead Add Form               8.0\n",
      "Lead Import                 1.0\n",
      "Quick Add Form              0.0\n",
      "Name: Lead Origin, dtype: float64\n",
      "\n",
      "\n",
      "Column - Lead Source\n",
      "----------------------------\n",
      "Google               31.0\n",
      "Direct Traffic       28.0\n",
      "Olark Chat           19.0\n",
      "Organic Search       12.0\n",
      "Reference             6.0\n",
      "Welingak Website      2.0\n",
      "Referral Sites        1.0\n",
      "Facebook              1.0\n",
      "bing                  0.0\n",
      "google                0.0\n",
      "Click2call            0.0\n",
      "Live Chat             0.0\n",
      "Social Media          0.0\n",
      "Press_Release         0.0\n",
      "testone               0.0\n",
      "NC_EDM                0.0\n",
      "WeLearn               0.0\n",
      "youtubechannel        0.0\n",
      "blog                  0.0\n",
      "Pay per Click Ads     0.0\n",
      "welearnblog_Home      0.0\n",
      "Name: Lead Source, dtype: float64\n",
      "\n",
      "\n",
      "Column - Country\n",
      "----------------------------\n",
      "India                   70.0\n",
      "United States            1.0\n",
      "United Arab Emirates     1.0\n",
      "Singapore                0.0\n",
      "Saudi Arabia             0.0\n",
      "United Kingdom           0.0\n",
      "Australia                0.0\n",
      "Qatar                    0.0\n",
      "Bahrain                  0.0\n",
      "Hong Kong                0.0\n",
      "Oman                     0.0\n",
      "France                   0.0\n",
      "unknown                  0.0\n",
      "Germany                  0.0\n",
      "South Africa             0.0\n",
      "Canada                   0.0\n",
      "Kuwait                   0.0\n",
      "Nigeria                  0.0\n",
      "Sweden                   0.0\n",
      "Asia/Pacific Region      0.0\n",
      "Bangladesh               0.0\n",
      "Uganda                   0.0\n",
      "China                    0.0\n",
      "Belgium                  0.0\n",
      "Italy                    0.0\n",
      "Philippines              0.0\n",
      "Netherlands              0.0\n",
      "Ghana                    0.0\n",
      "Vietnam                  0.0\n",
      "Indonesia                0.0\n",
      "Kenya                    0.0\n",
      "Malaysia                 0.0\n",
      "Russia                   0.0\n",
      "Tanzania                 0.0\n",
      "Sri Lanka                0.0\n",
      "Denmark                  0.0\n",
      "Switzerland              0.0\n",
      "Liberia                  0.0\n",
      "Name: Country, dtype: float64\n",
      "\n",
      "\n",
      "Column - Specialization\n",
      "----------------------------\n",
      "Finance Management                   11.0\n",
      "Human Resource Management             9.0\n",
      "Marketing Management                  9.0\n",
      "Operations Management                 5.0\n",
      "Business Administration               4.0\n",
      "IT Projects Management                4.0\n",
      "Supply Chain Management               4.0\n",
      "Banking, Investment And Insurance     4.0\n",
      "Travel and Tourism                    2.0\n",
      "Media and Advertising                 2.0\n",
      "International Business                2.0\n",
      "Healthcare Management                 2.0\n",
      "Hospitality Management                1.0\n",
      "E-COMMERCE                            1.0\n",
      "Retail Management                     1.0\n",
      "Rural and Agribusiness                1.0\n",
      "E-Business                            1.0\n",
      "Services Excellence                   0.0\n",
      "Name: Specialization, dtype: float64\n",
      "\n",
      "\n",
      "Column - What is your current occupation\n",
      "----------------------------\n",
      "Unemployed              61.0\n",
      "Working Professional     8.0\n",
      "Student                  2.0\n",
      "Other                    0.0\n",
      "Housewife                0.0\n",
      "Businessman              0.0\n",
      "Name: What is your current occupation, dtype: float64\n",
      "\n",
      "\n",
      "Column - City\n",
      "----------------------------\n",
      "Mumbai                         35.0\n",
      "Thane & Outskirts               8.0\n",
      "Other Cities                    7.0\n",
      "Other Cities of Maharashtra     5.0\n",
      "Other Metro Cities              4.0\n",
      "Tier II Cities                  1.0\n",
      "Name: City, dtype: float64\n",
      "\n",
      "\n"
     ]
    }
   ],
   "source": [
    "categorical_columns =[\"Lead Origin\",\"Lead Source\",\"Country\",\"Specialization\",\"What is your current occupation\",\"City\"]\n",
    "\n",
    "for x in categorical_columns:\n",
    "    print(\"Column - \" + x)\n",
    "    print(\"----------------------------\")\n",
    "    print(round(leads_data[x].value_counts()/len(leads_data[x]), 2)*100)\n",
    "    print(\"\\n\")\n",
    "    "
   ]
  },
  {
   "cell_type": "markdown",
   "metadata": {},
   "source": [
    "1. In column `Lead Origin`, percentage of value counts of most of the cateogries `Lead Add Form`,`Lead Import` and `Quick Add Form` are low so we have decided to club them in \"Lead Import/Add Form\" in newly derived column\n",
    "2. In column `Lead Source`, we can see except top four cateogires other are very low in percentage so we have decided to club rest of the categories under `Others` in newly derived column\n",
    "3. `Country`column is highly skewable which leads to data imbalance. Here, better choice would be to drop it.\n",
    "4. In column `Current Occupation` we can see the daya is skews and major chunk of data is for `Unemployed` and this column has `29% NULL values`. Even if we impute these null values with MODE it will lead to data imbalance hence better approach is to drop this column from dataset.\n",
    "5. Columns `City` and `Specialization` have apprx 40% NULL values. We will drop these columns.\n",
    "\n",
    "Once we create newly derived columns , we will drop the existing columns from the data frames. "
   ]
  },
  {
   "cell_type": "code",
   "execution_count": 863,
   "metadata": {},
   "outputs": [],
   "source": [
    "def der_lead_origin(x):\n",
    "    if x in(\"Lead Add Form\",\"Lead Import\",\"Quick Add Form\"):\n",
    "        return(\"Lead Import/Add Form\")\n",
    "    else:\n",
    "        return(x)\n",
    "\n",
    "def der_source_origin(x):\n",
    "    if x not in(\"Google\",\"Direct Traffic\",\"Olark Chat\",\"Organic Search\"):\n",
    "        return(\"Others\")\n",
    "    else:\n",
    "        return(x)"
   ]
  },
  {
   "cell_type": "code",
   "execution_count": 864,
   "metadata": {},
   "outputs": [],
   "source": [
    "#Creating new columns Lead Origin New Lead Source New Current occupation\n",
    "leads_data[\"Lead Origin New\"]=leads_data[\"Lead Origin\"].apply(der_lead_origin)\n",
    "leads_data[\"Lead Source New\"]=leads_data[\"Lead Source\"].apply(der_source_origin)"
   ]
  },
  {
   "cell_type": "code",
   "execution_count": 865,
   "metadata": {},
   "outputs": [
    {
     "name": "stdout",
     "output_type": "stream",
     "text": [
      "Column - Lead Origin New\n",
      "----------------------------\n",
      "Landing Page Submission    53.0\n",
      "API                        39.0\n",
      "Lead Import/Add Form        8.0\n",
      "Name: Lead Origin New, dtype: float64\n",
      "\n",
      "\n",
      "Column - Lead Source New\n",
      "----------------------------\n",
      "Google            31.0\n",
      "Direct Traffic    28.0\n",
      "Olark Chat        19.0\n",
      "Organic Search    12.0\n",
      "Others            10.0\n",
      "Name: Lead Source New, dtype: float64\n",
      "\n",
      "\n"
     ]
    }
   ],
   "source": [
    "#Printing values after\n",
    "for x in (\"Lead Origin New\",\"Lead Source New\"):\n",
    "    print(\"Column - \" + x)\n",
    "    print(\"----------------------------\")\n",
    "    print(round(leads_data[x].value_counts()/len(leads_data[x]), 2)*100)\n",
    "    print(\"\\n\")"
   ]
  },
  {
   "cell_type": "markdown",
   "metadata": {},
   "source": [
    "##### Above we checked the number of missing values are greater than 5 for single rows and we have not found significant number of data."
   ]
  },
  {
   "cell_type": "markdown",
   "metadata": {},
   "source": [
    "##### After examining the null data we are dropping following columns fromthe data sets which are having missing values greater than 20%\n",
    "1. Country\n",
    "2. How did you hear about X Education\n",
    "3. What is your current occupation\n",
    "4. What matters most to you in choosing a course\n",
    "5. Tags\n",
    "6. Lead Quality\n",
    "7. Lead Profile\n",
    "8. Asymmetrique Activity Index\n",
    "9. Asymmetrique Profile Index\n",
    "10. Asymmetrique Activity Score\n",
    "11. Asymmetrique Profile Score\n",
    "12. Last Notable Activity \n",
    "13. Last Activity\n",
    "\n",
    "`Receive More Updates About Our Courses` and `Magazine` having only single values `No` for all records. Hence there is no need of these columns in data set."
   ]
  },
  {
   "cell_type": "code",
   "execution_count": 866,
   "metadata": {},
   "outputs": [],
   "source": [
    "missing_columns=['Country','How did you hear about X Education',\n",
    "        \"What is your current occupation\",\n",
    "       'What matters most to you in choosing a course','Tags', 'Lead Quality',       \n",
    "       'Lead Profile','Asymmetrique Activity Index',\n",
    "       'Asymmetrique Profile Index', 'Asymmetrique Activity Score',\n",
    "       'Asymmetrique Profile Score','Last Notable Activity',\n",
    "        'Last Activity',\"City\",\"Specialization\",\"Lead Origin\",\"Lead Source\",\"Receive More Updates About Our Courses\",\"Magazine\"]"
   ]
  },
  {
   "cell_type": "code",
   "execution_count": 867,
   "metadata": {},
   "outputs": [
    {
     "name": "stdout",
     "output_type": "stream",
     "text": [
      "(9240, 20)\n"
     ]
    }
   ],
   "source": [
    "leads_data = leads_data.drop(missing_columns, axis=1)\n",
    "print(leads_data.shape)"
   ]
  },
  {
   "cell_type": "code",
   "execution_count": 868,
   "metadata": {},
   "outputs": [
    {
     "data": {
      "text/plain": [
       "Prospect ID                                 0.0\n",
       "Lead Number                                 0.0\n",
       "Do Not Email                                0.0\n",
       "Do Not Call                                 0.0\n",
       "Converted                                   0.0\n",
       "TotalVisits                                 1.0\n",
       "Total Time Spent on Website                 0.0\n",
       "Page Views Per Visit                        1.0\n",
       "Search                                      0.0\n",
       "Newspaper Article                           0.0\n",
       "X Education Forums                          0.0\n",
       "Newspaper                                   0.0\n",
       "Digital Advertisement                       0.0\n",
       "Through Recommendations                     0.0\n",
       "Update me on Supply Chain Content           0.0\n",
       "Get updates on DM Content                   0.0\n",
       "I agree to pay the amount through cheque    0.0\n",
       "A free copy of Mastering The Interview      0.0\n",
       "Lead Origin New                             0.0\n",
       "Lead Source New                             0.0\n",
       "dtype: float64"
      ]
     },
     "execution_count": 868,
     "metadata": {},
     "output_type": "execute_result"
    }
   ],
   "source": [
    "# Revalidating percentage of missing values in each column\n",
    "round(leads_data.isnull().sum()/len(leads_data.index), 2)*100"
   ]
  },
  {
   "cell_type": "markdown",
   "metadata": {},
   "source": [
    "From above we can see columns `TotalVisits` and `Page Views Per Visit` have `1% NULL values`. Hence, we will impute these NULL values with their respective mean values."
   ]
  },
  {
   "cell_type": "code",
   "execution_count": 869,
   "metadata": {},
   "outputs": [
    {
     "data": {
      "text/plain": [
       "3.445237833681204"
      ]
     },
     "execution_count": 869,
     "metadata": {},
     "output_type": "execute_result"
    }
   ],
   "source": [
    "#Finding mean value for 'TotalVisits'\n",
    "leads_data.TotalVisits.mean()"
   ]
  },
  {
   "cell_type": "code",
   "execution_count": 870,
   "metadata": {},
   "outputs": [
    {
     "data": {
      "text/plain": [
       "2.3628199494672093"
      ]
     },
     "execution_count": 870,
     "metadata": {},
     "output_type": "execute_result"
    }
   ],
   "source": [
    "#Finding mean value for 'Page Views Per Visit'\n",
    "leads_data[\"Page Views Per Visit\"].mean()"
   ]
  },
  {
   "cell_type": "code",
   "execution_count": 871,
   "metadata": {},
   "outputs": [],
   "source": [
    "leads_data.TotalVisits.replace(np.NaN,3.44,inplace=True)"
   ]
  },
  {
   "cell_type": "code",
   "execution_count": 872,
   "metadata": {},
   "outputs": [],
   "source": [
    "leads_data[\"Page Views Per Visit\"].replace(np.NaN,2.36,inplace=True)"
   ]
  },
  {
   "cell_type": "code",
   "execution_count": 873,
   "metadata": {},
   "outputs": [
    {
     "data": {
      "text/plain": [
       "Prospect ID                                 0.0\n",
       "Lead Number                                 0.0\n",
       "Do Not Email                                0.0\n",
       "Do Not Call                                 0.0\n",
       "Converted                                   0.0\n",
       "TotalVisits                                 0.0\n",
       "Total Time Spent on Website                 0.0\n",
       "Page Views Per Visit                        0.0\n",
       "Search                                      0.0\n",
       "Newspaper Article                           0.0\n",
       "X Education Forums                          0.0\n",
       "Newspaper                                   0.0\n",
       "Digital Advertisement                       0.0\n",
       "Through Recommendations                     0.0\n",
       "Update me on Supply Chain Content           0.0\n",
       "Get updates on DM Content                   0.0\n",
       "I agree to pay the amount through cheque    0.0\n",
       "A free copy of Mastering The Interview      0.0\n",
       "Lead Origin New                             0.0\n",
       "Lead Source New                             0.0\n",
       "dtype: float64"
      ]
     },
     "execution_count": 873,
     "metadata": {},
     "output_type": "execute_result"
    }
   ],
   "source": [
    "# Revalidating percentage of missing values in each column\n",
    "round(leads_data.isnull().sum()/len(leads_data.index), 2)*100"
   ]
  },
  {
   "cell_type": "code",
   "execution_count": 874,
   "metadata": {},
   "outputs": [
    {
     "data": {
      "text/plain": [
       "0"
      ]
     },
     "execution_count": 874,
     "metadata": {},
     "output_type": "execute_result"
    }
   ],
   "source": [
    "# checking whether some rows have more than 5 missing values\n",
    "len(leads_data[leads_data.isnull().sum(axis=1) > 1].index)"
   ]
  },
  {
   "cell_type": "code",
   "execution_count": 875,
   "metadata": {},
   "outputs": [],
   "source": [
    "#Correcting the data type for columns containing continuous values"
   ]
  },
  {
   "cell_type": "code",
   "execution_count": 876,
   "metadata": {},
   "outputs": [],
   "source": [
    "leads_data.TotalVisits=leads_data.TotalVisits.astype(\"int64\")\n",
    "leads_data[\"Page Views Per Visit\"]=leads_data[\"Page Views Per Visit\"].astype(\"int64\")"
   ]
  },
  {
   "cell_type": "code",
   "execution_count": 877,
   "metadata": {},
   "outputs": [
    {
     "data": {
      "text/plain": [
       "dtype('int64')"
      ]
     },
     "execution_count": 877,
     "metadata": {},
     "output_type": "execute_result"
    }
   ],
   "source": [
    "leads_data.TotalVisits.dtype"
   ]
  },
  {
   "cell_type": "code",
   "execution_count": 878,
   "metadata": {},
   "outputs": [
    {
     "data": {
      "text/plain": [
       "dtype('int64')"
      ]
     },
     "execution_count": 878,
     "metadata": {},
     "output_type": "execute_result"
    }
   ],
   "source": [
    "leads_data[\"Page Views Per Visit\"].dtype"
   ]
  },
  {
   "cell_type": "markdown",
   "metadata": {},
   "source": [
    "## Step 2- Data visualisation(EDA)"
   ]
  },
  {
   "cell_type": "markdown",
   "metadata": {},
   "source": [
    "### OUTLIERS analysis and treatment"
   ]
  },
  {
   "cell_type": "code",
   "execution_count": 879,
   "metadata": {},
   "outputs": [
    {
     "data": {
      "image/png": "[encoded data removed]",
      "text/plain": [
       "<Figure size 1008x288 with 1 Axes>"
      ]
     },
     "metadata": {
      "needs_background": "light"
     },
     "output_type": "display_data"
    }
   ],
   "source": [
    "#Finding outliers for TotalVisits\n",
    "plt.figure(figsize=[14,4])\n",
    "sns.boxplot(data=leads_data,x=\"TotalVisits\")\n",
    "plt.show()"
   ]
  },
  {
   "cell_type": "code",
   "execution_count": 880,
   "metadata": {},
   "outputs": [
    {
     "data": {
      "text/plain": [
       "0.01     0.0\n",
       "0.02     0.0\n",
       "0.03     0.0\n",
       "0.05     0.0\n",
       "0.10     0.0\n",
       "0.25     1.0\n",
       "0.50     3.0\n",
       "0.70     4.0\n",
       "0.90     7.0\n",
       "0.95    10.0\n",
       "0.99    17.0\n",
       "Name: TotalVisits, dtype: float64"
      ]
     },
     "execution_count": 880,
     "metadata": {},
     "output_type": "execute_result"
    }
   ],
   "source": [
    "#Finding quantile for TotalVisits\n",
    "leads_data.TotalVisits.quantile([0.01,0.02,0.03,0.05,0.1,0.25,0.5,0.7,0.9,0.95,0.99])"
   ]
  },
  {
   "cell_type": "markdown",
   "metadata": {},
   "source": [
    "##### From above we can say the 99the quantile of the data is under 17. Anything above 17 would be consisered as outliers. "
   ]
  },
  {
   "cell_type": "code",
   "execution_count": 881,
   "metadata": {},
   "outputs": [],
   "source": [
    "#Removing outliers from TotalVisits\n",
    "leads_data=leads_data[~(leads_data[\"TotalVisits\"]>17)]"
   ]
  },
  {
   "cell_type": "code",
   "execution_count": 882,
   "metadata": {},
   "outputs": [
    {
     "data": {
      "image/png": "[encoded data removed]",
      "text/plain": [
       "<Figure size 1008x288 with 1 Axes>"
      ]
     },
     "metadata": {
      "needs_background": "light"
     },
     "output_type": "display_data"
    }
   ],
   "source": [
    "#Again Checking outliers for TotalVisits\n",
    "plt.figure(figsize=[14,4])\n",
    "sns.boxplot(data=leads_data,x=\"TotalVisits\")\n",
    "plt.show()"
   ]
  },
  {
   "cell_type": "code",
   "execution_count": 883,
   "metadata": {},
   "outputs": [
    {
     "data": {
      "image/png": "[encoded data removed]",
      "text/plain": [
       "<Figure size 1008x288 with 1 Axes>"
      ]
     },
     "metadata": {
      "needs_background": "light"
     },
     "output_type": "display_data"
    }
   ],
   "source": [
    "#Finding outliers for Total Time Spent on Website\n",
    "plt.figure(figsize=[14,4])\n",
    "sns.boxplot(data=leads_data,x=\"Total Time Spent on Website\")\n",
    "plt.show()"
   ]
  },
  {
   "cell_type": "markdown",
   "metadata": {},
   "source": [
    "##### We have not found any outliers in Total Time Spent on Website"
   ]
  },
  {
   "cell_type": "code",
   "execution_count": 884,
   "metadata": {},
   "outputs": [
    {
     "data": {
      "image/png": "[encoded data removed]",
      "text/plain": [
       "<Figure size 1008x288 with 1 Axes>"
      ]
     },
     "metadata": {
      "needs_background": "light"
     },
     "output_type": "display_data"
    }
   ],
   "source": [
    "#Finding outliers for Page Views Per Visit\n",
    "plt.figure(figsize=[14,4])\n",
    "sns.boxplot(data=leads_data,x=\"Page Views Per Visit\")\n",
    "plt.show()"
   ]
  },
  {
   "cell_type": "code",
   "execution_count": 885,
   "metadata": {},
   "outputs": [
    {
     "data": {
      "text/plain": [
       "0.01    0.0\n",
       "0.02    0.0\n",
       "0.03    0.0\n",
       "0.05    0.0\n",
       "0.10    0.0\n",
       "0.25    1.0\n",
       "0.50    2.0\n",
       "0.70    3.0\n",
       "0.90    5.0\n",
       "0.95    6.0\n",
       "0.99    9.0\n",
       "Name: Page Views Per Visit, dtype: float64"
      ]
     },
     "execution_count": 885,
     "metadata": {},
     "output_type": "execute_result"
    }
   ],
   "source": [
    "#Finding quantile for Page Views Per Visit\n",
    "leads_data[\"Page Views Per Visit\"].quantile([0.01,0.02,0.03,0.05,0.1,0.25,0.5,0.7,0.9,0.95,0.99])"
   ]
  },
  {
   "cell_type": "markdown",
   "metadata": {},
   "source": [
    "##### From above we can say the 99the quantile of the data is under 9. Anything above 9 would be consisered as outliers. "
   ]
  },
  {
   "cell_type": "code",
   "execution_count": 886,
   "metadata": {},
   "outputs": [],
   "source": [
    "#Removing outliers from Page Views Per Visit\n",
    "leads_data=leads_data[~(leads_data[\"Page Views Per Visit\"]>9)]"
   ]
  },
  {
   "cell_type": "code",
   "execution_count": 887,
   "metadata": {},
   "outputs": [
    {
     "data": {
      "image/png": "[encoded data removed]",
      "text/plain": [
       "<Figure size 1008x288 with 1 Axes>"
      ]
     },
     "metadata": {
      "needs_background": "light"
     },
     "output_type": "display_data"
    }
   ],
   "source": [
    "#Again checking outliers for Page Views Per Visit\n",
    "plt.figure(figsize=[14,4])\n",
    "sns.boxplot(data=leads_data,x=\"Page Views Per Visit\")\n",
    "plt.show()"
   ]
  },
  {
   "cell_type": "markdown",
   "metadata": {},
   "source": [
    "#### Percentage of rows retain after data cleaning and outliers treatment.\n"
   ]
  },
  {
   "cell_type": "code",
   "execution_count": 888,
   "metadata": {},
   "outputs": [
    {
     "name": "stdout",
     "output_type": "stream",
     "text": [
      "98%\n"
     ]
    }
   ],
   "source": [
    "orig_num_rows = 9240\n",
    "rows_retain = 9090\n",
    "\n",
    "percent_rows_retain = rows_retain / orig_num_rows *100\n",
    "print(str(round(percent_rows_retain)) + \"%\")"
   ]
  },
  {
   "cell_type": "markdown",
   "metadata": {},
   "source": [
    "### Now performing UNIVARIATE/BIVARIATE analysis of our target variable with other categorical variables."
   ]
  },
  {
   "cell_type": "code",
   "execution_count": 889,
   "metadata": {},
   "outputs": [
    {
     "data": {
      "image/png": "[encoded data removed]",
      "text/plain": [
       "<Figure size 720x432 with 2 Axes>"
      ]
     },
     "metadata": {
      "needs_background": "light"
     },
     "output_type": "display_data"
    }
   ],
   "source": [
    "#plot the bar graph of percentage INCOME_GROUP categories in app_data_delay AND app_data_ontime\n",
    "plt.figure(figsize=[10,6])\n",
    "plt.subplot(1,2,1)\n",
    "leads_data[\"Lead Origin New\"].value_counts(normalize=True).plot.bar()\n",
    "plt.ylabel(\"LEAD ORIGIN\")\n",
    "plt.subplot(1,2,2)\n",
    "leads_data[\"Lead Source New\"].value_counts(normalize=True).plot.bar()\n",
    "plt.xlabel(\"LEAD SOURCE\")\n",
    "plt.show()"
   ]
  },
  {
   "cell_type": "markdown",
   "metadata": {},
   "source": [
    "### Bivariate and Multivariate Analysis"
   ]
  },
  {
   "cell_type": "markdown",
   "metadata": {},
   "source": [
    "#### Numeric- numeric analysis "
   ]
  },
  {
   "cell_type": "code",
   "execution_count": 890,
   "metadata": {},
   "outputs": [
    {
     "data": {
      "text/plain": [
       "<seaborn.axisgrid.PairGrid at 0x198b62d2dc0>"
      ]
     },
     "execution_count": 890,
     "metadata": {},
     "output_type": "execute_result"
    },
    {
     "data": {
      "image/png": "[encoded data removed]",
      "text/plain": [
       "<Figure size 540x540 with 12 Axes>"
      ]
     },
     "metadata": {
      "needs_background": "light"
     },
     "output_type": "display_data"
    }
   ],
   "source": [
    "#plot the pair plot of salary, balance and age in inp1 dataframe.\n",
    "sns.pairplot(data=leads_data,vars=[\"TotalVisits\",\"Total Time Spent on Website\",\"Page Views Per Visit\"])"
   ]
  },
  {
   "cell_type": "markdown",
   "metadata": {},
   "source": [
    "From above pair plot we are not able to find any conclusive pattern between `\"TotalVisits\",\"Total Time Spent on Website\",\"Page Views Per Visit\"`."
   ]
  },
  {
   "cell_type": "markdown",
   "metadata": {},
   "source": [
    "#### Numerical categorical variable analysis"
   ]
  },
  {
   "cell_type": "markdown",
   "metadata": {},
   "source": [
    "##### TotalVisits vs Converted"
   ]
  },
  {
   "cell_type": "code",
   "execution_count": 891,
   "metadata": {},
   "outputs": [
    {
     "data": {
      "text/plain": [
       "Converted\n",
       "0    3.042181\n",
       "1    3.298999\n",
       "Name: TotalVisits, dtype: float64"
      ]
     },
     "execution_count": 891,
     "metadata": {},
     "output_type": "execute_result"
    }
   ],
   "source": [
    "#groupby the Converted to find the mean of the Totalvisits with response 0 & 1 seperatly.\n",
    "leads_data.groupby(\"Converted\")[\"TotalVisits\"].mean()"
   ]
  },
  {
   "cell_type": "code",
   "execution_count": 892,
   "metadata": {},
   "outputs": [
    {
     "data": {
      "text/plain": [
       "Converted\n",
       "0    3\n",
       "1    3\n",
       "Name: TotalVisits, dtype: int64"
      ]
     },
     "execution_count": 892,
     "metadata": {},
     "output_type": "execute_result"
    }
   ],
   "source": [
    "#groupby the Converted to find the median of the Totalvisits with response 0 & 1 seperatly.\n",
    "leads_data.groupby(\"Converted\")[\"TotalVisits\"].median()"
   ]
  },
  {
   "cell_type": "code",
   "execution_count": 893,
   "metadata": {},
   "outputs": [
    {
     "data": {
      "image/png": "[encoded data removed]",
      "text/plain": [
       "<Figure size 432x288 with 1 Axes>"
      ]
     },
     "metadata": {
      "needs_background": "light"
     },
     "output_type": "display_data"
    }
   ],
   "source": [
    "#plot the box plot of TotalVisits for yes & no responses.\n",
    "sns.boxplot(data=leads_data,x=\"Converted\",y=\"TotalVisits\")\n",
    "plt.show()"
   ]
  },
  {
   "cell_type": "markdown",
   "metadata": {},
   "source": [
    "From above box plot of `TotalVisits vs Converted` we can see that mean is almost same for both converted and not converted. \n",
    "\n",
    "However, those who were converted have more number range of total visits. It could be one of the key factors in conversion of leads. "
   ]
  },
  {
   "cell_type": "markdown",
   "metadata": {},
   "source": [
    "##### Total Time Spent on Website  vs Converted"
   ]
  },
  {
   "cell_type": "code",
   "execution_count": 894,
   "metadata": {},
   "outputs": [
    {
     "data": {
      "text/plain": [
       "Converted\n",
       "0    328.416979\n",
       "1    733.700429\n",
       "Name: Total Time Spent on Website, dtype: float64"
      ]
     },
     "execution_count": 894,
     "metadata": {},
     "output_type": "execute_result"
    }
   ],
   "source": [
    "#groupby the Converted to find the mean of the Total Time Spent on Website with response 0 & 1 seperatly.\n",
    "leads_data.groupby(\"Converted\")[\"Total Time Spent on Website\"].mean()"
   ]
  },
  {
   "cell_type": "code",
   "execution_count": 895,
   "metadata": {},
   "outputs": [
    {
     "data": {
      "text/plain": [
       "Converted\n",
       "0    177\n",
       "1    829\n",
       "Name: Total Time Spent on Website, dtype: int64"
      ]
     },
     "execution_count": 895,
     "metadata": {},
     "output_type": "execute_result"
    }
   ],
   "source": [
    "#groupby the Converted to find the median of the Total Time Spent on Website with response 0 & 1 seperatly.\n",
    "leads_data.groupby(\"Converted\")[\"Total Time Spent on Website\"].median()"
   ]
  },
  {
   "cell_type": "code",
   "execution_count": 896,
   "metadata": {
    "scrolled": true
   },
   "outputs": [
    {
     "data": {
      "image/png": "[encoded data removed]",
      "text/plain": [
       "<Figure size 432x288 with 1 Axes>"
      ]
     },
     "metadata": {
      "needs_background": "light"
     },
     "output_type": "display_data"
    }
   ],
   "source": [
    "#plot the box plot of Total Time Spent on Website for yes & no responses.\n",
    "sns.boxplot(data=leads_data,x=\"Converted\",y=\"Total Time Spent on Website\")\n",
    "plt.show()"
   ]
  },
  {
   "cell_type": "markdown",
   "metadata": {},
   "source": [
    "From above box plot of `Total Time Spent on Website vs Converted` we can clearly see that those who spent more time on website have higher percentage of conversion rate. \n",
    "\n",
    "Definitely we can say if a leads spends moretime on website then higher chances of him to get converted"
   ]
  },
  {
   "cell_type": "markdown",
   "metadata": {},
   "source": [
    "##### Page Views Per Visit  vs Converted"
   ]
  },
  {
   "cell_type": "code",
   "execution_count": 897,
   "metadata": {},
   "outputs": [
    {
     "data": {
      "text/plain": [
       "Converted\n",
       "0    2.212869\n",
       "1    2.171388\n",
       "Name: Page Views Per Visit, dtype: float64"
      ]
     },
     "execution_count": 897,
     "metadata": {},
     "output_type": "execute_result"
    }
   ],
   "source": [
    "#groupby the Converted to find the mean of the Total Time Spent on Website with response 0 & 1 seperatly.\n",
    "leads_data.groupby(\"Converted\")[\"Page Views Per Visit\"].mean()"
   ]
  },
  {
   "cell_type": "code",
   "execution_count": 898,
   "metadata": {},
   "outputs": [
    {
     "data": {
      "text/plain": [
       "Converted\n",
       "0    2\n",
       "1    2\n",
       "Name: Page Views Per Visit, dtype: int64"
      ]
     },
     "execution_count": 898,
     "metadata": {},
     "output_type": "execute_result"
    }
   ],
   "source": [
    "#groupby the Converted to find the median of the Total Time Spent on Website with response 0 & 1 seperatly.\n",
    "leads_data.groupby(\"Converted\")[\"Page Views Per Visit\"].median()"
   ]
  },
  {
   "cell_type": "code",
   "execution_count": 899,
   "metadata": {},
   "outputs": [
    {
     "data": {
      "image/png": "[encoded data removed]",
      "text/plain": [
       "<Figure size 432x288 with 1 Axes>"
      ]
     },
     "metadata": {
      "needs_background": "light"
     },
     "output_type": "display_data"
    }
   ],
   "source": [
    "#plot the box plot of Total Time Spent on Website for yes & no responses.\n",
    "sns.boxplot(data=leads_data,x=\"Converted\",y=\"Page Views Per Visit\")\n",
    "plt.show()"
   ]
  },
  {
   "cell_type": "markdown",
   "metadata": {},
   "source": [
    "From above box plot of `Page Views Per Visit vs Converted` we can see that mean is almost same for both converted and not converted. \n",
    "\n",
    "We are not able to conclude anything from above plot though we can see converted category covers more ranges of pages views per visit"
   ]
  },
  {
   "cell_type": "markdown",
   "metadata": {},
   "source": [
    "##### Cateogrical vs categorical "
   ]
  },
  {
   "cell_type": "code",
   "execution_count": 900,
   "metadata": {},
   "outputs": [
    {
     "data": {
      "text/plain": [
       "Lead Origin New          Converted\n",
       "API                      0            68.996618\n",
       "                         1            31.003382\n",
       "Landing Page Submission  0            63.975676\n",
       "                         1            36.024324\n",
       "Lead Import/Add Form     0            12.419146\n",
       "                         1            87.580854\n",
       "dtype: float64"
      ]
     },
     "execution_count": 900,
     "metadata": {},
     "output_type": "execute_result"
    }
   ],
   "source": [
    "#calculate the mean of Converted with different Lead Origins.\n",
    "leads_data.groupby([\"Lead Origin New\",\"Converted\"])[\"Converted\"].count()/leads_data.groupby(\"Lead Origin New\")[\"Lead Origin New\"].count()*100"
   ]
  },
  {
   "cell_type": "code",
   "execution_count": 901,
   "metadata": {},
   "outputs": [
    {
     "data": {
      "text/plain": [
       "Lead Origin New          Converted\n",
       "API                      0            2448\n",
       "                         1            1100\n",
       "Landing Page Submission  0            3051\n",
       "                         1            1718\n",
       "Lead Import/Add Form     0              96\n",
       "                         1             677\n",
       "Name: Converted, dtype: int64"
      ]
     },
     "execution_count": 901,
     "metadata": {},
     "output_type": "execute_result"
    }
   ],
   "source": [
    "leads_data.groupby([\"Lead Origin New\",\"Converted\"])[\"Converted\"].count()"
   ]
  },
  {
   "cell_type": "markdown",
   "metadata": {},
   "source": [
    "From above stats we can see the customers who got identified as a lead from origin `Lead Import/Add Form(Lead Add Form,Lead Import,Quick Add Form)` have higher chances of getting converted successfully. \n",
    "\n",
    "Also, X education should focus on how they can increase the number of customers comes from `Lead Import/Add Form` , so that conversion rate would be increased."
   ]
  },
  {
   "cell_type": "code",
   "execution_count": 902,
   "metadata": {},
   "outputs": [
    {
     "data": {
      "text/plain": [
       "Lead Source New  Converted\n",
       "Direct Traffic   0            67.787115\n",
       "                 1            32.212885\n",
       "Google           0            60.084626\n",
       "                 1            39.915374\n",
       "Olark Chat       0            74.500856\n",
       "                 1            25.499144\n",
       "Organic Search   0            63.186813\n",
       "                 1            36.813187\n",
       "Others           0            22.087912\n",
       "                 1            77.912088\n",
       "dtype: float64"
      ]
     },
     "execution_count": 902,
     "metadata": {},
     "output_type": "execute_result"
    }
   ],
   "source": [
    "#calculate the mean of Converted with different Lead Sources.\n",
    "leads_data.groupby([\"Lead Source New\",\"Converted\"])[\"Converted\"].count()/leads_data.groupby(\"Lead Source New\")[\"Lead Source New\"].count()*100"
   ]
  },
  {
   "cell_type": "code",
   "execution_count": 903,
   "metadata": {},
   "outputs": [
    {
     "data": {
      "text/plain": [
       "Lead Source New  Converted\n",
       "Direct Traffic   0            1694\n",
       "                 1             805\n",
       "Google           0            1704\n",
       "                 1            1132\n",
       "Olark Chat       0            1306\n",
       "                 1             447\n",
       "Organic Search   0             690\n",
       "                 1             402\n",
       "Others           0             201\n",
       "                 1             709\n",
       "Name: Converted, dtype: int64"
      ]
     },
     "execution_count": 903,
     "metadata": {},
     "output_type": "execute_result"
    }
   ],
   "source": [
    "leads_data.groupby([\"Lead Source New\",\"Converted\"])[\"Converted\"].count()"
   ]
  },
  {
   "cell_type": "markdown",
   "metadata": {},
   "source": [
    "From above stats we can see that customers whose source is `Others` they have higher rate of conversion in a lead. However,the number of customers from these source are very less. X education should develop marketing strategies on these platforms so that customer counts should get increased ."
   ]
  },
  {
   "cell_type": "markdown",
   "metadata": {},
   "source": [
    "##### Next we are plotting the bar plot of target variable `Converted` with all binomial attibutes"
   ]
  },
  {
   "cell_type": "code",
   "execution_count": 904,
   "metadata": {},
   "outputs": [
    {
     "name": "stdout",
     "output_type": "stream",
     "text": [
      "'Do Not Email' with mean value of Converted 0 being No 1 being Yes \n",
      "Do Not Email  Converted\n",
      "No            0            59.668376\n",
      "              1            40.331624\n",
      "Yes           0            83.875530\n",
      "              1            16.124470\n",
      "dtype: float64\n",
      "Do Not Email  Converted\n",
      "No            0            5002\n",
      "              1            3381\n",
      "Yes           0             593\n",
      "              1             114\n",
      "Name: Converted, dtype: int64\n",
      "----------------------------------------------------------------------------\n",
      "'Do Not Call' with mean value of Converted 0 being No 1 being Yes \n",
      "Do Not Call  Converted\n",
      "No           0             61.564701\n",
      "             1             38.435299\n",
      "Yes          1            100.000000\n",
      "dtype: float64\n",
      "Do Not Call  Converted\n",
      "No           0            5595\n",
      "             1            3493\n",
      "Yes          1               2\n",
      "Name: Converted, dtype: int64\n",
      "----------------------------------------------------------------------------\n",
      "'Search' with mean value of Converted 0 being No 1 being Yes \n",
      "Search  Converted\n",
      "No      0            61.551173\n",
      "        1            38.448827\n",
      "Yes     0            61.538462\n",
      "        1            38.461538\n",
      "dtype: float64\n",
      "Search  Converted\n",
      "No      0            5587\n",
      "        1            3490\n",
      "Yes     0               8\n",
      "        1               5\n",
      "Name: Converted, dtype: int64\n",
      "----------------------------------------------------------------------------\n",
      "'Newspaper Article' with mean value of Converted 0 being No 1 being Yes \n",
      "Newspaper Article  Converted\n",
      "No                 0             61.557927\n",
      "                   1             38.442073\n",
      "Yes                1            100.000000\n",
      "dtype: float64\n",
      "Newspaper Article  Converted\n",
      "No                 0            5595\n",
      "                   1            3494\n",
      "Yes                1               1\n",
      "Name: Converted, dtype: int64\n",
      "----------------------------------------------------------------------------\n",
      "'X Education Forums' with mean value of Converted 0 being No 1 being Yes \n",
      "X Education Forums  Converted\n",
      "No                  0            61.551155\n",
      "                    1            38.448845\n",
      "dtype: float64\n",
      "X Education Forums  Converted\n",
      "No                  0            5595\n",
      "                    1            3495\n",
      "Name: Converted, dtype: int64\n",
      "----------------------------------------------------------------------------\n",
      "'Newspaper' with mean value of Converted 0 being No 1 being Yes \n",
      "Newspaper  Converted\n",
      "No         0             61.546925\n",
      "           1             38.453075\n",
      "Yes        0            100.000000\n",
      "dtype: float64\n",
      "Newspaper  Converted\n",
      "No         0            5594\n",
      "           1            3495\n",
      "Yes        0               1\n",
      "Name: Converted, dtype: int64\n",
      "----------------------------------------------------------------------------\n",
      "'Digital Advertisement' with mean value of Converted 0 being No 1 being Yes \n",
      "Digital Advertisement  Converted\n",
      "No                     0            61.549466\n",
      "                       1            38.450534\n",
      "Yes                    0            66.666667\n",
      "                       1            33.333333\n",
      "dtype: float64\n",
      "Digital Advertisement  Converted\n",
      "No                     0            5593\n",
      "                       1            3494\n",
      "Yes                    0               2\n",
      "                       1               1\n",
      "Name: Converted, dtype: int64\n",
      "----------------------------------------------------------------------------\n",
      "'Through Recommendations' with mean value of Converted 0 being No 1 being Yes \n",
      "Through Recommendations  Converted\n",
      "No                       0            61.580801\n",
      "                         1            38.419199\n",
      "Yes                      0            16.666667\n",
      "                         1            83.333333\n",
      "dtype: float64\n",
      "Through Recommendations  Converted\n",
      "No                       0            5594\n",
      "                         1            3490\n",
      "Yes                      0               1\n",
      "                         1               5\n",
      "Name: Converted, dtype: int64\n",
      "----------------------------------------------------------------------------\n",
      "'Get updates on DM Content' with mean value of Converted 0 being No 1 being Yes \n",
      "Get updates on DM Content  Converted\n",
      "No                         0            61.551155\n",
      "                           1            38.448845\n",
      "dtype: float64\n",
      "Get updates on DM Content  Converted\n",
      "No                         0            5595\n",
      "                           1            3495\n",
      "Name: Converted, dtype: int64\n",
      "----------------------------------------------------------------------------\n",
      "'Update me on Supply Chain Content' with mean value of Converted 0 being No 1 being Yes \n",
      "Update me on Supply Chain Content  Converted\n",
      "No                                 0            61.551155\n",
      "                                   1            38.448845\n",
      "dtype: float64\n",
      "Update me on Supply Chain Content  Converted\n",
      "No                                 0            5595\n",
      "                                   1            3495\n",
      "Name: Converted, dtype: int64\n",
      "----------------------------------------------------------------------------\n",
      "'I agree to pay the amount through cheque' with mean value of Converted 0 being No 1 being Yes \n",
      "I agree to pay the amount through cheque  Converted\n",
      "No                                        0            61.551155\n",
      "                                          1            38.448845\n",
      "dtype: float64\n",
      "I agree to pay the amount through cheque  Converted\n",
      "No                                        0            5595\n",
      "                                          1            3495\n",
      "Name: Converted, dtype: int64\n",
      "----------------------------------------------------------------------------\n",
      "'A free copy of Mastering The Interview' with mean value of Converted 0 being No 1 being Yes \n",
      "A free copy of Mastering The Interview  Converted\n",
      "No                                      0            60.187540\n",
      "                                        1            39.812460\n",
      "Yes                                     0            64.617584\n",
      "                                        1            35.382416\n",
      "dtype: float64\n",
      "A free copy of Mastering The Interview  Converted\n",
      "No                                      0            3787\n",
      "                                        1            2505\n",
      "Yes                                     0            1808\n",
      "                                        1             990\n",
      "Name: Converted, dtype: int64\n",
      "----------------------------------------------------------------------------\n"
     ]
    }
   ],
   "source": [
    "binomial_columns =[\"Do Not Email\",\"Do Not Call\",\"Search\",\"Newspaper Article\",\"X Education Forums\",\"Newspaper\",\"Digital Advertisement\",\"Through Recommendations\",\"Get updates on DM Content\",\"Update me on Supply Chain Content\",\"I agree to pay the amount through cheque\",\"A free copy of Mastering The Interview\"]\n",
    "\n",
    "for x in binomial_columns:\n",
    "    print(\"\\'\"+ x + \"\\'\" + \" with mean value of Converted 0 being No 1 being Yes \")    \n",
    "    print(leads_data.groupby([x,\"Converted\"])[\"Converted\"].count() /leads_data.groupby(x)[x].count()*100    )\n",
    "    print(leads_data.groupby([x,\"Converted\"])[\"Converted\"].count() )\n",
    "    print(\"----------------------------------------------------------------------------\")"
   ]
  },
  {
   "cell_type": "markdown",
   "metadata": {},
   "source": [
    "## Step 3 - Data prepartion to build model"
   ]
  },
  {
   "cell_type": "markdown",
   "metadata": {},
   "source": [
    "#### Converting some binary variables (No/Yes) to 0/1"
   ]
  },
  {
   "cell_type": "code",
   "execution_count": 905,
   "metadata": {},
   "outputs": [
    {
     "data": {
      "text/html": [
       "<div>\n",
       "<style scoped>\n",
       "    .dataframe tbody tr th:only-of-type {\n",
       "        vertical-align: middle;\n",
       "    }\n",
       "\n",
       "    .dataframe tbody tr th {\n",
       "        vertical-align: top;\n",
       "    }\n",
       "\n",
       "    .dataframe thead th {\n",
       "        text-align: right;\n",
       "    }\n",
       "</style>\n",
       "<table border=\"1\" class=\"dataframe\">\n",
       "  <thead>\n",
       "    <tr style=\"text-align: right;\">\n",
       "      <th></th>\n",
       "      <th>Do Not Email</th>\n",
       "      <th>Do Not Call</th>\n",
       "      <th>Search</th>\n",
       "      <th>Newspaper Article</th>\n",
       "      <th>X Education Forums</th>\n",
       "      <th>Newspaper</th>\n",
       "      <th>Digital Advertisement</th>\n",
       "      <th>Through Recommendations</th>\n",
       "      <th>Get updates on DM Content</th>\n",
       "      <th>Update me on Supply Chain Content</th>\n",
       "      <th>I agree to pay the amount through cheque</th>\n",
       "      <th>A free copy of Mastering The Interview</th>\n",
       "    </tr>\n",
       "  </thead>\n",
       "  <tbody>\n",
       "    <tr>\n",
       "      <th>0</th>\n",
       "      <td>No</td>\n",
       "      <td>No</td>\n",
       "      <td>No</td>\n",
       "      <td>No</td>\n",
       "      <td>No</td>\n",
       "      <td>No</td>\n",
       "      <td>No</td>\n",
       "      <td>No</td>\n",
       "      <td>No</td>\n",
       "      <td>No</td>\n",
       "      <td>No</td>\n",
       "      <td>No</td>\n",
       "    </tr>\n",
       "    <tr>\n",
       "      <th>1</th>\n",
       "      <td>No</td>\n",
       "      <td>No</td>\n",
       "      <td>No</td>\n",
       "      <td>No</td>\n",
       "      <td>No</td>\n",
       "      <td>No</td>\n",
       "      <td>No</td>\n",
       "      <td>No</td>\n",
       "      <td>No</td>\n",
       "      <td>No</td>\n",
       "      <td>No</td>\n",
       "      <td>No</td>\n",
       "    </tr>\n",
       "    <tr>\n",
       "      <th>2</th>\n",
       "      <td>No</td>\n",
       "      <td>No</td>\n",
       "      <td>No</td>\n",
       "      <td>No</td>\n",
       "      <td>No</td>\n",
       "      <td>No</td>\n",
       "      <td>No</td>\n",
       "      <td>No</td>\n",
       "      <td>No</td>\n",
       "      <td>No</td>\n",
       "      <td>No</td>\n",
       "      <td>Yes</td>\n",
       "    </tr>\n",
       "    <tr>\n",
       "      <th>3</th>\n",
       "      <td>No</td>\n",
       "      <td>No</td>\n",
       "      <td>No</td>\n",
       "      <td>No</td>\n",
       "      <td>No</td>\n",
       "      <td>No</td>\n",
       "      <td>No</td>\n",
       "      <td>No</td>\n",
       "      <td>No</td>\n",
       "      <td>No</td>\n",
       "      <td>No</td>\n",
       "      <td>No</td>\n",
       "    </tr>\n",
       "    <tr>\n",
       "      <th>4</th>\n",
       "      <td>No</td>\n",
       "      <td>No</td>\n",
       "      <td>No</td>\n",
       "      <td>No</td>\n",
       "      <td>No</td>\n",
       "      <td>No</td>\n",
       "      <td>No</td>\n",
       "      <td>No</td>\n",
       "      <td>No</td>\n",
       "      <td>No</td>\n",
       "      <td>No</td>\n",
       "      <td>No</td>\n",
       "    </tr>\n",
       "    <tr>\n",
       "      <th>...</th>\n",
       "      <td>...</td>\n",
       "      <td>...</td>\n",
       "      <td>...</td>\n",
       "      <td>...</td>\n",
       "      <td>...</td>\n",
       "      <td>...</td>\n",
       "      <td>...</td>\n",
       "      <td>...</td>\n",
       "      <td>...</td>\n",
       "      <td>...</td>\n",
       "      <td>...</td>\n",
       "      <td>...</td>\n",
       "    </tr>\n",
       "    <tr>\n",
       "      <th>9235</th>\n",
       "      <td>Yes</td>\n",
       "      <td>No</td>\n",
       "      <td>No</td>\n",
       "      <td>No</td>\n",
       "      <td>No</td>\n",
       "      <td>No</td>\n",
       "      <td>No</td>\n",
       "      <td>No</td>\n",
       "      <td>No</td>\n",
       "      <td>No</td>\n",
       "      <td>No</td>\n",
       "      <td>No</td>\n",
       "    </tr>\n",
       "    <tr>\n",
       "      <th>9236</th>\n",
       "      <td>No</td>\n",
       "      <td>No</td>\n",
       "      <td>No</td>\n",
       "      <td>No</td>\n",
       "      <td>No</td>\n",
       "      <td>No</td>\n",
       "      <td>No</td>\n",
       "      <td>No</td>\n",
       "      <td>No</td>\n",
       "      <td>No</td>\n",
       "      <td>No</td>\n",
       "      <td>Yes</td>\n",
       "    </tr>\n",
       "    <tr>\n",
       "      <th>9237</th>\n",
       "      <td>Yes</td>\n",
       "      <td>No</td>\n",
       "      <td>No</td>\n",
       "      <td>No</td>\n",
       "      <td>No</td>\n",
       "      <td>No</td>\n",
       "      <td>No</td>\n",
       "      <td>No</td>\n",
       "      <td>No</td>\n",
       "      <td>No</td>\n",
       "      <td>No</td>\n",
       "      <td>Yes</td>\n",
       "    </tr>\n",
       "    <tr>\n",
       "      <th>9238</th>\n",
       "      <td>No</td>\n",
       "      <td>No</td>\n",
       "      <td>No</td>\n",
       "      <td>No</td>\n",
       "      <td>No</td>\n",
       "      <td>No</td>\n",
       "      <td>No</td>\n",
       "      <td>No</td>\n",
       "      <td>No</td>\n",
       "      <td>No</td>\n",
       "      <td>No</td>\n",
       "      <td>No</td>\n",
       "    </tr>\n",
       "    <tr>\n",
       "      <th>9239</th>\n",
       "      <td>No</td>\n",
       "      <td>No</td>\n",
       "      <td>No</td>\n",
       "      <td>No</td>\n",
       "      <td>No</td>\n",
       "      <td>No</td>\n",
       "      <td>No</td>\n",
       "      <td>No</td>\n",
       "      <td>No</td>\n",
       "      <td>No</td>\n",
       "      <td>No</td>\n",
       "      <td>Yes</td>\n",
       "    </tr>\n",
       "  </tbody>\n",
       "</table>\n",
       "<p>9090 rows × 12 columns</p>\n",
       "</div>"
      ],
      "text/plain": [
       "     Do Not Email Do Not Call Search Newspaper Article X Education Forums  \\\n",
       "0              No          No     No                No                 No   \n",
       "1              No          No     No                No                 No   \n",
       "2              No          No     No                No                 No   \n",
       "3              No          No     No                No                 No   \n",
       "4              No          No     No                No                 No   \n",
       "...           ...         ...    ...               ...                ...   \n",
       "9235          Yes          No     No                No                 No   \n",
       "9236           No          No     No                No                 No   \n",
       "9237          Yes          No     No                No                 No   \n",
       "9238           No          No     No                No                 No   \n",
       "9239           No          No     No                No                 No   \n",
       "\n",
       "     Newspaper Digital Advertisement Through Recommendations  \\\n",
       "0           No                    No                      No   \n",
       "1           No                    No                      No   \n",
       "2           No                    No                      No   \n",
       "3           No                    No                      No   \n",
       "4           No                    No                      No   \n",
       "...        ...                   ...                     ...   \n",
       "9235        No                    No                      No   \n",
       "9236        No                    No                      No   \n",
       "9237        No                    No                      No   \n",
       "9238        No                    No                      No   \n",
       "9239        No                    No                      No   \n",
       "\n",
       "     Get updates on DM Content Update me on Supply Chain Content  \\\n",
       "0                           No                                No   \n",
       "1                           No                                No   \n",
       "2                           No                                No   \n",
       "3                           No                                No   \n",
       "4                           No                                No   \n",
       "...                        ...                               ...   \n",
       "9235                        No                                No   \n",
       "9236                        No                                No   \n",
       "9237                        No                                No   \n",
       "9238                        No                                No   \n",
       "9239                        No                                No   \n",
       "\n",
       "     I agree to pay the amount through cheque  \\\n",
       "0                                          No   \n",
       "1                                          No   \n",
       "2                                          No   \n",
       "3                                          No   \n",
       "4                                          No   \n",
       "...                                       ...   \n",
       "9235                                       No   \n",
       "9236                                       No   \n",
       "9237                                       No   \n",
       "9238                                       No   \n",
       "9239                                       No   \n",
       "\n",
       "     A free copy of Mastering The Interview  \n",
       "0                                        No  \n",
       "1                                        No  \n",
       "2                                       Yes  \n",
       "3                                        No  \n",
       "4                                        No  \n",
       "...                                     ...  \n",
       "9235                                     No  \n",
       "9236                                    Yes  \n",
       "9237                                    Yes  \n",
       "9238                                     No  \n",
       "9239                                    Yes  \n",
       "\n",
       "[9090 rows x 12 columns]"
      ]
     },
     "execution_count": 905,
     "metadata": {},
     "output_type": "execute_result"
    }
   ],
   "source": [
    "leads_data[[\"Do Not Email\",\"Do Not Call\",\"Search\",\"Newspaper Article\",\"X Education Forums\",\"Newspaper\",\"Digital Advertisement\",\"Through Recommendations\",\"Get updates on DM Content\",\"Update me on Supply Chain Content\",\"I agree to pay the amount through cheque\",\"A free copy of Mastering The Interview\"]]"
   ]
  },
  {
   "cell_type": "code",
   "execution_count": 906,
   "metadata": {},
   "outputs": [],
   "source": [
    "#Update \"Do Not Email\" of numerical data type where response \"yes\"= 1, \"no\"= 0\n",
    "leads_data[\"Do Not Email\"]=leads_data[\"Do Not Email\"].apply(lambda x : 1 if x ==\"Yes\" else 0)\n",
    "\n",
    "#Update \"Do Not Call\" of numerical data type where response \"yes\"= 1, \"no\"= 0\n",
    "leads_data[\"Do Not Call\"]=leads_data[\"Do Not Call\"].apply(lambda x : 1 if x ==\"Yes\" else 0)\n",
    "\n",
    "#Update \"Search\" of numerical data type where response \"yes\"= 1, \"no\"= 0\n",
    "leads_data[\"Search\"]=leads_data[\"Search\"].apply(lambda x : 1 if x ==\"Yes\" else 0)\n",
    "\n",
    "#Update \"Newspaper Article\" of numerical data type where response \"yes\"= 1, \"no\"= 0\n",
    "leads_data[\"Newspaper Article\"]=leads_data[\"Newspaper Article\"].apply(lambda x : 1 if x ==\"Yes\" else 0)\n",
    "\n",
    "#Update \"X Education Forums\" of numerical data type where response \"yes\"= 1, \"no\"= 0\n",
    "leads_data[\"X Education Forums\"]=leads_data[\"X Education Forums\"].apply(lambda x : 1 if x ==\"Yes\" else 0)\n",
    "\n",
    "#Update \"Newspaper\" of numerical data type where response \"yes\"= 1, \"no\"= 0\n",
    "leads_data[\"Newspaper\"]=leads_data[\"Newspaper\"].apply(lambda x : 1 if x ==\"Yes\" else 0)\n",
    "\n",
    "#Update \"Digital Advertisement\" of numerical data type where response \"yes\"= 1, \"no\"= 0\n",
    "leads_data[\"Digital Advertisement\"]=leads_data[\"Digital Advertisement\"].apply(lambda x : 1 if x ==\"Yes\" else 0)\n",
    "\n",
    "#Update \"Through Recommendations\" of numerical data type where response \"yes\"= 1, \"no\"= 0\n",
    "leads_data[\"Through Recommendations\"]=leads_data[\"Through Recommendations\"].apply(lambda x : 1 if x ==\"Yes\" else 0)\n",
    "\n",
    "#Update \"Through Recommendations\" of numerical data type where response \"yes\"= 1, \"no\"= 0\n",
    "leads_data[\"Update me on Supply Chain Content\"]=leads_data[\"Update me on Supply Chain Content\"].apply(lambda x : 1 if x ==\"Yes\" else 0)\n",
    "\n",
    "#Update \"Through Recommendations\" of numerical data type where response \"yes\"= 1, \"no\"= 0\n",
    "leads_data[\"Get updates on DM Content\"]=leads_data[\"Get updates on DM Content\"].apply(lambda x : 1 if x ==\"Yes\" else 0)\n",
    "\n",
    "#Update \"Through Recommendations\" of numerical data type where response \"yes\"= 1, \"no\"= 0\n",
    "leads_data[\"I agree to pay the amount through cheque\"]=leads_data[\"I agree to pay the amount through cheque\"].apply(lambda x : 1 if x ==\"Yes\" else 0)\n",
    "\n",
    "#Update \"Through Recommendations\" of numerical data type where response \"yes\"= 1, \"no\"= 0\n",
    "leads_data[\"A free copy of Mastering The Interview\"]=leads_data[\"A free copy of Mastering The Interview\"].apply(lambda x : 1 if x ==\"Yes\" else 0)\n"
   ]
  },
  {
   "cell_type": "code",
   "execution_count": 907,
   "metadata": {},
   "outputs": [
    {
     "data": {
      "text/html": [
       "<div>\n",
       "<style scoped>\n",
       "    .dataframe tbody tr th:only-of-type {\n",
       "        vertical-align: middle;\n",
       "    }\n",
       "\n",
       "    .dataframe tbody tr th {\n",
       "        vertical-align: top;\n",
       "    }\n",
       "\n",
       "    .dataframe thead th {\n",
       "        text-align: right;\n",
       "    }\n",
       "</style>\n",
       "<table border=\"1\" class=\"dataframe\">\n",
       "  <thead>\n",
       "    <tr style=\"text-align: right;\">\n",
       "      <th></th>\n",
       "      <th>Do Not Email</th>\n",
       "      <th>Do Not Call</th>\n",
       "      <th>Search</th>\n",
       "      <th>Newspaper Article</th>\n",
       "      <th>X Education Forums</th>\n",
       "      <th>Newspaper</th>\n",
       "      <th>Digital Advertisement</th>\n",
       "      <th>Through Recommendations</th>\n",
       "    </tr>\n",
       "  </thead>\n",
       "  <tbody>\n",
       "    <tr>\n",
       "      <th>0</th>\n",
       "      <td>0</td>\n",
       "      <td>0</td>\n",
       "      <td>0</td>\n",
       "      <td>0</td>\n",
       "      <td>0</td>\n",
       "      <td>0</td>\n",
       "      <td>0</td>\n",
       "      <td>0</td>\n",
       "    </tr>\n",
       "    <tr>\n",
       "      <th>1</th>\n",
       "      <td>0</td>\n",
       "      <td>0</td>\n",
       "      <td>0</td>\n",
       "      <td>0</td>\n",
       "      <td>0</td>\n",
       "      <td>0</td>\n",
       "      <td>0</td>\n",
       "      <td>0</td>\n",
       "    </tr>\n",
       "    <tr>\n",
       "      <th>2</th>\n",
       "      <td>0</td>\n",
       "      <td>0</td>\n",
       "      <td>0</td>\n",
       "      <td>0</td>\n",
       "      <td>0</td>\n",
       "      <td>0</td>\n",
       "      <td>0</td>\n",
       "      <td>0</td>\n",
       "    </tr>\n",
       "    <tr>\n",
       "      <th>3</th>\n",
       "      <td>0</td>\n",
       "      <td>0</td>\n",
       "      <td>0</td>\n",
       "      <td>0</td>\n",
       "      <td>0</td>\n",
       "      <td>0</td>\n",
       "      <td>0</td>\n",
       "      <td>0</td>\n",
       "    </tr>\n",
       "    <tr>\n",
       "      <th>4</th>\n",
       "      <td>0</td>\n",
       "      <td>0</td>\n",
       "      <td>0</td>\n",
       "      <td>0</td>\n",
       "      <td>0</td>\n",
       "      <td>0</td>\n",
       "      <td>0</td>\n",
       "      <td>0</td>\n",
       "    </tr>\n",
       "    <tr>\n",
       "      <th>...</th>\n",
       "      <td>...</td>\n",
       "      <td>...</td>\n",
       "      <td>...</td>\n",
       "      <td>...</td>\n",
       "      <td>...</td>\n",
       "      <td>...</td>\n",
       "      <td>...</td>\n",
       "      <td>...</td>\n",
       "    </tr>\n",
       "    <tr>\n",
       "      <th>9235</th>\n",
       "      <td>1</td>\n",
       "      <td>0</td>\n",
       "      <td>0</td>\n",
       "      <td>0</td>\n",
       "      <td>0</td>\n",
       "      <td>0</td>\n",
       "      <td>0</td>\n",
       "      <td>0</td>\n",
       "    </tr>\n",
       "    <tr>\n",
       "      <th>9236</th>\n",
       "      <td>0</td>\n",
       "      <td>0</td>\n",
       "      <td>0</td>\n",
       "      <td>0</td>\n",
       "      <td>0</td>\n",
       "      <td>0</td>\n",
       "      <td>0</td>\n",
       "      <td>0</td>\n",
       "    </tr>\n",
       "    <tr>\n",
       "      <th>9237</th>\n",
       "      <td>1</td>\n",
       "      <td>0</td>\n",
       "      <td>0</td>\n",
       "      <td>0</td>\n",
       "      <td>0</td>\n",
       "      <td>0</td>\n",
       "      <td>0</td>\n",
       "      <td>0</td>\n",
       "    </tr>\n",
       "    <tr>\n",
       "      <th>9238</th>\n",
       "      <td>0</td>\n",
       "      <td>0</td>\n",
       "      <td>0</td>\n",
       "      <td>0</td>\n",
       "      <td>0</td>\n",
       "      <td>0</td>\n",
       "      <td>0</td>\n",
       "      <td>0</td>\n",
       "    </tr>\n",
       "    <tr>\n",
       "      <th>9239</th>\n",
       "      <td>0</td>\n",
       "      <td>0</td>\n",
       "      <td>0</td>\n",
       "      <td>0</td>\n",
       "      <td>0</td>\n",
       "      <td>0</td>\n",
       "      <td>0</td>\n",
       "      <td>0</td>\n",
       "    </tr>\n",
       "  </tbody>\n",
       "</table>\n",
       "<p>9090 rows × 8 columns</p>\n",
       "</div>"
      ],
      "text/plain": [
       "      Do Not Email  Do Not Call  Search  Newspaper Article  \\\n",
       "0                0            0       0                  0   \n",
       "1                0            0       0                  0   \n",
       "2                0            0       0                  0   \n",
       "3                0            0       0                  0   \n",
       "4                0            0       0                  0   \n",
       "...            ...          ...     ...                ...   \n",
       "9235             1            0       0                  0   \n",
       "9236             0            0       0                  0   \n",
       "9237             1            0       0                  0   \n",
       "9238             0            0       0                  0   \n",
       "9239             0            0       0                  0   \n",
       "\n",
       "      X Education Forums  Newspaper  Digital Advertisement  \\\n",
       "0                      0          0                      0   \n",
       "1                      0          0                      0   \n",
       "2                      0          0                      0   \n",
       "3                      0          0                      0   \n",
       "4                      0          0                      0   \n",
       "...                  ...        ...                    ...   \n",
       "9235                   0          0                      0   \n",
       "9236                   0          0                      0   \n",
       "9237                   0          0                      0   \n",
       "9238                   0          0                      0   \n",
       "9239                   0          0                      0   \n",
       "\n",
       "      Through Recommendations  \n",
       "0                           0  \n",
       "1                           0  \n",
       "2                           0  \n",
       "3                           0  \n",
       "4                           0  \n",
       "...                       ...  \n",
       "9235                        0  \n",
       "9236                        0  \n",
       "9237                        0  \n",
       "9238                        0  \n",
       "9239                        0  \n",
       "\n",
       "[9090 rows x 8 columns]"
      ]
     },
     "execution_count": 907,
     "metadata": {},
     "output_type": "execute_result"
    }
   ],
   "source": [
    "leads_data[[\"Do Not Email\",\"Do Not Call\",\"Search\",\"Newspaper Article\",\"X Education Forums\",\"Newspaper\",\"Digital Advertisement\",\"Through Recommendations\"]]"
   ]
  },
  {
   "cell_type": "markdown",
   "metadata": {},
   "source": [
    "#### For categorical variables with multiple levels, create dummy features (one-hot encoded)"
   ]
  },
  {
   "cell_type": "code",
   "execution_count": 908,
   "metadata": {},
   "outputs": [
    {
     "data": {
      "text/html": [
       "<div>\n",
       "<style scoped>\n",
       "    .dataframe tbody tr th:only-of-type {\n",
       "        vertical-align: middle;\n",
       "    }\n",
       "\n",
       "    .dataframe tbody tr th {\n",
       "        vertical-align: top;\n",
       "    }\n",
       "\n",
       "    .dataframe thead th {\n",
       "        text-align: right;\n",
       "    }\n",
       "</style>\n",
       "<table border=\"1\" class=\"dataframe\">\n",
       "  <thead>\n",
       "    <tr style=\"text-align: right;\">\n",
       "      <th></th>\n",
       "      <th>Prospect ID</th>\n",
       "      <th>Lead Number</th>\n",
       "      <th>Do Not Email</th>\n",
       "      <th>Do Not Call</th>\n",
       "      <th>Converted</th>\n",
       "      <th>TotalVisits</th>\n",
       "      <th>Total Time Spent on Website</th>\n",
       "      <th>Page Views Per Visit</th>\n",
       "      <th>Search</th>\n",
       "      <th>Newspaper Article</th>\n",
       "      <th>...</th>\n",
       "      <th>I agree to pay the amount through cheque</th>\n",
       "      <th>A free copy of Mastering The Interview</th>\n",
       "      <th>Lead Origin New</th>\n",
       "      <th>Lead Source New</th>\n",
       "      <th>Lead_Origin_Landing Page Submission</th>\n",
       "      <th>Lead_Origin_Lead Import/Add Form</th>\n",
       "      <th>Lead_Source_Google</th>\n",
       "      <th>Lead_Source_Olark Chat</th>\n",
       "      <th>Lead_Source_Organic Search</th>\n",
       "      <th>Lead_Source_Others</th>\n",
       "    </tr>\n",
       "  </thead>\n",
       "  <tbody>\n",
       "    <tr>\n",
       "      <th>0</th>\n",
       "      <td>7927b2df-8bba-4d29-b9a2-b6e0beafe620</td>\n",
       "      <td>660737</td>\n",
       "      <td>0</td>\n",
       "      <td>0</td>\n",
       "      <td>0</td>\n",
       "      <td>0</td>\n",
       "      <td>0</td>\n",
       "      <td>0</td>\n",
       "      <td>0</td>\n",
       "      <td>0</td>\n",
       "      <td>...</td>\n",
       "      <td>0</td>\n",
       "      <td>0</td>\n",
       "      <td>API</td>\n",
       "      <td>Olark Chat</td>\n",
       "      <td>0</td>\n",
       "      <td>0</td>\n",
       "      <td>0</td>\n",
       "      <td>1</td>\n",
       "      <td>0</td>\n",
       "      <td>0</td>\n",
       "    </tr>\n",
       "    <tr>\n",
       "      <th>1</th>\n",
       "      <td>2a272436-5132-4136-86fa-dcc88c88f482</td>\n",
       "      <td>660728</td>\n",
       "      <td>0</td>\n",
       "      <td>0</td>\n",
       "      <td>0</td>\n",
       "      <td>5</td>\n",
       "      <td>674</td>\n",
       "      <td>2</td>\n",
       "      <td>0</td>\n",
       "      <td>0</td>\n",
       "      <td>...</td>\n",
       "      <td>0</td>\n",
       "      <td>0</td>\n",
       "      <td>API</td>\n",
       "      <td>Organic Search</td>\n",
       "      <td>0</td>\n",
       "      <td>0</td>\n",
       "      <td>0</td>\n",
       "      <td>0</td>\n",
       "      <td>1</td>\n",
       "      <td>0</td>\n",
       "    </tr>\n",
       "    <tr>\n",
       "      <th>2</th>\n",
       "      <td>8cc8c611-a219-4f35-ad23-fdfd2656bd8a</td>\n",
       "      <td>660727</td>\n",
       "      <td>0</td>\n",
       "      <td>0</td>\n",
       "      <td>1</td>\n",
       "      <td>2</td>\n",
       "      <td>1532</td>\n",
       "      <td>2</td>\n",
       "      <td>0</td>\n",
       "      <td>0</td>\n",
       "      <td>...</td>\n",
       "      <td>0</td>\n",
       "      <td>1</td>\n",
       "      <td>Landing Page Submission</td>\n",
       "      <td>Direct Traffic</td>\n",
       "      <td>1</td>\n",
       "      <td>0</td>\n",
       "      <td>0</td>\n",
       "      <td>0</td>\n",
       "      <td>0</td>\n",
       "      <td>0</td>\n",
       "    </tr>\n",
       "    <tr>\n",
       "      <th>3</th>\n",
       "      <td>0cc2df48-7cf4-4e39-9de9-19797f9b38cc</td>\n",
       "      <td>660719</td>\n",
       "      <td>0</td>\n",
       "      <td>0</td>\n",
       "      <td>0</td>\n",
       "      <td>1</td>\n",
       "      <td>305</td>\n",
       "      <td>1</td>\n",
       "      <td>0</td>\n",
       "      <td>0</td>\n",
       "      <td>...</td>\n",
       "      <td>0</td>\n",
       "      <td>0</td>\n",
       "      <td>Landing Page Submission</td>\n",
       "      <td>Direct Traffic</td>\n",
       "      <td>1</td>\n",
       "      <td>0</td>\n",
       "      <td>0</td>\n",
       "      <td>0</td>\n",
       "      <td>0</td>\n",
       "      <td>0</td>\n",
       "    </tr>\n",
       "    <tr>\n",
       "      <th>4</th>\n",
       "      <td>3256f628-e534-4826-9d63-4a8b88782852</td>\n",
       "      <td>660681</td>\n",
       "      <td>0</td>\n",
       "      <td>0</td>\n",
       "      <td>1</td>\n",
       "      <td>2</td>\n",
       "      <td>1428</td>\n",
       "      <td>1</td>\n",
       "      <td>0</td>\n",
       "      <td>0</td>\n",
       "      <td>...</td>\n",
       "      <td>0</td>\n",
       "      <td>0</td>\n",
       "      <td>Landing Page Submission</td>\n",
       "      <td>Google</td>\n",
       "      <td>1</td>\n",
       "      <td>0</td>\n",
       "      <td>1</td>\n",
       "      <td>0</td>\n",
       "      <td>0</td>\n",
       "      <td>0</td>\n",
       "    </tr>\n",
       "  </tbody>\n",
       "</table>\n",
       "<p>5 rows × 26 columns</p>\n",
       "</div>"
      ],
      "text/plain": [
       "                            Prospect ID  Lead Number  Do Not Email  \\\n",
       "0  7927b2df-8bba-4d29-b9a2-b6e0beafe620       660737             0   \n",
       "1  2a272436-5132-4136-86fa-dcc88c88f482       660728             0   \n",
       "2  8cc8c611-a219-4f35-ad23-fdfd2656bd8a       660727             0   \n",
       "3  0cc2df48-7cf4-4e39-9de9-19797f9b38cc       660719             0   \n",
       "4  3256f628-e534-4826-9d63-4a8b88782852       660681             0   \n",
       "\n",
       "   Do Not Call  Converted  TotalVisits  Total Time Spent on Website  \\\n",
       "0            0          0            0                            0   \n",
       "1            0          0            5                          674   \n",
       "2            0          1            2                         1532   \n",
       "3            0          0            1                          305   \n",
       "4            0          1            2                         1428   \n",
       "\n",
       "   Page Views Per Visit  Search  Newspaper Article  ...  \\\n",
       "0                     0       0                  0  ...   \n",
       "1                     2       0                  0  ...   \n",
       "2                     2       0                  0  ...   \n",
       "3                     1       0                  0  ...   \n",
       "4                     1       0                  0  ...   \n",
       "\n",
       "   I agree to pay the amount through cheque  \\\n",
       "0                                         0   \n",
       "1                                         0   \n",
       "2                                         0   \n",
       "3                                         0   \n",
       "4                                         0   \n",
       "\n",
       "   A free copy of Mastering The Interview          Lead Origin New  \\\n",
       "0                                       0                      API   \n",
       "1                                       0                      API   \n",
       "2                                       1  Landing Page Submission   \n",
       "3                                       0  Landing Page Submission   \n",
       "4                                       0  Landing Page Submission   \n",
       "\n",
       "   Lead Source New  Lead_Origin_Landing Page Submission  \\\n",
       "0       Olark Chat                                    0   \n",
       "1   Organic Search                                    0   \n",
       "2   Direct Traffic                                    1   \n",
       "3   Direct Traffic                                    1   \n",
       "4           Google                                    1   \n",
       "\n",
       "   Lead_Origin_Lead Import/Add Form  Lead_Source_Google  \\\n",
       "0                                 0                   0   \n",
       "1                                 0                   0   \n",
       "2                                 0                   0   \n",
       "3                                 0                   0   \n",
       "4                                 0                   1   \n",
       "\n",
       "   Lead_Source_Olark Chat Lead_Source_Organic Search Lead_Source_Others  \n",
       "0                       1                          0                  0  \n",
       "1                       0                          1                  0  \n",
       "2                       0                          0                  0  \n",
       "3                       0                          0                  0  \n",
       "4                       0                          0                  0  \n",
       "\n",
       "[5 rows x 26 columns]"
      ]
     },
     "execution_count": 908,
     "metadata": {},
     "output_type": "execute_result"
    }
   ],
   "source": [
    "# Creating dummy variables for the variable 'Lead Origin'\n",
    "LeadOrigin = pd.get_dummies(leads_data['Lead Origin New'], prefix='Lead_Origin',drop_first=True)\n",
    "leads_data = pd.concat([leads_data,LeadOrigin], axis=1)\n",
    "\n",
    "# Creating dummy variables for the variable 'Lead Origin'\n",
    "LeadSource = pd.get_dummies(leads_data['Lead Source New'], prefix='Lead_Source',drop_first=True)\n",
    "leads_data = pd.concat([leads_data,LeadSource], axis=1)\n",
    "\n",
    "leads_data.head()"
   ]
  },
  {
   "cell_type": "markdown",
   "metadata": {},
   "source": [
    "#### Dropping the repeated variables"
   ]
  },
  {
   "cell_type": "code",
   "execution_count": 909,
   "metadata": {},
   "outputs": [
    {
     "name": "stdout",
     "output_type": "stream",
     "text": [
      "<class 'pandas.core.frame.DataFrame'>\n",
      "Int64Index: 9090 entries, 0 to 9239\n",
      "Data columns (total 24 columns):\n",
      " #   Column                                    Non-Null Count  Dtype \n",
      "---  ------                                    --------------  ----- \n",
      " 0   Prospect ID                               9090 non-null   object\n",
      " 1   Lead Number                               9090 non-null   int64 \n",
      " 2   Do Not Email                              9090 non-null   int64 \n",
      " 3   Do Not Call                               9090 non-null   int64 \n",
      " 4   Converted                                 9090 non-null   int64 \n",
      " 5   TotalVisits                               9090 non-null   int64 \n",
      " 6   Total Time Spent on Website               9090 non-null   int64 \n",
      " 7   Page Views Per Visit                      9090 non-null   int64 \n",
      " 8   Search                                    9090 non-null   int64 \n",
      " 9   Newspaper Article                         9090 non-null   int64 \n",
      " 10  X Education Forums                        9090 non-null   int64 \n",
      " 11  Newspaper                                 9090 non-null   int64 \n",
      " 12  Digital Advertisement                     9090 non-null   int64 \n",
      " 13  Through Recommendations                   9090 non-null   int64 \n",
      " 14  Update me on Supply Chain Content         9090 non-null   int64 \n",
      " 15  Get updates on DM Content                 9090 non-null   int64 \n",
      " 16  I agree to pay the amount through cheque  9090 non-null   int64 \n",
      " 17  A free copy of Mastering The Interview    9090 non-null   int64 \n",
      " 18  Lead_Origin_Landing Page Submission       9090 non-null   uint8 \n",
      " 19  Lead_Origin_Lead Import/Add Form          9090 non-null   uint8 \n",
      " 20  Lead_Source_Google                        9090 non-null   uint8 \n",
      " 21  Lead_Source_Olark Chat                    9090 non-null   uint8 \n",
      " 22  Lead_Source_Organic Search                9090 non-null   uint8 \n",
      " 23  Lead_Source_Others                        9090 non-null   uint8 \n",
      "dtypes: int64(17), object(1), uint8(6)\n",
      "memory usage: 1.7+ MB\n"
     ]
    }
   ],
   "source": [
    "# We have created dummies for the below variables, so we can drop them\n",
    "leads_data = leads_data.drop([\"Lead Origin New\",\"Lead Source New\"], 1)\n",
    "leads_data.info()"
   ]
  },
  {
   "cell_type": "code",
   "execution_count": 910,
   "metadata": {},
   "outputs": [
    {
     "data": {
      "image/png": "[encoded data removed]",
      "text/plain": [
       "<Figure size 1440x1440 with 2 Axes>"
      ]
     },
     "metadata": {
      "needs_background": "light"
     },
     "output_type": "display_data"
    }
   ],
   "source": [
    "# Let's check the correlation coefficients to see which variables are highly correlated\n",
    "\n",
    "plt.figure(figsize = (20, 20))\n",
    "sns.heatmap(leads_data[[\"Converted\",\"TotalVisits\",\"Total Time Spent on Website\",\"Page Views Per Visit\",\"Do Not Email\",\"Do Not Call\",\"Search\",\"Newspaper Article\",\"Newspaper\",\"Digital Advertisement\",\"Through Recommendations\"]].corr(), annot = True, cmap=\"YlGnBu\")\n",
    "plt.show()"
   ]
  },
  {
   "cell_type": "markdown",
   "metadata": {},
   "source": [
    "From above correaltion matrix we can see there is high collinearity between variables `TotalVisits` and `Page Views Per Visit`"
   ]
  },
  {
   "cell_type": "markdown",
   "metadata": {},
   "source": [
    "## Step 4 - Test-Train Split"
   ]
  },
  {
   "cell_type": "code",
   "execution_count": 911,
   "metadata": {},
   "outputs": [],
   "source": [
    "from sklearn.model_selection import train_test_split"
   ]
  },
  {
   "cell_type": "code",
   "execution_count": 912,
   "metadata": {},
   "outputs": [
    {
     "data": {
      "text/html": [
       "<div>\n",
       "<style scoped>\n",
       "    .dataframe tbody tr th:only-of-type {\n",
       "        vertical-align: middle;\n",
       "    }\n",
       "\n",
       "    .dataframe tbody tr th {\n",
       "        vertical-align: top;\n",
       "    }\n",
       "\n",
       "    .dataframe thead th {\n",
       "        text-align: right;\n",
       "    }\n",
       "</style>\n",
       "<table border=\"1\" class=\"dataframe\">\n",
       "  <thead>\n",
       "    <tr style=\"text-align: right;\">\n",
       "      <th></th>\n",
       "      <th>Do Not Email</th>\n",
       "      <th>Do Not Call</th>\n",
       "      <th>TotalVisits</th>\n",
       "      <th>Total Time Spent on Website</th>\n",
       "      <th>Page Views Per Visit</th>\n",
       "      <th>Search</th>\n",
       "      <th>Newspaper Article</th>\n",
       "      <th>X Education Forums</th>\n",
       "      <th>Newspaper</th>\n",
       "      <th>Digital Advertisement</th>\n",
       "      <th>...</th>\n",
       "      <th>Update me on Supply Chain Content</th>\n",
       "      <th>Get updates on DM Content</th>\n",
       "      <th>I agree to pay the amount through cheque</th>\n",
       "      <th>A free copy of Mastering The Interview</th>\n",
       "      <th>Lead_Origin_Landing Page Submission</th>\n",
       "      <th>Lead_Origin_Lead Import/Add Form</th>\n",
       "      <th>Lead_Source_Google</th>\n",
       "      <th>Lead_Source_Olark Chat</th>\n",
       "      <th>Lead_Source_Organic Search</th>\n",
       "      <th>Lead_Source_Others</th>\n",
       "    </tr>\n",
       "  </thead>\n",
       "  <tbody>\n",
       "    <tr>\n",
       "      <th>0</th>\n",
       "      <td>0</td>\n",
       "      <td>0</td>\n",
       "      <td>0</td>\n",
       "      <td>0</td>\n",
       "      <td>0</td>\n",
       "      <td>0</td>\n",
       "      <td>0</td>\n",
       "      <td>0</td>\n",
       "      <td>0</td>\n",
       "      <td>0</td>\n",
       "      <td>...</td>\n",
       "      <td>0</td>\n",
       "      <td>0</td>\n",
       "      <td>0</td>\n",
       "      <td>0</td>\n",
       "      <td>0</td>\n",
       "      <td>0</td>\n",
       "      <td>0</td>\n",
       "      <td>1</td>\n",
       "      <td>0</td>\n",
       "      <td>0</td>\n",
       "    </tr>\n",
       "    <tr>\n",
       "      <th>1</th>\n",
       "      <td>0</td>\n",
       "      <td>0</td>\n",
       "      <td>5</td>\n",
       "      <td>674</td>\n",
       "      <td>2</td>\n",
       "      <td>0</td>\n",
       "      <td>0</td>\n",
       "      <td>0</td>\n",
       "      <td>0</td>\n",
       "      <td>0</td>\n",
       "      <td>...</td>\n",
       "      <td>0</td>\n",
       "      <td>0</td>\n",
       "      <td>0</td>\n",
       "      <td>0</td>\n",
       "      <td>0</td>\n",
       "      <td>0</td>\n",
       "      <td>0</td>\n",
       "      <td>0</td>\n",
       "      <td>1</td>\n",
       "      <td>0</td>\n",
       "    </tr>\n",
       "    <tr>\n",
       "      <th>2</th>\n",
       "      <td>0</td>\n",
       "      <td>0</td>\n",
       "      <td>2</td>\n",
       "      <td>1532</td>\n",
       "      <td>2</td>\n",
       "      <td>0</td>\n",
       "      <td>0</td>\n",
       "      <td>0</td>\n",
       "      <td>0</td>\n",
       "      <td>0</td>\n",
       "      <td>...</td>\n",
       "      <td>0</td>\n",
       "      <td>0</td>\n",
       "      <td>0</td>\n",
       "      <td>1</td>\n",
       "      <td>1</td>\n",
       "      <td>0</td>\n",
       "      <td>0</td>\n",
       "      <td>0</td>\n",
       "      <td>0</td>\n",
       "      <td>0</td>\n",
       "    </tr>\n",
       "    <tr>\n",
       "      <th>3</th>\n",
       "      <td>0</td>\n",
       "      <td>0</td>\n",
       "      <td>1</td>\n",
       "      <td>305</td>\n",
       "      <td>1</td>\n",
       "      <td>0</td>\n",
       "      <td>0</td>\n",
       "      <td>0</td>\n",
       "      <td>0</td>\n",
       "      <td>0</td>\n",
       "      <td>...</td>\n",
       "      <td>0</td>\n",
       "      <td>0</td>\n",
       "      <td>0</td>\n",
       "      <td>0</td>\n",
       "      <td>1</td>\n",
       "      <td>0</td>\n",
       "      <td>0</td>\n",
       "      <td>0</td>\n",
       "      <td>0</td>\n",
       "      <td>0</td>\n",
       "    </tr>\n",
       "    <tr>\n",
       "      <th>4</th>\n",
       "      <td>0</td>\n",
       "      <td>0</td>\n",
       "      <td>2</td>\n",
       "      <td>1428</td>\n",
       "      <td>1</td>\n",
       "      <td>0</td>\n",
       "      <td>0</td>\n",
       "      <td>0</td>\n",
       "      <td>0</td>\n",
       "      <td>0</td>\n",
       "      <td>...</td>\n",
       "      <td>0</td>\n",
       "      <td>0</td>\n",
       "      <td>0</td>\n",
       "      <td>0</td>\n",
       "      <td>1</td>\n",
       "      <td>0</td>\n",
       "      <td>1</td>\n",
       "      <td>0</td>\n",
       "      <td>0</td>\n",
       "      <td>0</td>\n",
       "    </tr>\n",
       "  </tbody>\n",
       "</table>\n",
       "<p>5 rows × 21 columns</p>\n",
       "</div>"
      ],
      "text/plain": [
       "   Do Not Email  Do Not Call  TotalVisits  Total Time Spent on Website  \\\n",
       "0             0            0            0                            0   \n",
       "1             0            0            5                          674   \n",
       "2             0            0            2                         1532   \n",
       "3             0            0            1                          305   \n",
       "4             0            0            2                         1428   \n",
       "\n",
       "   Page Views Per Visit  Search  Newspaper Article  X Education Forums  \\\n",
       "0                     0       0                  0                   0   \n",
       "1                     2       0                  0                   0   \n",
       "2                     2       0                  0                   0   \n",
       "3                     1       0                  0                   0   \n",
       "4                     1       0                  0                   0   \n",
       "\n",
       "   Newspaper  Digital Advertisement  ...  Update me on Supply Chain Content  \\\n",
       "0          0                      0  ...                                  0   \n",
       "1          0                      0  ...                                  0   \n",
       "2          0                      0  ...                                  0   \n",
       "3          0                      0  ...                                  0   \n",
       "4          0                      0  ...                                  0   \n",
       "\n",
       "   Get updates on DM Content  I agree to pay the amount through cheque  \\\n",
       "0                          0                                         0   \n",
       "1                          0                                         0   \n",
       "2                          0                                         0   \n",
       "3                          0                                         0   \n",
       "4                          0                                         0   \n",
       "\n",
       "   A free copy of Mastering The Interview  \\\n",
       "0                                       0   \n",
       "1                                       0   \n",
       "2                                       1   \n",
       "3                                       0   \n",
       "4                                       0   \n",
       "\n",
       "   Lead_Origin_Landing Page Submission  Lead_Origin_Lead Import/Add Form  \\\n",
       "0                                    0                                 0   \n",
       "1                                    0                                 0   \n",
       "2                                    1                                 0   \n",
       "3                                    1                                 0   \n",
       "4                                    1                                 0   \n",
       "\n",
       "   Lead_Source_Google  Lead_Source_Olark Chat  Lead_Source_Organic Search  \\\n",
       "0                   0                       1                           0   \n",
       "1                   0                       0                           1   \n",
       "2                   0                       0                           0   \n",
       "3                   0                       0                           0   \n",
       "4                   1                       0                           0   \n",
       "\n",
       "   Lead_Source_Others  \n",
       "0                   0  \n",
       "1                   0  \n",
       "2                   0  \n",
       "3                   0  \n",
       "4                   0  \n",
       "\n",
       "[5 rows x 21 columns]"
      ]
     },
     "execution_count": 912,
     "metadata": {},
     "output_type": "execute_result"
    }
   ],
   "source": [
    "# Putting feature variable to X\n",
    "X = leads_data.drop(['Converted','Prospect ID','Lead Number'], axis=1)\n",
    "\n",
    "X.head()"
   ]
  },
  {
   "cell_type": "code",
   "execution_count": 913,
   "metadata": {},
   "outputs": [
    {
     "data": {
      "text/plain": [
       "0    0\n",
       "1    0\n",
       "2    1\n",
       "3    0\n",
       "4    1\n",
       "Name: Converted, dtype: int64"
      ]
     },
     "execution_count": 913,
     "metadata": {},
     "output_type": "execute_result"
    }
   ],
   "source": [
    "# Putting response variable to y\n",
    "y = leads_data['Converted']\n",
    "\n",
    "y.head()"
   ]
  },
  {
   "cell_type": "code",
   "execution_count": 914,
   "metadata": {},
   "outputs": [],
   "source": [
    "# Splitting the data into train and test\n",
    "X_train, X_test, y_train, y_test = train_test_split(X, y, train_size=0.7, test_size=0.3, random_state=100)"
   ]
  },
  {
   "cell_type": "markdown",
   "metadata": {},
   "source": [
    "#### Feature Scaling"
   ]
  },
  {
   "cell_type": "code",
   "execution_count": 915,
   "metadata": {},
   "outputs": [],
   "source": [
    "from sklearn.preprocessing import MinMaxScaler"
   ]
  },
  {
   "cell_type": "code",
   "execution_count": 916,
   "metadata": {},
   "outputs": [
    {
     "data": {
      "text/html": [
       "<div>\n",
       "<style scoped>\n",
       "    .dataframe tbody tr th:only-of-type {\n",
       "        vertical-align: middle;\n",
       "    }\n",
       "\n",
       "    .dataframe tbody tr th {\n",
       "        vertical-align: top;\n",
       "    }\n",
       "\n",
       "    .dataframe thead th {\n",
       "        text-align: right;\n",
       "    }\n",
       "</style>\n",
       "<table border=\"1\" class=\"dataframe\">\n",
       "  <thead>\n",
       "    <tr style=\"text-align: right;\">\n",
       "      <th></th>\n",
       "      <th>Do Not Email</th>\n",
       "      <th>Do Not Call</th>\n",
       "      <th>TotalVisits</th>\n",
       "      <th>Total Time Spent on Website</th>\n",
       "      <th>Page Views Per Visit</th>\n",
       "      <th>Search</th>\n",
       "      <th>Newspaper Article</th>\n",
       "      <th>X Education Forums</th>\n",
       "      <th>Newspaper</th>\n",
       "      <th>Digital Advertisement</th>\n",
       "      <th>...</th>\n",
       "      <th>Update me on Supply Chain Content</th>\n",
       "      <th>Get updates on DM Content</th>\n",
       "      <th>I agree to pay the amount through cheque</th>\n",
       "      <th>A free copy of Mastering The Interview</th>\n",
       "      <th>Lead_Origin_Landing Page Submission</th>\n",
       "      <th>Lead_Origin_Lead Import/Add Form</th>\n",
       "      <th>Lead_Source_Google</th>\n",
       "      <th>Lead_Source_Olark Chat</th>\n",
       "      <th>Lead_Source_Organic Search</th>\n",
       "      <th>Lead_Source_Others</th>\n",
       "    </tr>\n",
       "  </thead>\n",
       "  <tbody>\n",
       "    <tr>\n",
       "      <th>302</th>\n",
       "      <td>0</td>\n",
       "      <td>0</td>\n",
       "      <td>0.411765</td>\n",
       "      <td>0.110035</td>\n",
       "      <td>0.222222</td>\n",
       "      <td>0</td>\n",
       "      <td>0</td>\n",
       "      <td>0</td>\n",
       "      <td>0</td>\n",
       "      <td>0</td>\n",
       "      <td>...</td>\n",
       "      <td>0</td>\n",
       "      <td>0</td>\n",
       "      <td>0</td>\n",
       "      <td>0</td>\n",
       "      <td>0</td>\n",
       "      <td>0</td>\n",
       "      <td>0</td>\n",
       "      <td>0</td>\n",
       "      <td>0</td>\n",
       "      <td>1</td>\n",
       "    </tr>\n",
       "    <tr>\n",
       "      <th>6087</th>\n",
       "      <td>1</td>\n",
       "      <td>0</td>\n",
       "      <td>0.000000</td>\n",
       "      <td>0.000000</td>\n",
       "      <td>0.000000</td>\n",
       "      <td>0</td>\n",
       "      <td>0</td>\n",
       "      <td>0</td>\n",
       "      <td>0</td>\n",
       "      <td>0</td>\n",
       "      <td>...</td>\n",
       "      <td>0</td>\n",
       "      <td>0</td>\n",
       "      <td>0</td>\n",
       "      <td>0</td>\n",
       "      <td>0</td>\n",
       "      <td>0</td>\n",
       "      <td>0</td>\n",
       "      <td>1</td>\n",
       "      <td>0</td>\n",
       "      <td>0</td>\n",
       "    </tr>\n",
       "    <tr>\n",
       "      <th>1033</th>\n",
       "      <td>0</td>\n",
       "      <td>0</td>\n",
       "      <td>0.294118</td>\n",
       "      <td>0.206866</td>\n",
       "      <td>0.555556</td>\n",
       "      <td>0</td>\n",
       "      <td>0</td>\n",
       "      <td>0</td>\n",
       "      <td>0</td>\n",
       "      <td>0</td>\n",
       "      <td>...</td>\n",
       "      <td>0</td>\n",
       "      <td>0</td>\n",
       "      <td>0</td>\n",
       "      <td>0</td>\n",
       "      <td>0</td>\n",
       "      <td>0</td>\n",
       "      <td>1</td>\n",
       "      <td>0</td>\n",
       "      <td>0</td>\n",
       "      <td>0</td>\n",
       "    </tr>\n",
       "    <tr>\n",
       "      <th>7656</th>\n",
       "      <td>1</td>\n",
       "      <td>0</td>\n",
       "      <td>0.352941</td>\n",
       "      <td>0.154930</td>\n",
       "      <td>0.666667</td>\n",
       "      <td>0</td>\n",
       "      <td>0</td>\n",
       "      <td>0</td>\n",
       "      <td>0</td>\n",
       "      <td>0</td>\n",
       "      <td>...</td>\n",
       "      <td>0</td>\n",
       "      <td>0</td>\n",
       "      <td>0</td>\n",
       "      <td>1</td>\n",
       "      <td>1</td>\n",
       "      <td>0</td>\n",
       "      <td>0</td>\n",
       "      <td>0</td>\n",
       "      <td>0</td>\n",
       "      <td>0</td>\n",
       "    </tr>\n",
       "    <tr>\n",
       "      <th>3241</th>\n",
       "      <td>0</td>\n",
       "      <td>0</td>\n",
       "      <td>0.235294</td>\n",
       "      <td>0.428257</td>\n",
       "      <td>0.111111</td>\n",
       "      <td>0</td>\n",
       "      <td>0</td>\n",
       "      <td>0</td>\n",
       "      <td>0</td>\n",
       "      <td>0</td>\n",
       "      <td>...</td>\n",
       "      <td>0</td>\n",
       "      <td>0</td>\n",
       "      <td>0</td>\n",
       "      <td>1</td>\n",
       "      <td>1</td>\n",
       "      <td>0</td>\n",
       "      <td>0</td>\n",
       "      <td>0</td>\n",
       "      <td>0</td>\n",
       "      <td>0</td>\n",
       "    </tr>\n",
       "  </tbody>\n",
       "</table>\n",
       "<p>5 rows × 21 columns</p>\n",
       "</div>"
      ],
      "text/plain": [
       "      Do Not Email  Do Not Call  TotalVisits  Total Time Spent on Website  \\\n",
       "302              0            0     0.411765                     0.110035   \n",
       "6087             1            0     0.000000                     0.000000   \n",
       "1033             0            0     0.294118                     0.206866   \n",
       "7656             1            0     0.352941                     0.154930   \n",
       "3241             0            0     0.235294                     0.428257   \n",
       "\n",
       "      Page Views Per Visit  Search  Newspaper Article  X Education Forums  \\\n",
       "302               0.222222       0                  0                   0   \n",
       "6087              0.000000       0                  0                   0   \n",
       "1033              0.555556       0                  0                   0   \n",
       "7656              0.666667       0                  0                   0   \n",
       "3241              0.111111       0                  0                   0   \n",
       "\n",
       "      Newspaper  Digital Advertisement  ...  \\\n",
       "302           0                      0  ...   \n",
       "6087          0                      0  ...   \n",
       "1033          0                      0  ...   \n",
       "7656          0                      0  ...   \n",
       "3241          0                      0  ...   \n",
       "\n",
       "      Update me on Supply Chain Content  Get updates on DM Content  \\\n",
       "302                                   0                          0   \n",
       "6087                                  0                          0   \n",
       "1033                                  0                          0   \n",
       "7656                                  0                          0   \n",
       "3241                                  0                          0   \n",
       "\n",
       "      I agree to pay the amount through cheque  \\\n",
       "302                                          0   \n",
       "6087                                         0   \n",
       "1033                                         0   \n",
       "7656                                         0   \n",
       "3241                                         0   \n",
       "\n",
       "      A free copy of Mastering The Interview  \\\n",
       "302                                        0   \n",
       "6087                                       0   \n",
       "1033                                       0   \n",
       "7656                                       1   \n",
       "3241                                       1   \n",
       "\n",
       "      Lead_Origin_Landing Page Submission  Lead_Origin_Lead Import/Add Form  \\\n",
       "302                                     0                                 0   \n",
       "6087                                    0                                 0   \n",
       "1033                                    0                                 0   \n",
       "7656                                    1                                 0   \n",
       "3241                                    1                                 0   \n",
       "\n",
       "      Lead_Source_Google  Lead_Source_Olark Chat  Lead_Source_Organic Search  \\\n",
       "302                    0                       0                           0   \n",
       "6087                   0                       1                           0   \n",
       "1033                   1                       0                           0   \n",
       "7656                   0                       0                           0   \n",
       "3241                   0                       0                           0   \n",
       "\n",
       "      Lead_Source_Others  \n",
       "302                    1  \n",
       "6087                   0  \n",
       "1033                   0  \n",
       "7656                   0  \n",
       "3241                   0  \n",
       "\n",
       "[5 rows x 21 columns]"
      ]
     },
     "execution_count": 916,
     "metadata": {},
     "output_type": "execute_result"
    }
   ],
   "source": [
    "#Scaling done for Continuous variable\n",
    "scaler = MinMaxScaler()\n",
    "\n",
    "X_train[[\"TotalVisits\",\"Total Time Spent on Website\",\"Page Views Per Visit\"]] = scaler.fit_transform(X_train[[\"TotalVisits\",\"Total Time Spent on Website\",\"Page Views Per Visit\"]])\n",
    "\n",
    "X_train.head()"
   ]
  },
  {
   "cell_type": "markdown",
   "metadata": {},
   "source": [
    "## Step 5 - Model building"
   ]
  },
  {
   "cell_type": "code",
   "execution_count": 917,
   "metadata": {},
   "outputs": [],
   "source": [
    "# Importing RFE and LinearRegression\n",
    "from sklearn.feature_selection import RFE\n",
    "from sklearn.linear_model import LogisticRegression\n",
    "import statsmodels.api as sm"
   ]
  },
  {
   "cell_type": "code",
   "execution_count": 918,
   "metadata": {},
   "outputs": [],
   "source": [
    "logreg = LogisticRegression()"
   ]
  },
  {
   "cell_type": "code",
   "execution_count": 919,
   "metadata": {},
   "outputs": [],
   "source": [
    "# running RFE with 18 variables as output\n",
    "rfe = RFE(logreg, 18)             \n",
    "rfe = rfe.fit(X_train, y_train)"
   ]
  },
  {
   "cell_type": "code",
   "execution_count": 920,
   "metadata": {},
   "outputs": [
    {
     "data": {
      "text/plain": [
       "array([ True,  True,  True,  True,  True,  True,  True, False,  True,\n",
       "        True,  True, False, False,  True,  True,  True,  True,  True,\n",
       "        True,  True,  True])"
      ]
     },
     "execution_count": 920,
     "metadata": {},
     "output_type": "execute_result"
    }
   ],
   "source": [
    "rfe.support_"
   ]
  },
  {
   "cell_type": "code",
   "execution_count": 921,
   "metadata": {},
   "outputs": [
    {
     "data": {
      "text/plain": [
       "[('Do Not Email', True, 1),\n",
       " ('Do Not Call', True, 1),\n",
       " ('TotalVisits', True, 1),\n",
       " ('Total Time Spent on Website', True, 1),\n",
       " ('Page Views Per Visit', True, 1),\n",
       " ('Search', True, 1),\n",
       " ('Newspaper Article', True, 1),\n",
       " ('X Education Forums', False, 4),\n",
       " ('Newspaper', True, 1),\n",
       " ('Digital Advertisement', True, 1),\n",
       " ('Through Recommendations', True, 1),\n",
       " ('Update me on Supply Chain Content', False, 3),\n",
       " ('Get updates on DM Content', False, 2),\n",
       " ('I agree to pay the amount through cheque', True, 1),\n",
       " ('A free copy of Mastering The Interview', True, 1),\n",
       " ('Lead_Origin_Landing Page Submission', True, 1),\n",
       " ('Lead_Origin_Lead Import/Add Form', True, 1),\n",
       " ('Lead_Source_Google', True, 1),\n",
       " ('Lead_Source_Olark Chat', True, 1),\n",
       " ('Lead_Source_Organic Search', True, 1),\n",
       " ('Lead_Source_Others', True, 1)]"
      ]
     },
     "execution_count": 921,
     "metadata": {},
     "output_type": "execute_result"
    }
   ],
   "source": [
    "list(zip(X_train.columns, rfe.support_, rfe.ranking_))"
   ]
  },
  {
   "cell_type": "code",
   "execution_count": 922,
   "metadata": {},
   "outputs": [
    {
     "data": {
      "text/plain": [
       "Index(['Do Not Email', 'Do Not Call', 'TotalVisits',\n",
       "       'Total Time Spent on Website', 'Page Views Per Visit', 'Search',\n",
       "       'Newspaper Article', 'Newspaper', 'Digital Advertisement',\n",
       "       'Through Recommendations', 'I agree to pay the amount through cheque',\n",
       "       'A free copy of Mastering The Interview',\n",
       "       'Lead_Origin_Landing Page Submission',\n",
       "       'Lead_Origin_Lead Import/Add Form', 'Lead_Source_Google',\n",
       "       'Lead_Source_Olark Chat', 'Lead_Source_Organic Search',\n",
       "       'Lead_Source_Others'],\n",
       "      dtype='object')"
      ]
     },
     "execution_count": 922,
     "metadata": {},
     "output_type": "execute_result"
    }
   ],
   "source": [
    "col = X_train.columns[rfe.support_]\n",
    "col"
   ]
  },
  {
   "cell_type": "code",
   "execution_count": 923,
   "metadata": {},
   "outputs": [
    {
     "data": {
      "text/plain": [
       "Index(['X Education Forums', 'Update me on Supply Chain Content',\n",
       "       'Get updates on DM Content'],\n",
       "      dtype='object')"
      ]
     },
     "execution_count": 923,
     "metadata": {},
     "output_type": "execute_result"
    }
   ],
   "source": [
    "X_train.columns[~rfe.support_]"
   ]
  },
  {
   "cell_type": "markdown",
   "metadata": {},
   "source": [
    "##### Assessing the model with StatsModels"
   ]
  },
  {
   "cell_type": "code",
   "execution_count": 924,
   "metadata": {},
   "outputs": [
    {
     "data": {
      "text/html": [
       "<table class=\"simpletable\">\n",
       "<caption>Generalized Linear Model Regression Results</caption>\n",
       "<tr>\n",
       "  <th>Dep. Variable:</th>       <td>Converted</td>    <th>  No. Observations:  </th>  <td>  6363</td> \n",
       "</tr>\n",
       "<tr>\n",
       "  <th>Model:</th>                  <td>GLM</td>       <th>  Df Residuals:      </th>  <td>  6345</td> \n",
       "</tr>\n",
       "<tr>\n",
       "  <th>Model Family:</th>        <td>Binomial</td>     <th>  Df Model:          </th>  <td>    17</td> \n",
       "</tr>\n",
       "<tr>\n",
       "  <th>Link Function:</th>         <td>logit</td>      <th>  Scale:             </th> <td>  1.0000</td>\n",
       "</tr>\n",
       "<tr>\n",
       "  <th>Method:</th>                <td>IRLS</td>       <th>  Log-Likelihood:    </th> <td> -3240.2</td>\n",
       "</tr>\n",
       "<tr>\n",
       "  <th>Date:</th>            <td>Mon, 14 Jun 2021</td> <th>  Deviance:          </th> <td>  6480.3</td>\n",
       "</tr>\n",
       "<tr>\n",
       "  <th>Time:</th>                <td>19:23:00</td>     <th>  Pearson chi2:      </th> <td>6.84e+03</td>\n",
       "</tr>\n",
       "<tr>\n",
       "  <th>No. Iterations:</th>         <td>21</td>        <th>                     </th>     <td> </td>   \n",
       "</tr>\n",
       "<tr>\n",
       "  <th>Covariance Type:</th>     <td>nonrobust</td>    <th>                     </th>     <td> </td>   \n",
       "</tr>\n",
       "</table>\n",
       "<table class=\"simpletable\">\n",
       "<tr>\n",
       "                      <td></td>                        <th>coef</th>     <th>std err</th>      <th>z</th>      <th>P>|z|</th>  <th>[0.025</th>    <th>0.975]</th>  \n",
       "</tr>\n",
       "<tr>\n",
       "  <th>const</th>                                    <td>   -2.3218</td> <td>    0.128</td> <td>  -18.083</td> <td> 0.000</td> <td>   -2.574</td> <td>   -2.070</td>\n",
       "</tr>\n",
       "<tr>\n",
       "  <th>Do Not Email</th>                             <td>   -1.2609</td> <td>    0.148</td> <td>   -8.541</td> <td> 0.000</td> <td>   -1.550</td> <td>   -0.972</td>\n",
       "</tr>\n",
       "<tr>\n",
       "  <th>Do Not Call</th>                              <td>   20.9685</td> <td>  3.4e+04</td> <td>    0.001</td> <td> 1.000</td> <td>-6.65e+04</td> <td> 6.66e+04</td>\n",
       "</tr>\n",
       "<tr>\n",
       "  <th>TotalVisits</th>                              <td>    1.0112</td> <td>    0.248</td> <td>    4.085</td> <td> 0.000</td> <td>    0.526</td> <td>    1.496</td>\n",
       "</tr>\n",
       "<tr>\n",
       "  <th>Total Time Spent on Website</th>              <td>    4.5264</td> <td>    0.152</td> <td>   29.695</td> <td> 0.000</td> <td>    4.228</td> <td>    4.825</td>\n",
       "</tr>\n",
       "<tr>\n",
       "  <th>Page Views Per Visit</th>                     <td>   -0.1560</td> <td>    0.224</td> <td>   -0.698</td> <td> 0.485</td> <td>   -0.594</td> <td>    0.282</td>\n",
       "</tr>\n",
       "<tr>\n",
       "  <th>Search</th>                                   <td>   -0.0421</td> <td>    0.890</td> <td>   -0.047</td> <td> 0.962</td> <td>   -1.786</td> <td>    1.702</td>\n",
       "</tr>\n",
       "<tr>\n",
       "  <th>Newspaper Article</th>                        <td>   22.2057</td> <td> 4.82e+04</td> <td>    0.000</td> <td> 1.000</td> <td>-9.44e+04</td> <td> 9.45e+04</td>\n",
       "</tr>\n",
       "<tr>\n",
       "  <th>Newspaper</th>                                <td>  -24.5784</td> <td> 4.82e+04</td> <td>   -0.001</td> <td> 1.000</td> <td>-9.45e+04</td> <td> 9.44e+04</td>\n",
       "</tr>\n",
       "<tr>\n",
       "  <th>Digital Advertisement</th>                    <td>   -0.2565</td> <td>    1.442</td> <td>   -0.178</td> <td> 0.859</td> <td>   -3.084</td> <td>    2.571</td>\n",
       "</tr>\n",
       "<tr>\n",
       "  <th>Through Recommendations</th>                  <td>   21.8684</td> <td> 2.67e+04</td> <td>    0.001</td> <td> 0.999</td> <td>-5.22e+04</td> <td> 5.23e+04</td>\n",
       "</tr>\n",
       "<tr>\n",
       "  <th>I agree to pay the amount through cheque</th> <td>-6.996e-11</td> <td> 5.25e-07</td> <td>   -0.000</td> <td> 1.000</td> <td>-1.03e-06</td> <td> 1.03e-06</td>\n",
       "</tr>\n",
       "<tr>\n",
       "  <th>A free copy of Mastering The Interview</th>   <td>   -0.0276</td> <td>    0.096</td> <td>   -0.288</td> <td> 0.773</td> <td>   -0.215</td> <td>    0.160</td>\n",
       "</tr>\n",
       "<tr>\n",
       "  <th>Lead_Origin_Landing Page Submission</th>      <td>    0.1813</td> <td>    0.095</td> <td>    1.917</td> <td> 0.055</td> <td>   -0.004</td> <td>    0.367</td>\n",
       "</tr>\n",
       "<tr>\n",
       "  <th>Lead_Origin_Lead Import/Add Form</th>         <td>    4.1756</td> <td>    0.301</td> <td>   13.858</td> <td> 0.000</td> <td>    3.585</td> <td>    4.766</td>\n",
       "</tr>\n",
       "<tr>\n",
       "  <th>Lead_Source_Google</th>                       <td>    0.2954</td> <td>    0.102</td> <td>    2.895</td> <td> 0.004</td> <td>    0.095</td> <td>    0.495</td>\n",
       "</tr>\n",
       "<tr>\n",
       "  <th>Lead_Source_Olark Chat</th>                   <td>    1.0917</td> <td>    0.142</td> <td>    7.667</td> <td> 0.000</td> <td>    0.813</td> <td>    1.371</td>\n",
       "</tr>\n",
       "<tr>\n",
       "  <th>Lead_Source_Organic Search</th>               <td>    0.1193</td> <td>    0.116</td> <td>    1.025</td> <td> 0.306</td> <td>   -0.109</td> <td>    0.348</td>\n",
       "</tr>\n",
       "<tr>\n",
       "  <th>Lead_Source_Others</th>                       <td>   -0.0415</td> <td>    0.272</td> <td>   -0.152</td> <td> 0.879</td> <td>   -0.575</td> <td>    0.492</td>\n",
       "</tr>\n",
       "</table>"
      ],
      "text/plain": [
       "<class 'statsmodels.iolib.summary.Summary'>\n",
       "\"\"\"\n",
       "                 Generalized Linear Model Regression Results                  \n",
       "==============================================================================\n",
       "Dep. Variable:              Converted   No. Observations:                 6363\n",
       "Model:                            GLM   Df Residuals:                     6345\n",
       "Model Family:                Binomial   Df Model:                           17\n",
       "Link Function:                  logit   Scale:                          1.0000\n",
       "Method:                          IRLS   Log-Likelihood:                -3240.2\n",
       "Date:                Mon, 14 Jun 2021   Deviance:                       6480.3\n",
       "Time:                        19:23:00   Pearson chi2:                 6.84e+03\n",
       "No. Iterations:                    21                                         \n",
       "Covariance Type:            nonrobust                                         \n",
       "============================================================================================================\n",
       "                                               coef    std err          z      P>|z|      [0.025      0.975]\n",
       "------------------------------------------------------------------------------------------------------------\n",
       "const                                       -2.3218      0.128    -18.083      0.000      -2.574      -2.070\n",
       "Do Not Email                                -1.2609      0.148     -8.541      0.000      -1.550      -0.972\n",
       "Do Not Call                                 20.9685    3.4e+04      0.001      1.000   -6.65e+04    6.66e+04\n",
       "TotalVisits                                  1.0112      0.248      4.085      0.000       0.526       1.496\n",
       "Total Time Spent on Website                  4.5264      0.152     29.695      0.000       4.228       4.825\n",
       "Page Views Per Visit                        -0.1560      0.224     -0.698      0.485      -0.594       0.282\n",
       "Search                                      -0.0421      0.890     -0.047      0.962      -1.786       1.702\n",
       "Newspaper Article                           22.2057   4.82e+04      0.000      1.000   -9.44e+04    9.45e+04\n",
       "Newspaper                                  -24.5784   4.82e+04     -0.001      1.000   -9.45e+04    9.44e+04\n",
       "Digital Advertisement                       -0.2565      1.442     -0.178      0.859      -3.084       2.571\n",
       "Through Recommendations                     21.8684   2.67e+04      0.001      0.999   -5.22e+04    5.23e+04\n",
       "I agree to pay the amount through cheque -6.996e-11   5.25e-07     -0.000      1.000   -1.03e-06    1.03e-06\n",
       "A free copy of Mastering The Interview      -0.0276      0.096     -0.288      0.773      -0.215       0.160\n",
       "Lead_Origin_Landing Page Submission          0.1813      0.095      1.917      0.055      -0.004       0.367\n",
       "Lead_Origin_Lead Import/Add Form             4.1756      0.301     13.858      0.000       3.585       4.766\n",
       "Lead_Source_Google                           0.2954      0.102      2.895      0.004       0.095       0.495\n",
       "Lead_Source_Olark Chat                       1.0917      0.142      7.667      0.000       0.813       1.371\n",
       "Lead_Source_Organic Search                   0.1193      0.116      1.025      0.306      -0.109       0.348\n",
       "Lead_Source_Others                          -0.0415      0.272     -0.152      0.879      -0.575       0.492\n",
       "============================================================================================================\n",
       "\"\"\""
      ]
     },
     "execution_count": 924,
     "metadata": {},
     "output_type": "execute_result"
    }
   ],
   "source": [
    "X_train_sm = sm.add_constant(X_train[col])\n",
    "logm2 = sm.GLM(y_train,X_train_sm, family = sm.families.Binomial())\n",
    "res = logm2.fit()\n",
    "res.summary()"
   ]
  },
  {
   "cell_type": "markdown",
   "metadata": {},
   "source": [
    "From above we can see `Do Not Call` has high  p-value . So we will be droppping that column."
   ]
  },
  {
   "cell_type": "code",
   "execution_count": 925,
   "metadata": {},
   "outputs": [
    {
     "data": {
      "text/plain": [
       "Index(['Do Not Email', 'TotalVisits', 'Total Time Spent on Website',\n",
       "       'Page Views Per Visit', 'Search', 'Newspaper Article', 'Newspaper',\n",
       "       'Digital Advertisement', 'Through Recommendations',\n",
       "       'I agree to pay the amount through cheque',\n",
       "       'A free copy of Mastering The Interview',\n",
       "       'Lead_Origin_Landing Page Submission',\n",
       "       'Lead_Origin_Lead Import/Add Form', 'Lead_Source_Google',\n",
       "       'Lead_Source_Olark Chat', 'Lead_Source_Organic Search',\n",
       "       'Lead_Source_Others'],\n",
       "      dtype='object')"
      ]
     },
     "execution_count": 925,
     "metadata": {},
     "output_type": "execute_result"
    }
   ],
   "source": [
    "col=col.drop(\"Do Not Call\",1)\n",
    "col"
   ]
  },
  {
   "cell_type": "code",
   "execution_count": 926,
   "metadata": {},
   "outputs": [
    {
     "data": {
      "text/html": [
       "<table class=\"simpletable\">\n",
       "<caption>Generalized Linear Model Regression Results</caption>\n",
       "<tr>\n",
       "  <th>Dep. Variable:</th>       <td>Converted</td>    <th>  No. Observations:  </th>  <td>  6363</td> \n",
       "</tr>\n",
       "<tr>\n",
       "  <th>Model:</th>                  <td>GLM</td>       <th>  Df Residuals:      </th>  <td>  6346</td> \n",
       "</tr>\n",
       "<tr>\n",
       "  <th>Model Family:</th>        <td>Binomial</td>     <th>  Df Model:          </th>  <td>    16</td> \n",
       "</tr>\n",
       "<tr>\n",
       "  <th>Link Function:</th>         <td>logit</td>      <th>  Scale:             </th> <td>  1.0000</td>\n",
       "</tr>\n",
       "<tr>\n",
       "  <th>Method:</th>                <td>IRLS</td>       <th>  Log-Likelihood:    </th> <td> -3240.5</td>\n",
       "</tr>\n",
       "<tr>\n",
       "  <th>Date:</th>            <td>Mon, 14 Jun 2021</td> <th>  Deviance:          </th> <td>  6481.1</td>\n",
       "</tr>\n",
       "<tr>\n",
       "  <th>Time:</th>                <td>19:23:01</td>     <th>  Pearson chi2:      </th> <td>6.85e+03</td>\n",
       "</tr>\n",
       "<tr>\n",
       "  <th>No. Iterations:</th>         <td>20</td>        <th>                     </th>     <td> </td>   \n",
       "</tr>\n",
       "<tr>\n",
       "  <th>Covariance Type:</th>     <td>nonrobust</td>    <th>                     </th>     <td> </td>   \n",
       "</tr>\n",
       "</table>\n",
       "<table class=\"simpletable\">\n",
       "<tr>\n",
       "                      <td></td>                        <th>coef</th>     <th>std err</th>      <th>z</th>      <th>P>|z|</th>  <th>[0.025</th>    <th>0.975]</th>  \n",
       "</tr>\n",
       "<tr>\n",
       "  <th>const</th>                                    <td>   -2.3219</td> <td>    0.128</td> <td>  -18.082</td> <td> 0.000</td> <td>   -2.574</td> <td>   -2.070</td>\n",
       "</tr>\n",
       "<tr>\n",
       "  <th>Do Not Email</th>                             <td>   -1.2613</td> <td>    0.148</td> <td>   -8.542</td> <td> 0.000</td> <td>   -1.551</td> <td>   -0.972</td>\n",
       "</tr>\n",
       "<tr>\n",
       "  <th>TotalVisits</th>                              <td>    1.0145</td> <td>    0.247</td> <td>    4.100</td> <td> 0.000</td> <td>    0.530</td> <td>    1.500</td>\n",
       "</tr>\n",
       "<tr>\n",
       "  <th>Total Time Spent on Website</th>              <td>    4.5279</td> <td>    0.152</td> <td>   29.706</td> <td> 0.000</td> <td>    4.229</td> <td>    4.827</td>\n",
       "</tr>\n",
       "<tr>\n",
       "  <th>Page Views Per Visit</th>                     <td>   -0.1566</td> <td>    0.224</td> <td>   -0.700</td> <td> 0.484</td> <td>   -0.595</td> <td>    0.282</td>\n",
       "</tr>\n",
       "<tr>\n",
       "  <th>Search</th>                                   <td>   -0.0426</td> <td>    0.890</td> <td>   -0.048</td> <td> 0.962</td> <td>   -1.786</td> <td>    1.701</td>\n",
       "</tr>\n",
       "<tr>\n",
       "  <th>Newspaper Article</th>                        <td>   21.2055</td> <td> 2.92e+04</td> <td>    0.001</td> <td> 0.999</td> <td>-5.73e+04</td> <td> 5.73e+04</td>\n",
       "</tr>\n",
       "<tr>\n",
       "  <th>Newspaper</th>                                <td>  -23.5802</td> <td> 2.92e+04</td> <td>   -0.001</td> <td> 0.999</td> <td>-5.73e+04</td> <td> 5.73e+04</td>\n",
       "</tr>\n",
       "<tr>\n",
       "  <th>Digital Advertisement</th>                    <td>   -0.2566</td> <td>    1.442</td> <td>   -0.178</td> <td> 0.859</td> <td>   -3.084</td> <td>    2.571</td>\n",
       "</tr>\n",
       "<tr>\n",
       "  <th>Through Recommendations</th>                  <td>   20.8676</td> <td> 1.62e+04</td> <td>    0.001</td> <td> 0.999</td> <td>-3.17e+04</td> <td> 3.17e+04</td>\n",
       "</tr>\n",
       "<tr>\n",
       "  <th>I agree to pay the amount through cheque</th> <td>-2.005e-10</td> <td> 2.39e-07</td> <td>   -0.001</td> <td> 0.999</td> <td>-4.69e-07</td> <td> 4.69e-07</td>\n",
       "</tr>\n",
       "<tr>\n",
       "  <th>A free copy of Mastering The Interview</th>   <td>   -0.0276</td> <td>    0.096</td> <td>   -0.288</td> <td> 0.773</td> <td>   -0.215</td> <td>    0.160</td>\n",
       "</tr>\n",
       "<tr>\n",
       "  <th>Lead_Origin_Landing Page Submission</th>      <td>    0.1803</td> <td>    0.095</td> <td>    1.907</td> <td> 0.057</td> <td>   -0.005</td> <td>    0.366</td>\n",
       "</tr>\n",
       "<tr>\n",
       "  <th>Lead_Origin_Lead Import/Add Form</th>         <td>    4.1789</td> <td>    0.301</td> <td>   13.869</td> <td> 0.000</td> <td>    3.588</td> <td>    4.769</td>\n",
       "</tr>\n",
       "<tr>\n",
       "  <th>Lead_Source_Google</th>                       <td>    0.2955</td> <td>    0.102</td> <td>    2.896</td> <td> 0.004</td> <td>    0.096</td> <td>    0.495</td>\n",
       "</tr>\n",
       "<tr>\n",
       "  <th>Lead_Source_Olark Chat</th>                   <td>    1.0916</td> <td>    0.142</td> <td>    7.666</td> <td> 0.000</td> <td>    0.813</td> <td>    1.371</td>\n",
       "</tr>\n",
       "<tr>\n",
       "  <th>Lead_Source_Organic Search</th>               <td>    0.1187</td> <td>    0.116</td> <td>    1.020</td> <td> 0.308</td> <td>   -0.110</td> <td>    0.347</td>\n",
       "</tr>\n",
       "<tr>\n",
       "  <th>Lead_Source_Others</th>                       <td>   -0.0423</td> <td>    0.272</td> <td>   -0.155</td> <td> 0.877</td> <td>   -0.576</td> <td>    0.491</td>\n",
       "</tr>\n",
       "</table>"
      ],
      "text/plain": [
       "<class 'statsmodels.iolib.summary.Summary'>\n",
       "\"\"\"\n",
       "                 Generalized Linear Model Regression Results                  \n",
       "==============================================================================\n",
       "Dep. Variable:              Converted   No. Observations:                 6363\n",
       "Model:                            GLM   Df Residuals:                     6346\n",
       "Model Family:                Binomial   Df Model:                           16\n",
       "Link Function:                  logit   Scale:                          1.0000\n",
       "Method:                          IRLS   Log-Likelihood:                -3240.5\n",
       "Date:                Mon, 14 Jun 2021   Deviance:                       6481.1\n",
       "Time:                        19:23:01   Pearson chi2:                 6.85e+03\n",
       "No. Iterations:                    20                                         \n",
       "Covariance Type:            nonrobust                                         \n",
       "============================================================================================================\n",
       "                                               coef    std err          z      P>|z|      [0.025      0.975]\n",
       "------------------------------------------------------------------------------------------------------------\n",
       "const                                       -2.3219      0.128    -18.082      0.000      -2.574      -2.070\n",
       "Do Not Email                                -1.2613      0.148     -8.542      0.000      -1.551      -0.972\n",
       "TotalVisits                                  1.0145      0.247      4.100      0.000       0.530       1.500\n",
       "Total Time Spent on Website                  4.5279      0.152     29.706      0.000       4.229       4.827\n",
       "Page Views Per Visit                        -0.1566      0.224     -0.700      0.484      -0.595       0.282\n",
       "Search                                      -0.0426      0.890     -0.048      0.962      -1.786       1.701\n",
       "Newspaper Article                           21.2055   2.92e+04      0.001      0.999   -5.73e+04    5.73e+04\n",
       "Newspaper                                  -23.5802   2.92e+04     -0.001      0.999   -5.73e+04    5.73e+04\n",
       "Digital Advertisement                       -0.2566      1.442     -0.178      0.859      -3.084       2.571\n",
       "Through Recommendations                     20.8676   1.62e+04      0.001      0.999   -3.17e+04    3.17e+04\n",
       "I agree to pay the amount through cheque -2.005e-10   2.39e-07     -0.001      0.999   -4.69e-07    4.69e-07\n",
       "A free copy of Mastering The Interview      -0.0276      0.096     -0.288      0.773      -0.215       0.160\n",
       "Lead_Origin_Landing Page Submission          0.1803      0.095      1.907      0.057      -0.005       0.366\n",
       "Lead_Origin_Lead Import/Add Form             4.1789      0.301     13.869      0.000       3.588       4.769\n",
       "Lead_Source_Google                           0.2955      0.102      2.896      0.004       0.096       0.495\n",
       "Lead_Source_Olark Chat                       1.0916      0.142      7.666      0.000       0.813       1.371\n",
       "Lead_Source_Organic Search                   0.1187      0.116      1.020      0.308      -0.110       0.347\n",
       "Lead_Source_Others                          -0.0423      0.272     -0.155      0.877      -0.576       0.491\n",
       "============================================================================================================\n",
       "\"\"\""
      ]
     },
     "execution_count": 926,
     "metadata": {},
     "output_type": "execute_result"
    }
   ],
   "source": [
    "#re-assessing the model\n",
    "X_train_sm = sm.add_constant(X_train[col])\n",
    "logm2 = sm.GLM(y_train,X_train_sm, family = sm.families.Binomial())\n",
    "res = logm2.fit()\n",
    "res.summary()"
   ]
  },
  {
   "cell_type": "markdown",
   "metadata": {},
   "source": [
    "From above we can see `Newspaper Article` has high  p-value . So we will be droppping that column."
   ]
  },
  {
   "cell_type": "code",
   "execution_count": 927,
   "metadata": {},
   "outputs": [
    {
     "data": {
      "text/plain": [
       "Index(['Do Not Email', 'TotalVisits', 'Total Time Spent on Website',\n",
       "       'Page Views Per Visit', 'Search', 'Newspaper', 'Digital Advertisement',\n",
       "       'Through Recommendations', 'I agree to pay the amount through cheque',\n",
       "       'A free copy of Mastering The Interview',\n",
       "       'Lead_Origin_Landing Page Submission',\n",
       "       'Lead_Origin_Lead Import/Add Form', 'Lead_Source_Google',\n",
       "       'Lead_Source_Olark Chat', 'Lead_Source_Organic Search',\n",
       "       'Lead_Source_Others'],\n",
       "      dtype='object')"
      ]
     },
     "execution_count": 927,
     "metadata": {},
     "output_type": "execute_result"
    }
   ],
   "source": [
    "col=col.drop(\"Newspaper Article\",1)\n",
    "col"
   ]
  },
  {
   "cell_type": "code",
   "execution_count": 928,
   "metadata": {},
   "outputs": [
    {
     "data": {
      "text/html": [
       "<table class=\"simpletable\">\n",
       "<caption>Generalized Linear Model Regression Results</caption>\n",
       "<tr>\n",
       "  <th>Dep. Variable:</th>       <td>Converted</td>    <th>  No. Observations:  </th>  <td>  6363</td> \n",
       "</tr>\n",
       "<tr>\n",
       "  <th>Model:</th>                  <td>GLM</td>       <th>  Df Residuals:      </th>  <td>  6347</td> \n",
       "</tr>\n",
       "<tr>\n",
       "  <th>Model Family:</th>        <td>Binomial</td>     <th>  Df Model:          </th>  <td>    15</td> \n",
       "</tr>\n",
       "<tr>\n",
       "  <th>Link Function:</th>         <td>logit</td>      <th>  Scale:             </th> <td>  1.0000</td>\n",
       "</tr>\n",
       "<tr>\n",
       "  <th>Method:</th>                <td>IRLS</td>       <th>  Log-Likelihood:    </th> <td> -3241.1</td>\n",
       "</tr>\n",
       "<tr>\n",
       "  <th>Date:</th>            <td>Mon, 14 Jun 2021</td> <th>  Deviance:          </th> <td>  6482.1</td>\n",
       "</tr>\n",
       "<tr>\n",
       "  <th>Time:</th>                <td>19:23:01</td>     <th>  Pearson chi2:      </th> <td>6.85e+03</td>\n",
       "</tr>\n",
       "<tr>\n",
       "  <th>No. Iterations:</th>         <td>20</td>        <th>                     </th>     <td> </td>   \n",
       "</tr>\n",
       "<tr>\n",
       "  <th>Covariance Type:</th>     <td>nonrobust</td>    <th>                     </th>     <td> </td>   \n",
       "</tr>\n",
       "</table>\n",
       "<table class=\"simpletable\">\n",
       "<tr>\n",
       "                      <td></td>                        <th>coef</th>     <th>std err</th>      <th>z</th>      <th>P>|z|</th>  <th>[0.025</th>    <th>0.975]</th>  \n",
       "</tr>\n",
       "<tr>\n",
       "  <th>const</th>                                    <td>   -2.3241</td> <td>    0.128</td> <td>  -18.102</td> <td> 0.000</td> <td>   -2.576</td> <td>   -2.072</td>\n",
       "</tr>\n",
       "<tr>\n",
       "  <th>Do Not Email</th>                             <td>   -1.2620</td> <td>    0.148</td> <td>   -8.547</td> <td> 0.000</td> <td>   -1.551</td> <td>   -0.973</td>\n",
       "</tr>\n",
       "<tr>\n",
       "  <th>TotalVisits</th>                              <td>    1.0149</td> <td>    0.247</td> <td>    4.101</td> <td> 0.000</td> <td>    0.530</td> <td>    1.500</td>\n",
       "</tr>\n",
       "<tr>\n",
       "  <th>Total Time Spent on Website</th>              <td>    4.5292</td> <td>    0.152</td> <td>   29.712</td> <td> 0.000</td> <td>    4.230</td> <td>    4.828</td>\n",
       "</tr>\n",
       "<tr>\n",
       "  <th>Page Views Per Visit</th>                     <td>   -0.1473</td> <td>    0.223</td> <td>   -0.660</td> <td> 0.509</td> <td>   -0.585</td> <td>    0.290</td>\n",
       "</tr>\n",
       "<tr>\n",
       "  <th>Search</th>                                   <td>   -0.0466</td> <td>    0.890</td> <td>   -0.052</td> <td> 0.958</td> <td>   -1.791</td> <td>    1.697</td>\n",
       "</tr>\n",
       "<tr>\n",
       "  <th>Newspaper</th>                                <td>  -23.5832</td> <td> 2.92e+04</td> <td>   -0.001</td> <td> 0.999</td> <td>-5.73e+04</td> <td> 5.73e+04</td>\n",
       "</tr>\n",
       "<tr>\n",
       "  <th>Digital Advertisement</th>                    <td>   -0.2613</td> <td>    1.442</td> <td>   -0.181</td> <td> 0.856</td> <td>   -3.087</td> <td>    2.565</td>\n",
       "</tr>\n",
       "<tr>\n",
       "  <th>Through Recommendations</th>                  <td>   20.8641</td> <td> 1.62e+04</td> <td>    0.001</td> <td> 0.999</td> <td>-3.16e+04</td> <td> 3.17e+04</td>\n",
       "</tr>\n",
       "<tr>\n",
       "  <th>I agree to pay the amount through cheque</th> <td> 2.158e-11</td> <td> 1.48e-08</td> <td>    0.001</td> <td> 0.999</td> <td> -2.9e-08</td> <td>  2.9e-08</td>\n",
       "</tr>\n",
       "<tr>\n",
       "  <th>A free copy of Mastering The Interview</th>   <td>   -0.0299</td> <td>    0.096</td> <td>   -0.313</td> <td> 0.755</td> <td>   -0.217</td> <td>    0.157</td>\n",
       "</tr>\n",
       "<tr>\n",
       "  <th>Lead_Origin_Landing Page Submission</th>      <td>    0.1811</td> <td>    0.095</td> <td>    1.916</td> <td> 0.055</td> <td>   -0.004</td> <td>    0.366</td>\n",
       "</tr>\n",
       "<tr>\n",
       "  <th>Lead_Origin_Lead Import/Add Form</th>         <td>    4.1826</td> <td>    0.301</td> <td>   13.880</td> <td> 0.000</td> <td>    3.592</td> <td>    4.773</td>\n",
       "</tr>\n",
       "<tr>\n",
       "  <th>Lead_Source_Google</th>                       <td>    0.2940</td> <td>    0.102</td> <td>    2.882</td> <td> 0.004</td> <td>    0.094</td> <td>    0.494</td>\n",
       "</tr>\n",
       "<tr>\n",
       "  <th>Lead_Source_Olark Chat</th>                   <td>    1.0937</td> <td>    0.142</td> <td>    7.682</td> <td> 0.000</td> <td>    0.815</td> <td>    1.373</td>\n",
       "</tr>\n",
       "<tr>\n",
       "  <th>Lead_Source_Organic Search</th>               <td>    0.1204</td> <td>    0.116</td> <td>    1.034</td> <td> 0.301</td> <td>   -0.108</td> <td>    0.349</td>\n",
       "</tr>\n",
       "<tr>\n",
       "  <th>Lead_Source_Others</th>                       <td>   -0.0438</td> <td>    0.272</td> <td>   -0.161</td> <td> 0.872</td> <td>   -0.577</td> <td>    0.490</td>\n",
       "</tr>\n",
       "</table>"
      ],
      "text/plain": [
       "<class 'statsmodels.iolib.summary.Summary'>\n",
       "\"\"\"\n",
       "                 Generalized Linear Model Regression Results                  \n",
       "==============================================================================\n",
       "Dep. Variable:              Converted   No. Observations:                 6363\n",
       "Model:                            GLM   Df Residuals:                     6347\n",
       "Model Family:                Binomial   Df Model:                           15\n",
       "Link Function:                  logit   Scale:                          1.0000\n",
       "Method:                          IRLS   Log-Likelihood:                -3241.1\n",
       "Date:                Mon, 14 Jun 2021   Deviance:                       6482.1\n",
       "Time:                        19:23:01   Pearson chi2:                 6.85e+03\n",
       "No. Iterations:                    20                                         \n",
       "Covariance Type:            nonrobust                                         \n",
       "============================================================================================================\n",
       "                                               coef    std err          z      P>|z|      [0.025      0.975]\n",
       "------------------------------------------------------------------------------------------------------------\n",
       "const                                       -2.3241      0.128    -18.102      0.000      -2.576      -2.072\n",
       "Do Not Email                                -1.2620      0.148     -8.547      0.000      -1.551      -0.973\n",
       "TotalVisits                                  1.0149      0.247      4.101      0.000       0.530       1.500\n",
       "Total Time Spent on Website                  4.5292      0.152     29.712      0.000       4.230       4.828\n",
       "Page Views Per Visit                        -0.1473      0.223     -0.660      0.509      -0.585       0.290\n",
       "Search                                      -0.0466      0.890     -0.052      0.958      -1.791       1.697\n",
       "Newspaper                                  -23.5832   2.92e+04     -0.001      0.999   -5.73e+04    5.73e+04\n",
       "Digital Advertisement                       -0.2613      1.442     -0.181      0.856      -3.087       2.565\n",
       "Through Recommendations                     20.8641   1.62e+04      0.001      0.999   -3.16e+04    3.17e+04\n",
       "I agree to pay the amount through cheque  2.158e-11   1.48e-08      0.001      0.999    -2.9e-08     2.9e-08\n",
       "A free copy of Mastering The Interview      -0.0299      0.096     -0.313      0.755      -0.217       0.157\n",
       "Lead_Origin_Landing Page Submission          0.1811      0.095      1.916      0.055      -0.004       0.366\n",
       "Lead_Origin_Lead Import/Add Form             4.1826      0.301     13.880      0.000       3.592       4.773\n",
       "Lead_Source_Google                           0.2940      0.102      2.882      0.004       0.094       0.494\n",
       "Lead_Source_Olark Chat                       1.0937      0.142      7.682      0.000       0.815       1.373\n",
       "Lead_Source_Organic Search                   0.1204      0.116      1.034      0.301      -0.108       0.349\n",
       "Lead_Source_Others                          -0.0438      0.272     -0.161      0.872      -0.577       0.490\n",
       "============================================================================================================\n",
       "\"\"\""
      ]
     },
     "execution_count": 928,
     "metadata": {},
     "output_type": "execute_result"
    }
   ],
   "source": [
    "#re-assessing the model\n",
    "X_train_sm = sm.add_constant(X_train[col])\n",
    "logm2 = sm.GLM(y_train,X_train_sm, family = sm.families.Binomial())\n",
    "res = logm2.fit()\n",
    "res.summary()"
   ]
  },
  {
   "cell_type": "markdown",
   "metadata": {},
   "source": [
    "From above we can see `Newspaper` has high  p-value . So we will be droppping that column."
   ]
  },
  {
   "cell_type": "code",
   "execution_count": 929,
   "metadata": {},
   "outputs": [
    {
     "data": {
      "text/plain": [
       "Index(['Do Not Email', 'TotalVisits', 'Total Time Spent on Website',\n",
       "       'Page Views Per Visit', 'Search', 'Digital Advertisement',\n",
       "       'Through Recommendations', 'I agree to pay the amount through cheque',\n",
       "       'A free copy of Mastering The Interview',\n",
       "       'Lead_Origin_Landing Page Submission',\n",
       "       'Lead_Origin_Lead Import/Add Form', 'Lead_Source_Google',\n",
       "       'Lead_Source_Olark Chat', 'Lead_Source_Organic Search',\n",
       "       'Lead_Source_Others'],\n",
       "      dtype='object')"
      ]
     },
     "execution_count": 929,
     "metadata": {},
     "output_type": "execute_result"
    }
   ],
   "source": [
    "col=col.drop(\"Newspaper\",1)\n",
    "col"
   ]
  },
  {
   "cell_type": "code",
   "execution_count": 930,
   "metadata": {},
   "outputs": [
    {
     "data": {
      "text/html": [
       "<table class=\"simpletable\">\n",
       "<caption>Generalized Linear Model Regression Results</caption>\n",
       "<tr>\n",
       "  <th>Dep. Variable:</th>       <td>Converted</td>    <th>  No. Observations:  </th>  <td>  6363</td> \n",
       "</tr>\n",
       "<tr>\n",
       "  <th>Model:</th>                  <td>GLM</td>       <th>  Df Residuals:      </th>  <td>  6348</td> \n",
       "</tr>\n",
       "<tr>\n",
       "  <th>Model Family:</th>        <td>Binomial</td>     <th>  Df Model:          </th>  <td>    14</td> \n",
       "</tr>\n",
       "<tr>\n",
       "  <th>Link Function:</th>         <td>logit</td>      <th>  Scale:             </th> <td>  1.0000</td>\n",
       "</tr>\n",
       "<tr>\n",
       "  <th>Method:</th>                <td>IRLS</td>       <th>  Log-Likelihood:    </th> <td> -3243.2</td>\n",
       "</tr>\n",
       "<tr>\n",
       "  <th>Date:</th>            <td>Mon, 14 Jun 2021</td> <th>  Deviance:          </th> <td>  6486.4</td>\n",
       "</tr>\n",
       "<tr>\n",
       "  <th>Time:</th>                <td>19:23:01</td>     <th>  Pearson chi2:      </th> <td>6.85e+03</td>\n",
       "</tr>\n",
       "<tr>\n",
       "  <th>No. Iterations:</th>         <td>20</td>        <th>                     </th>     <td> </td>   \n",
       "</tr>\n",
       "<tr>\n",
       "  <th>Covariance Type:</th>     <td>nonrobust</td>    <th>                     </th>     <td> </td>   \n",
       "</tr>\n",
       "</table>\n",
       "<table class=\"simpletable\">\n",
       "<tr>\n",
       "                      <td></td>                        <th>coef</th>     <th>std err</th>      <th>z</th>      <th>P>|z|</th>  <th>[0.025</th>    <th>0.975]</th>  \n",
       "</tr>\n",
       "<tr>\n",
       "  <th>const</th>                                    <td>   -2.3251</td> <td>    0.128</td> <td>  -18.115</td> <td> 0.000</td> <td>   -2.577</td> <td>   -2.074</td>\n",
       "</tr>\n",
       "<tr>\n",
       "  <th>Do Not Email</th>                             <td>   -1.2602</td> <td>    0.148</td> <td>   -8.537</td> <td> 0.000</td> <td>   -1.549</td> <td>   -0.971</td>\n",
       "</tr>\n",
       "<tr>\n",
       "  <th>TotalVisits</th>                              <td>    0.9951</td> <td>    0.247</td> <td>    4.025</td> <td> 0.000</td> <td>    0.511</td> <td>    1.480</td>\n",
       "</tr>\n",
       "<tr>\n",
       "  <th>Total Time Spent on Website</th>              <td>    4.5194</td> <td>    0.152</td> <td>   29.681</td> <td> 0.000</td> <td>    4.221</td> <td>    4.818</td>\n",
       "</tr>\n",
       "<tr>\n",
       "  <th>Page Views Per Visit</th>                     <td>   -0.1413</td> <td>    0.223</td> <td>   -0.633</td> <td> 0.527</td> <td>   -0.579</td> <td>    0.296</td>\n",
       "</tr>\n",
       "<tr>\n",
       "  <th>Search</th>                                   <td>   -0.0390</td> <td>    0.890</td> <td>   -0.044</td> <td> 0.965</td> <td>   -1.783</td> <td>    1.705</td>\n",
       "</tr>\n",
       "<tr>\n",
       "  <th>Digital Advertisement</th>                    <td>   -0.2520</td> <td>    1.441</td> <td>   -0.175</td> <td> 0.861</td> <td>   -3.077</td> <td>    2.573</td>\n",
       "</tr>\n",
       "<tr>\n",
       "  <th>Through Recommendations</th>                  <td>   20.8733</td> <td> 1.61e+04</td> <td>    0.001</td> <td> 0.999</td> <td>-3.16e+04</td> <td> 3.17e+04</td>\n",
       "</tr>\n",
       "<tr>\n",
       "  <th>I agree to pay the amount through cheque</th> <td> 8.682e-11</td> <td> 6.72e-08</td> <td>    0.001</td> <td> 0.999</td> <td>-1.32e-07</td> <td> 1.32e-07</td>\n",
       "</tr>\n",
       "<tr>\n",
       "  <th>A free copy of Mastering The Interview</th>   <td>   -0.0226</td> <td>    0.096</td> <td>   -0.237</td> <td> 0.813</td> <td>   -0.210</td> <td>    0.165</td>\n",
       "</tr>\n",
       "<tr>\n",
       "  <th>Lead_Origin_Landing Page Submission</th>      <td>    0.1790</td> <td>    0.095</td> <td>    1.894</td> <td> 0.058</td> <td>   -0.006</td> <td>    0.364</td>\n",
       "</tr>\n",
       "<tr>\n",
       "  <th>Lead_Origin_Lead Import/Add Form</th>         <td>    4.1771</td> <td>    0.301</td> <td>   13.868</td> <td> 0.000</td> <td>    3.587</td> <td>    4.767</td>\n",
       "</tr>\n",
       "<tr>\n",
       "  <th>Lead_Source_Google</th>                       <td>    0.3015</td> <td>    0.102</td> <td>    2.957</td> <td> 0.003</td> <td>    0.102</td> <td>    0.501</td>\n",
       "</tr>\n",
       "<tr>\n",
       "  <th>Lead_Source_Olark Chat</th>                   <td>    1.0950</td> <td>    0.142</td> <td>    7.693</td> <td> 0.000</td> <td>    0.816</td> <td>    1.374</td>\n",
       "</tr>\n",
       "<tr>\n",
       "  <th>Lead_Source_Organic Search</th>               <td>    0.1259</td> <td>    0.116</td> <td>    1.082</td> <td> 0.279</td> <td>   -0.102</td> <td>    0.354</td>\n",
       "</tr>\n",
       "<tr>\n",
       "  <th>Lead_Source_Others</th>                       <td>   -0.0372</td> <td>    0.272</td> <td>   -0.137</td> <td> 0.891</td> <td>   -0.571</td> <td>    0.496</td>\n",
       "</tr>\n",
       "</table>"
      ],
      "text/plain": [
       "<class 'statsmodels.iolib.summary.Summary'>\n",
       "\"\"\"\n",
       "                 Generalized Linear Model Regression Results                  \n",
       "==============================================================================\n",
       "Dep. Variable:              Converted   No. Observations:                 6363\n",
       "Model:                            GLM   Df Residuals:                     6348\n",
       "Model Family:                Binomial   Df Model:                           14\n",
       "Link Function:                  logit   Scale:                          1.0000\n",
       "Method:                          IRLS   Log-Likelihood:                -3243.2\n",
       "Date:                Mon, 14 Jun 2021   Deviance:                       6486.4\n",
       "Time:                        19:23:01   Pearson chi2:                 6.85e+03\n",
       "No. Iterations:                    20                                         \n",
       "Covariance Type:            nonrobust                                         \n",
       "============================================================================================================\n",
       "                                               coef    std err          z      P>|z|      [0.025      0.975]\n",
       "------------------------------------------------------------------------------------------------------------\n",
       "const                                       -2.3251      0.128    -18.115      0.000      -2.577      -2.074\n",
       "Do Not Email                                -1.2602      0.148     -8.537      0.000      -1.549      -0.971\n",
       "TotalVisits                                  0.9951      0.247      4.025      0.000       0.511       1.480\n",
       "Total Time Spent on Website                  4.5194      0.152     29.681      0.000       4.221       4.818\n",
       "Page Views Per Visit                        -0.1413      0.223     -0.633      0.527      -0.579       0.296\n",
       "Search                                      -0.0390      0.890     -0.044      0.965      -1.783       1.705\n",
       "Digital Advertisement                       -0.2520      1.441     -0.175      0.861      -3.077       2.573\n",
       "Through Recommendations                     20.8733   1.61e+04      0.001      0.999   -3.16e+04    3.17e+04\n",
       "I agree to pay the amount through cheque  8.682e-11   6.72e-08      0.001      0.999   -1.32e-07    1.32e-07\n",
       "A free copy of Mastering The Interview      -0.0226      0.096     -0.237      0.813      -0.210       0.165\n",
       "Lead_Origin_Landing Page Submission          0.1790      0.095      1.894      0.058      -0.006       0.364\n",
       "Lead_Origin_Lead Import/Add Form             4.1771      0.301     13.868      0.000       3.587       4.767\n",
       "Lead_Source_Google                           0.3015      0.102      2.957      0.003       0.102       0.501\n",
       "Lead_Source_Olark Chat                       1.0950      0.142      7.693      0.000       0.816       1.374\n",
       "Lead_Source_Organic Search                   0.1259      0.116      1.082      0.279      -0.102       0.354\n",
       "Lead_Source_Others                          -0.0372      0.272     -0.137      0.891      -0.571       0.496\n",
       "============================================================================================================\n",
       "\"\"\""
      ]
     },
     "execution_count": 930,
     "metadata": {},
     "output_type": "execute_result"
    }
   ],
   "source": [
    "#re-assessing the model\n",
    "X_train_sm = sm.add_constant(X_train[col])\n",
    "logm2 = sm.GLM(y_train,X_train_sm, family = sm.families.Binomial())\n",
    "res = logm2.fit()\n",
    "res.summary()"
   ]
  },
  {
   "cell_type": "markdown",
   "metadata": {},
   "source": [
    "From above we can see `Through Recommendations` has high  p-value . So we will be droppping that column."
   ]
  },
  {
   "cell_type": "code",
   "execution_count": 931,
   "metadata": {},
   "outputs": [
    {
     "data": {
      "text/plain": [
       "Index(['Do Not Email', 'TotalVisits', 'Total Time Spent on Website',\n",
       "       'Page Views Per Visit', 'Search', 'Digital Advertisement',\n",
       "       'I agree to pay the amount through cheque',\n",
       "       'A free copy of Mastering The Interview',\n",
       "       'Lead_Origin_Landing Page Submission',\n",
       "       'Lead_Origin_Lead Import/Add Form', 'Lead_Source_Google',\n",
       "       'Lead_Source_Olark Chat', 'Lead_Source_Organic Search',\n",
       "       'Lead_Source_Others'],\n",
       "      dtype='object')"
      ]
     },
     "execution_count": 931,
     "metadata": {},
     "output_type": "execute_result"
    }
   ],
   "source": [
    "col=col.drop(\"Through Recommendations\",1)\n",
    "col"
   ]
  },
  {
   "cell_type": "code",
   "execution_count": 932,
   "metadata": {},
   "outputs": [
    {
     "data": {
      "text/html": [
       "<table class=\"simpletable\">\n",
       "<caption>Generalized Linear Model Regression Results</caption>\n",
       "<tr>\n",
       "  <th>Dep. Variable:</th>       <td>Converted</td>    <th>  No. Observations:  </th>  <td>  6363</td> \n",
       "</tr>\n",
       "<tr>\n",
       "  <th>Model:</th>                  <td>GLM</td>       <th>  Df Residuals:      </th>  <td>  6349</td> \n",
       "</tr>\n",
       "<tr>\n",
       "  <th>Model Family:</th>        <td>Binomial</td>     <th>  Df Model:          </th>  <td>    13</td> \n",
       "</tr>\n",
       "<tr>\n",
       "  <th>Link Function:</th>         <td>logit</td>      <th>  Scale:             </th> <td>  1.0000</td>\n",
       "</tr>\n",
       "<tr>\n",
       "  <th>Method:</th>                <td>IRLS</td>       <th>  Log-Likelihood:    </th> <td> -3244.4</td>\n",
       "</tr>\n",
       "<tr>\n",
       "  <th>Date:</th>            <td>Mon, 14 Jun 2021</td> <th>  Deviance:          </th> <td>  6488.9</td>\n",
       "</tr>\n",
       "<tr>\n",
       "  <th>Time:</th>                <td>19:23:02</td>     <th>  Pearson chi2:      </th> <td>6.86e+03</td>\n",
       "</tr>\n",
       "<tr>\n",
       "  <th>No. Iterations:</th>          <td>5</td>        <th>                     </th>     <td> </td>   \n",
       "</tr>\n",
       "<tr>\n",
       "  <th>Covariance Type:</th>     <td>nonrobust</td>    <th>                     </th>     <td> </td>   \n",
       "</tr>\n",
       "</table>\n",
       "<table class=\"simpletable\">\n",
       "<tr>\n",
       "                      <td></td>                        <th>coef</th>     <th>std err</th>      <th>z</th>      <th>P>|z|</th>  <th>[0.025</th>    <th>0.975]</th>  \n",
       "</tr>\n",
       "<tr>\n",
       "  <th>const</th>                                    <td>   -2.3260</td> <td>    0.128</td> <td>  -18.140</td> <td> 0.000</td> <td>   -2.577</td> <td>   -2.075</td>\n",
       "</tr>\n",
       "<tr>\n",
       "  <th>Do Not Email</th>                             <td>   -1.2616</td> <td>    0.148</td> <td>   -8.546</td> <td> 0.000</td> <td>   -1.551</td> <td>   -0.972</td>\n",
       "</tr>\n",
       "<tr>\n",
       "  <th>TotalVisits</th>                              <td>    1.0053</td> <td>    0.247</td> <td>    4.069</td> <td> 0.000</td> <td>    0.521</td> <td>    1.490</td>\n",
       "</tr>\n",
       "<tr>\n",
       "  <th>Total Time Spent on Website</th>              <td>    4.5232</td> <td>    0.152</td> <td>   29.708</td> <td> 0.000</td> <td>    4.225</td> <td>    4.822</td>\n",
       "</tr>\n",
       "<tr>\n",
       "  <th>Page Views Per Visit</th>                     <td>   -0.1399</td> <td>    0.223</td> <td>   -0.628</td> <td> 0.530</td> <td>   -0.577</td> <td>    0.297</td>\n",
       "</tr>\n",
       "<tr>\n",
       "  <th>Search</th>                                   <td>   -0.0444</td> <td>    0.890</td> <td>   -0.050</td> <td> 0.960</td> <td>   -1.788</td> <td>    1.700</td>\n",
       "</tr>\n",
       "<tr>\n",
       "  <th>Digital Advertisement</th>                    <td>   -0.2584</td> <td>    1.441</td> <td>   -0.179</td> <td> 0.858</td> <td>   -3.083</td> <td>    2.566</td>\n",
       "</tr>\n",
       "<tr>\n",
       "  <th>I agree to pay the amount through cheque</th> <td>  3.25e-17</td> <td> 2.16e-15</td> <td>    0.015</td> <td> 0.988</td> <td> -4.2e-15</td> <td> 4.27e-15</td>\n",
       "</tr>\n",
       "<tr>\n",
       "  <th>A free copy of Mastering The Interview</th>   <td>   -0.0264</td> <td>    0.095</td> <td>   -0.277</td> <td> 0.782</td> <td>   -0.214</td> <td>    0.161</td>\n",
       "</tr>\n",
       "<tr>\n",
       "  <th>Lead_Origin_Landing Page Submission</th>      <td>    0.1810</td> <td>    0.095</td> <td>    1.915</td> <td> 0.056</td> <td>   -0.004</td> <td>    0.366</td>\n",
       "</tr>\n",
       "<tr>\n",
       "  <th>Lead_Origin_Lead Import/Add Form</th>         <td>    4.1814</td> <td>    0.301</td> <td>   13.881</td> <td> 0.000</td> <td>    3.591</td> <td>    4.772</td>\n",
       "</tr>\n",
       "<tr>\n",
       "  <th>Lead_Source_Google</th>                       <td>    0.2982</td> <td>    0.102</td> <td>    2.927</td> <td> 0.003</td> <td>    0.099</td> <td>    0.498</td>\n",
       "</tr>\n",
       "<tr>\n",
       "  <th>Lead_Source_Olark Chat</th>                   <td>    1.0958</td> <td>    0.142</td> <td>    7.704</td> <td> 0.000</td> <td>    0.817</td> <td>    1.375</td>\n",
       "</tr>\n",
       "<tr>\n",
       "  <th>Lead_Source_Organic Search</th>               <td>    0.1243</td> <td>    0.116</td> <td>    1.069</td> <td> 0.285</td> <td>   -0.104</td> <td>    0.352</td>\n",
       "</tr>\n",
       "<tr>\n",
       "  <th>Lead_Source_Others</th>                       <td>   -0.0407</td> <td>    0.272</td> <td>   -0.149</td> <td> 0.881</td> <td>   -0.574</td> <td>    0.493</td>\n",
       "</tr>\n",
       "</table>"
      ],
      "text/plain": [
       "<class 'statsmodels.iolib.summary.Summary'>\n",
       "\"\"\"\n",
       "                 Generalized Linear Model Regression Results                  \n",
       "==============================================================================\n",
       "Dep. Variable:              Converted   No. Observations:                 6363\n",
       "Model:                            GLM   Df Residuals:                     6349\n",
       "Model Family:                Binomial   Df Model:                           13\n",
       "Link Function:                  logit   Scale:                          1.0000\n",
       "Method:                          IRLS   Log-Likelihood:                -3244.4\n",
       "Date:                Mon, 14 Jun 2021   Deviance:                       6488.9\n",
       "Time:                        19:23:02   Pearson chi2:                 6.86e+03\n",
       "No. Iterations:                     5                                         \n",
       "Covariance Type:            nonrobust                                         \n",
       "============================================================================================================\n",
       "                                               coef    std err          z      P>|z|      [0.025      0.975]\n",
       "------------------------------------------------------------------------------------------------------------\n",
       "const                                       -2.3260      0.128    -18.140      0.000      -2.577      -2.075\n",
       "Do Not Email                                -1.2616      0.148     -8.546      0.000      -1.551      -0.972\n",
       "TotalVisits                                  1.0053      0.247      4.069      0.000       0.521       1.490\n",
       "Total Time Spent on Website                  4.5232      0.152     29.708      0.000       4.225       4.822\n",
       "Page Views Per Visit                        -0.1399      0.223     -0.628      0.530      -0.577       0.297\n",
       "Search                                      -0.0444      0.890     -0.050      0.960      -1.788       1.700\n",
       "Digital Advertisement                       -0.2584      1.441     -0.179      0.858      -3.083       2.566\n",
       "I agree to pay the amount through cheque   3.25e-17   2.16e-15      0.015      0.988    -4.2e-15    4.27e-15\n",
       "A free copy of Mastering The Interview      -0.0264      0.095     -0.277      0.782      -0.214       0.161\n",
       "Lead_Origin_Landing Page Submission          0.1810      0.095      1.915      0.056      -0.004       0.366\n",
       "Lead_Origin_Lead Import/Add Form             4.1814      0.301     13.881      0.000       3.591       4.772\n",
       "Lead_Source_Google                           0.2982      0.102      2.927      0.003       0.099       0.498\n",
       "Lead_Source_Olark Chat                       1.0958      0.142      7.704      0.000       0.817       1.375\n",
       "Lead_Source_Organic Search                   0.1243      0.116      1.069      0.285      -0.104       0.352\n",
       "Lead_Source_Others                          -0.0407      0.272     -0.149      0.881      -0.574       0.493\n",
       "============================================================================================================\n",
       "\"\"\""
      ]
     },
     "execution_count": 932,
     "metadata": {},
     "output_type": "execute_result"
    }
   ],
   "source": [
    "#re-assessing the model\n",
    "X_train_sm = sm.add_constant(X_train[col])\n",
    "logm2 = sm.GLM(y_train,X_train_sm, family = sm.families.Binomial())\n",
    "res = logm2.fit()\n",
    "res.summary()"
   ]
  },
  {
   "cell_type": "markdown",
   "metadata": {},
   "source": [
    "From above we can see `I agree to pay the amount through cheque` has high  p-value . So we will be droppping that column."
   ]
  },
  {
   "cell_type": "code",
   "execution_count": 933,
   "metadata": {},
   "outputs": [
    {
     "data": {
      "text/plain": [
       "Index(['Do Not Email', 'TotalVisits', 'Total Time Spent on Website',\n",
       "       'Page Views Per Visit', 'Search', 'Digital Advertisement',\n",
       "       'A free copy of Mastering The Interview',\n",
       "       'Lead_Origin_Landing Page Submission',\n",
       "       'Lead_Origin_Lead Import/Add Form', 'Lead_Source_Google',\n",
       "       'Lead_Source_Olark Chat', 'Lead_Source_Organic Search',\n",
       "       'Lead_Source_Others'],\n",
       "      dtype='object')"
      ]
     },
     "execution_count": 933,
     "metadata": {},
     "output_type": "execute_result"
    }
   ],
   "source": [
    "col=col.drop(\"I agree to pay the amount through cheque\",1)\n",
    "col"
   ]
  },
  {
   "cell_type": "code",
   "execution_count": 934,
   "metadata": {},
   "outputs": [
    {
     "data": {
      "text/html": [
       "<table class=\"simpletable\">\n",
       "<caption>Generalized Linear Model Regression Results</caption>\n",
       "<tr>\n",
       "  <th>Dep. Variable:</th>       <td>Converted</td>    <th>  No. Observations:  </th>  <td>  6363</td> \n",
       "</tr>\n",
       "<tr>\n",
       "  <th>Model:</th>                  <td>GLM</td>       <th>  Df Residuals:      </th>  <td>  6349</td> \n",
       "</tr>\n",
       "<tr>\n",
       "  <th>Model Family:</th>        <td>Binomial</td>     <th>  Df Model:          </th>  <td>    13</td> \n",
       "</tr>\n",
       "<tr>\n",
       "  <th>Link Function:</th>         <td>logit</td>      <th>  Scale:             </th> <td>  1.0000</td>\n",
       "</tr>\n",
       "<tr>\n",
       "  <th>Method:</th>                <td>IRLS</td>       <th>  Log-Likelihood:    </th> <td> -3244.4</td>\n",
       "</tr>\n",
       "<tr>\n",
       "  <th>Date:</th>            <td>Mon, 14 Jun 2021</td> <th>  Deviance:          </th> <td>  6488.9</td>\n",
       "</tr>\n",
       "<tr>\n",
       "  <th>Time:</th>                <td>19:23:02</td>     <th>  Pearson chi2:      </th> <td>6.86e+03</td>\n",
       "</tr>\n",
       "<tr>\n",
       "  <th>No. Iterations:</th>          <td>5</td>        <th>                     </th>     <td> </td>   \n",
       "</tr>\n",
       "<tr>\n",
       "  <th>Covariance Type:</th>     <td>nonrobust</td>    <th>                     </th>     <td> </td>   \n",
       "</tr>\n",
       "</table>\n",
       "<table class=\"simpletable\">\n",
       "<tr>\n",
       "                     <td></td>                       <th>coef</th>     <th>std err</th>      <th>z</th>      <th>P>|z|</th>  <th>[0.025</th>    <th>0.975]</th>  \n",
       "</tr>\n",
       "<tr>\n",
       "  <th>const</th>                                  <td>   -2.3260</td> <td>    0.128</td> <td>  -18.140</td> <td> 0.000</td> <td>   -2.577</td> <td>   -2.075</td>\n",
       "</tr>\n",
       "<tr>\n",
       "  <th>Do Not Email</th>                           <td>   -1.2616</td> <td>    0.148</td> <td>   -8.546</td> <td> 0.000</td> <td>   -1.551</td> <td>   -0.972</td>\n",
       "</tr>\n",
       "<tr>\n",
       "  <th>TotalVisits</th>                            <td>    1.0053</td> <td>    0.247</td> <td>    4.069</td> <td> 0.000</td> <td>    0.521</td> <td>    1.490</td>\n",
       "</tr>\n",
       "<tr>\n",
       "  <th>Total Time Spent on Website</th>            <td>    4.5232</td> <td>    0.152</td> <td>   29.708</td> <td> 0.000</td> <td>    4.225</td> <td>    4.822</td>\n",
       "</tr>\n",
       "<tr>\n",
       "  <th>Page Views Per Visit</th>                   <td>   -0.1399</td> <td>    0.223</td> <td>   -0.628</td> <td> 0.530</td> <td>   -0.577</td> <td>    0.297</td>\n",
       "</tr>\n",
       "<tr>\n",
       "  <th>Search</th>                                 <td>   -0.0444</td> <td>    0.890</td> <td>   -0.050</td> <td> 0.960</td> <td>   -1.788</td> <td>    1.700</td>\n",
       "</tr>\n",
       "<tr>\n",
       "  <th>Digital Advertisement</th>                  <td>   -0.2584</td> <td>    1.441</td> <td>   -0.179</td> <td> 0.858</td> <td>   -3.083</td> <td>    2.566</td>\n",
       "</tr>\n",
       "<tr>\n",
       "  <th>A free copy of Mastering The Interview</th> <td>   -0.0264</td> <td>    0.095</td> <td>   -0.277</td> <td> 0.782</td> <td>   -0.214</td> <td>    0.161</td>\n",
       "</tr>\n",
       "<tr>\n",
       "  <th>Lead_Origin_Landing Page Submission</th>    <td>    0.1810</td> <td>    0.095</td> <td>    1.915</td> <td> 0.056</td> <td>   -0.004</td> <td>    0.366</td>\n",
       "</tr>\n",
       "<tr>\n",
       "  <th>Lead_Origin_Lead Import/Add Form</th>       <td>    4.1814</td> <td>    0.301</td> <td>   13.881</td> <td> 0.000</td> <td>    3.591</td> <td>    4.772</td>\n",
       "</tr>\n",
       "<tr>\n",
       "  <th>Lead_Source_Google</th>                     <td>    0.2982</td> <td>    0.102</td> <td>    2.927</td> <td> 0.003</td> <td>    0.099</td> <td>    0.498</td>\n",
       "</tr>\n",
       "<tr>\n",
       "  <th>Lead_Source_Olark Chat</th>                 <td>    1.0958</td> <td>    0.142</td> <td>    7.704</td> <td> 0.000</td> <td>    0.817</td> <td>    1.375</td>\n",
       "</tr>\n",
       "<tr>\n",
       "  <th>Lead_Source_Organic Search</th>             <td>    0.1243</td> <td>    0.116</td> <td>    1.069</td> <td> 0.285</td> <td>   -0.104</td> <td>    0.352</td>\n",
       "</tr>\n",
       "<tr>\n",
       "  <th>Lead_Source_Others</th>                     <td>   -0.0407</td> <td>    0.272</td> <td>   -0.149</td> <td> 0.881</td> <td>   -0.574</td> <td>    0.493</td>\n",
       "</tr>\n",
       "</table>"
      ],
      "text/plain": [
       "<class 'statsmodels.iolib.summary.Summary'>\n",
       "\"\"\"\n",
       "                 Generalized Linear Model Regression Results                  \n",
       "==============================================================================\n",
       "Dep. Variable:              Converted   No. Observations:                 6363\n",
       "Model:                            GLM   Df Residuals:                     6349\n",
       "Model Family:                Binomial   Df Model:                           13\n",
       "Link Function:                  logit   Scale:                          1.0000\n",
       "Method:                          IRLS   Log-Likelihood:                -3244.4\n",
       "Date:                Mon, 14 Jun 2021   Deviance:                       6488.9\n",
       "Time:                        19:23:02   Pearson chi2:                 6.86e+03\n",
       "No. Iterations:                     5                                         \n",
       "Covariance Type:            nonrobust                                         \n",
       "==========================================================================================================\n",
       "                                             coef    std err          z      P>|z|      [0.025      0.975]\n",
       "----------------------------------------------------------------------------------------------------------\n",
       "const                                     -2.3260      0.128    -18.140      0.000      -2.577      -2.075\n",
       "Do Not Email                              -1.2616      0.148     -8.546      0.000      -1.551      -0.972\n",
       "TotalVisits                                1.0053      0.247      4.069      0.000       0.521       1.490\n",
       "Total Time Spent on Website                4.5232      0.152     29.708      0.000       4.225       4.822\n",
       "Page Views Per Visit                      -0.1399      0.223     -0.628      0.530      -0.577       0.297\n",
       "Search                                    -0.0444      0.890     -0.050      0.960      -1.788       1.700\n",
       "Digital Advertisement                     -0.2584      1.441     -0.179      0.858      -3.083       2.566\n",
       "A free copy of Mastering The Interview    -0.0264      0.095     -0.277      0.782      -0.214       0.161\n",
       "Lead_Origin_Landing Page Submission        0.1810      0.095      1.915      0.056      -0.004       0.366\n",
       "Lead_Origin_Lead Import/Add Form           4.1814      0.301     13.881      0.000       3.591       4.772\n",
       "Lead_Source_Google                         0.2982      0.102      2.927      0.003       0.099       0.498\n",
       "Lead_Source_Olark Chat                     1.0958      0.142      7.704      0.000       0.817       1.375\n",
       "Lead_Source_Organic Search                 0.1243      0.116      1.069      0.285      -0.104       0.352\n",
       "Lead_Source_Others                        -0.0407      0.272     -0.149      0.881      -0.574       0.493\n",
       "==========================================================================================================\n",
       "\"\"\""
      ]
     },
     "execution_count": 934,
     "metadata": {},
     "output_type": "execute_result"
    }
   ],
   "source": [
    "#re-assessing the model\n",
    "X_train_sm = sm.add_constant(X_train[col])\n",
    "logm2 = sm.GLM(y_train,X_train_sm, family = sm.families.Binomial())\n",
    "res = logm2.fit()\n",
    "res.summary()"
   ]
  },
  {
   "cell_type": "markdown",
   "metadata": {},
   "source": [
    "From above we can see `Search` has high  p-value . So we will be droppping that column."
   ]
  },
  {
   "cell_type": "code",
   "execution_count": 935,
   "metadata": {},
   "outputs": [
    {
     "data": {
      "text/plain": [
       "Index(['Do Not Email', 'TotalVisits', 'Total Time Spent on Website',\n",
       "       'Page Views Per Visit', 'Digital Advertisement',\n",
       "       'A free copy of Mastering The Interview',\n",
       "       'Lead_Origin_Landing Page Submission',\n",
       "       'Lead_Origin_Lead Import/Add Form', 'Lead_Source_Google',\n",
       "       'Lead_Source_Olark Chat', 'Lead_Source_Organic Search',\n",
       "       'Lead_Source_Others'],\n",
       "      dtype='object')"
      ]
     },
     "execution_count": 935,
     "metadata": {},
     "output_type": "execute_result"
    }
   ],
   "source": [
    "col=col.drop(\"Search\",1)\n",
    "col"
   ]
  },
  {
   "cell_type": "code",
   "execution_count": 936,
   "metadata": {},
   "outputs": [
    {
     "data": {
      "text/html": [
       "<table class=\"simpletable\">\n",
       "<caption>Generalized Linear Model Regression Results</caption>\n",
       "<tr>\n",
       "  <th>Dep. Variable:</th>       <td>Converted</td>    <th>  No. Observations:  </th>  <td>  6363</td> \n",
       "</tr>\n",
       "<tr>\n",
       "  <th>Model:</th>                  <td>GLM</td>       <th>  Df Residuals:      </th>  <td>  6350</td> \n",
       "</tr>\n",
       "<tr>\n",
       "  <th>Model Family:</th>        <td>Binomial</td>     <th>  Df Model:          </th>  <td>    12</td> \n",
       "</tr>\n",
       "<tr>\n",
       "  <th>Link Function:</th>         <td>logit</td>      <th>  Scale:             </th> <td>  1.0000</td>\n",
       "</tr>\n",
       "<tr>\n",
       "  <th>Method:</th>                <td>IRLS</td>       <th>  Log-Likelihood:    </th> <td> -3244.4</td>\n",
       "</tr>\n",
       "<tr>\n",
       "  <th>Date:</th>            <td>Mon, 14 Jun 2021</td> <th>  Deviance:          </th> <td>  6488.9</td>\n",
       "</tr>\n",
       "<tr>\n",
       "  <th>Time:</th>                <td>19:23:02</td>     <th>  Pearson chi2:      </th> <td>6.86e+03</td>\n",
       "</tr>\n",
       "<tr>\n",
       "  <th>No. Iterations:</th>          <td>5</td>        <th>                     </th>     <td> </td>   \n",
       "</tr>\n",
       "<tr>\n",
       "  <th>Covariance Type:</th>     <td>nonrobust</td>    <th>                     </th>     <td> </td>   \n",
       "</tr>\n",
       "</table>\n",
       "<table class=\"simpletable\">\n",
       "<tr>\n",
       "                     <td></td>                       <th>coef</th>     <th>std err</th>      <th>z</th>      <th>P>|z|</th>  <th>[0.025</th>    <th>0.975]</th>  \n",
       "</tr>\n",
       "<tr>\n",
       "  <th>const</th>                                  <td>   -2.3261</td> <td>    0.128</td> <td>  -18.141</td> <td> 0.000</td> <td>   -2.577</td> <td>   -2.075</td>\n",
       "</tr>\n",
       "<tr>\n",
       "  <th>Do Not Email</th>                           <td>   -1.2615</td> <td>    0.148</td> <td>   -8.546</td> <td> 0.000</td> <td>   -1.551</td> <td>   -0.972</td>\n",
       "</tr>\n",
       "<tr>\n",
       "  <th>TotalVisits</th>                            <td>    1.0048</td> <td>    0.247</td> <td>    4.070</td> <td> 0.000</td> <td>    0.521</td> <td>    1.489</td>\n",
       "</tr>\n",
       "<tr>\n",
       "  <th>Total Time Spent on Website</th>            <td>    4.5231</td> <td>    0.152</td> <td>   29.710</td> <td> 0.000</td> <td>    4.225</td> <td>    4.821</td>\n",
       "</tr>\n",
       "<tr>\n",
       "  <th>Page Views Per Visit</th>                   <td>   -0.1399</td> <td>    0.223</td> <td>   -0.628</td> <td> 0.530</td> <td>   -0.576</td> <td>    0.297</td>\n",
       "</tr>\n",
       "<tr>\n",
       "  <th>Digital Advertisement</th>                  <td>   -0.2580</td> <td>    1.441</td> <td>   -0.179</td> <td> 0.858</td> <td>   -3.083</td> <td>    2.567</td>\n",
       "</tr>\n",
       "<tr>\n",
       "  <th>A free copy of Mastering The Interview</th> <td>   -0.0262</td> <td>    0.095</td> <td>   -0.275</td> <td> 0.783</td> <td>   -0.213</td> <td>    0.161</td>\n",
       "</tr>\n",
       "<tr>\n",
       "  <th>Lead_Origin_Landing Page Submission</th>    <td>    0.1809</td> <td>    0.094</td> <td>    1.914</td> <td> 0.056</td> <td>   -0.004</td> <td>    0.366</td>\n",
       "</tr>\n",
       "<tr>\n",
       "  <th>Lead_Origin_Lead Import/Add Form</th>       <td>    4.1813</td> <td>    0.301</td> <td>   13.882</td> <td> 0.000</td> <td>    3.591</td> <td>    4.772</td>\n",
       "</tr>\n",
       "<tr>\n",
       "  <th>Lead_Source_Google</th>                     <td>    0.2984</td> <td>    0.102</td> <td>    2.932</td> <td> 0.003</td> <td>    0.099</td> <td>    0.498</td>\n",
       "</tr>\n",
       "<tr>\n",
       "  <th>Lead_Source_Olark Chat</th>                 <td>    1.0958</td> <td>    0.142</td> <td>    7.704</td> <td> 0.000</td> <td>    0.817</td> <td>    1.375</td>\n",
       "</tr>\n",
       "<tr>\n",
       "  <th>Lead_Source_Organic Search</th>             <td>    0.1241</td> <td>    0.116</td> <td>    1.068</td> <td> 0.286</td> <td>   -0.104</td> <td>    0.352</td>\n",
       "</tr>\n",
       "<tr>\n",
       "  <th>Lead_Source_Others</th>                     <td>   -0.0405</td> <td>    0.272</td> <td>   -0.149</td> <td> 0.882</td> <td>   -0.574</td> <td>    0.493</td>\n",
       "</tr>\n",
       "</table>"
      ],
      "text/plain": [
       "<class 'statsmodels.iolib.summary.Summary'>\n",
       "\"\"\"\n",
       "                 Generalized Linear Model Regression Results                  \n",
       "==============================================================================\n",
       "Dep. Variable:              Converted   No. Observations:                 6363\n",
       "Model:                            GLM   Df Residuals:                     6350\n",
       "Model Family:                Binomial   Df Model:                           12\n",
       "Link Function:                  logit   Scale:                          1.0000\n",
       "Method:                          IRLS   Log-Likelihood:                -3244.4\n",
       "Date:                Mon, 14 Jun 2021   Deviance:                       6488.9\n",
       "Time:                        19:23:02   Pearson chi2:                 6.86e+03\n",
       "No. Iterations:                     5                                         \n",
       "Covariance Type:            nonrobust                                         \n",
       "==========================================================================================================\n",
       "                                             coef    std err          z      P>|z|      [0.025      0.975]\n",
       "----------------------------------------------------------------------------------------------------------\n",
       "const                                     -2.3261      0.128    -18.141      0.000      -2.577      -2.075\n",
       "Do Not Email                              -1.2615      0.148     -8.546      0.000      -1.551      -0.972\n",
       "TotalVisits                                1.0048      0.247      4.070      0.000       0.521       1.489\n",
       "Total Time Spent on Website                4.5231      0.152     29.710      0.000       4.225       4.821\n",
       "Page Views Per Visit                      -0.1399      0.223     -0.628      0.530      -0.576       0.297\n",
       "Digital Advertisement                     -0.2580      1.441     -0.179      0.858      -3.083       2.567\n",
       "A free copy of Mastering The Interview    -0.0262      0.095     -0.275      0.783      -0.213       0.161\n",
       "Lead_Origin_Landing Page Submission        0.1809      0.094      1.914      0.056      -0.004       0.366\n",
       "Lead_Origin_Lead Import/Add Form           4.1813      0.301     13.882      0.000       3.591       4.772\n",
       "Lead_Source_Google                         0.2984      0.102      2.932      0.003       0.099       0.498\n",
       "Lead_Source_Olark Chat                     1.0958      0.142      7.704      0.000       0.817       1.375\n",
       "Lead_Source_Organic Search                 0.1241      0.116      1.068      0.286      -0.104       0.352\n",
       "Lead_Source_Others                        -0.0405      0.272     -0.149      0.882      -0.574       0.493\n",
       "==========================================================================================================\n",
       "\"\"\""
      ]
     },
     "execution_count": 936,
     "metadata": {},
     "output_type": "execute_result"
    }
   ],
   "source": [
    "#re-assessing the model\n",
    "X_train_sm = sm.add_constant(X_train[col])\n",
    "logm2 = sm.GLM(y_train,X_train_sm, family = sm.families.Binomial())\n",
    "res = logm2.fit()\n",
    "res.summary()"
   ]
  },
  {
   "cell_type": "markdown",
   "metadata": {},
   "source": [
    "From above we can see `Page Views Per Visit` has high  p-value . So we will be droppping that column."
   ]
  },
  {
   "cell_type": "code",
   "execution_count": 937,
   "metadata": {},
   "outputs": [
    {
     "data": {
      "text/plain": [
       "Index(['Do Not Email', 'TotalVisits', 'Total Time Spent on Website',\n",
       "       'Digital Advertisement', 'A free copy of Mastering The Interview',\n",
       "       'Lead_Origin_Landing Page Submission',\n",
       "       'Lead_Origin_Lead Import/Add Form', 'Lead_Source_Google',\n",
       "       'Lead_Source_Olark Chat', 'Lead_Source_Organic Search',\n",
       "       'Lead_Source_Others'],\n",
       "      dtype='object')"
      ]
     },
     "execution_count": 937,
     "metadata": {},
     "output_type": "execute_result"
    }
   ],
   "source": [
    "col=col.drop(\"Page Views Per Visit\",1)\n",
    "col"
   ]
  },
  {
   "cell_type": "code",
   "execution_count": 938,
   "metadata": {},
   "outputs": [
    {
     "data": {
      "text/html": [
       "<table class=\"simpletable\">\n",
       "<caption>Generalized Linear Model Regression Results</caption>\n",
       "<tr>\n",
       "  <th>Dep. Variable:</th>       <td>Converted</td>    <th>  No. Observations:  </th>  <td>  6363</td> \n",
       "</tr>\n",
       "<tr>\n",
       "  <th>Model:</th>                  <td>GLM</td>       <th>  Df Residuals:      </th>  <td>  6351</td> \n",
       "</tr>\n",
       "<tr>\n",
       "  <th>Model Family:</th>        <td>Binomial</td>     <th>  Df Model:          </th>  <td>    11</td> \n",
       "</tr>\n",
       "<tr>\n",
       "  <th>Link Function:</th>         <td>logit</td>      <th>  Scale:             </th> <td>  1.0000</td>\n",
       "</tr>\n",
       "<tr>\n",
       "  <th>Method:</th>                <td>IRLS</td>       <th>  Log-Likelihood:    </th> <td> -3244.6</td>\n",
       "</tr>\n",
       "<tr>\n",
       "  <th>Date:</th>            <td>Mon, 14 Jun 2021</td> <th>  Deviance:          </th> <td>  6489.3</td>\n",
       "</tr>\n",
       "<tr>\n",
       "  <th>Time:</th>                <td>19:23:02</td>     <th>  Pearson chi2:      </th> <td>6.87e+03</td>\n",
       "</tr>\n",
       "<tr>\n",
       "  <th>No. Iterations:</th>          <td>5</td>        <th>                     </th>     <td> </td>   \n",
       "</tr>\n",
       "<tr>\n",
       "  <th>Covariance Type:</th>     <td>nonrobust</td>    <th>                     </th>     <td> </td>   \n",
       "</tr>\n",
       "</table>\n",
       "<table class=\"simpletable\">\n",
       "<tr>\n",
       "                     <td></td>                       <th>coef</th>     <th>std err</th>      <th>z</th>      <th>P>|z|</th>  <th>[0.025</th>    <th>0.975]</th>  \n",
       "</tr>\n",
       "<tr>\n",
       "  <th>const</th>                                  <td>   -2.3426</td> <td>    0.126</td> <td>  -18.661</td> <td> 0.000</td> <td>   -2.589</td> <td>   -2.097</td>\n",
       "</tr>\n",
       "<tr>\n",
       "  <th>Do Not Email</th>                           <td>   -1.2608</td> <td>    0.148</td> <td>   -8.541</td> <td> 0.000</td> <td>   -1.550</td> <td>   -0.972</td>\n",
       "</tr>\n",
       "<tr>\n",
       "  <th>TotalVisits</th>                            <td>    0.9439</td> <td>    0.227</td> <td>    4.157</td> <td> 0.000</td> <td>    0.499</td> <td>    1.389</td>\n",
       "</tr>\n",
       "<tr>\n",
       "  <th>Total Time Spent on Website</th>            <td>    4.5235</td> <td>    0.152</td> <td>   29.709</td> <td> 0.000</td> <td>    4.225</td> <td>    4.822</td>\n",
       "</tr>\n",
       "<tr>\n",
       "  <th>Digital Advertisement</th>                  <td>   -0.2912</td> <td>    1.433</td> <td>   -0.203</td> <td> 0.839</td> <td>   -3.099</td> <td>    2.517</td>\n",
       "</tr>\n",
       "<tr>\n",
       "  <th>A free copy of Mastering The Interview</th> <td>   -0.0240</td> <td>    0.095</td> <td>   -0.252</td> <td> 0.801</td> <td>   -0.211</td> <td>    0.163</td>\n",
       "</tr>\n",
       "<tr>\n",
       "  <th>Lead_Origin_Landing Page Submission</th>    <td>    0.1671</td> <td>    0.092</td> <td>    1.819</td> <td> 0.069</td> <td>   -0.013</td> <td>    0.347</td>\n",
       "</tr>\n",
       "<tr>\n",
       "  <th>Lead_Origin_Lead Import/Add Form</th>       <td>    4.2101</td> <td>    0.298</td> <td>   14.127</td> <td> 0.000</td> <td>    3.626</td> <td>    4.794</td>\n",
       "</tr>\n",
       "<tr>\n",
       "  <th>Lead_Source_Google</th>                     <td>    0.2931</td> <td>    0.101</td> <td>    2.891</td> <td> 0.004</td> <td>    0.094</td> <td>    0.492</td>\n",
       "</tr>\n",
       "<tr>\n",
       "  <th>Lead_Source_Olark Chat</th>                 <td>    1.1113</td> <td>    0.140</td> <td>    7.931</td> <td> 0.000</td> <td>    0.837</td> <td>    1.386</td>\n",
       "</tr>\n",
       "<tr>\n",
       "  <th>Lead_Source_Organic Search</th>             <td>    0.1098</td> <td>    0.114</td> <td>    0.964</td> <td> 0.335</td> <td>   -0.114</td> <td>    0.333</td>\n",
       "</tr>\n",
       "<tr>\n",
       "  <th>Lead_Source_Others</th>                     <td>   -0.0544</td> <td>    0.272</td> <td>   -0.200</td> <td> 0.841</td> <td>   -0.587</td> <td>    0.478</td>\n",
       "</tr>\n",
       "</table>"
      ],
      "text/plain": [
       "<class 'statsmodels.iolib.summary.Summary'>\n",
       "\"\"\"\n",
       "                 Generalized Linear Model Regression Results                  \n",
       "==============================================================================\n",
       "Dep. Variable:              Converted   No. Observations:                 6363\n",
       "Model:                            GLM   Df Residuals:                     6351\n",
       "Model Family:                Binomial   Df Model:                           11\n",
       "Link Function:                  logit   Scale:                          1.0000\n",
       "Method:                          IRLS   Log-Likelihood:                -3244.6\n",
       "Date:                Mon, 14 Jun 2021   Deviance:                       6489.3\n",
       "Time:                        19:23:02   Pearson chi2:                 6.87e+03\n",
       "No. Iterations:                     5                                         \n",
       "Covariance Type:            nonrobust                                         \n",
       "==========================================================================================================\n",
       "                                             coef    std err          z      P>|z|      [0.025      0.975]\n",
       "----------------------------------------------------------------------------------------------------------\n",
       "const                                     -2.3426      0.126    -18.661      0.000      -2.589      -2.097\n",
       "Do Not Email                              -1.2608      0.148     -8.541      0.000      -1.550      -0.972\n",
       "TotalVisits                                0.9439      0.227      4.157      0.000       0.499       1.389\n",
       "Total Time Spent on Website                4.5235      0.152     29.709      0.000       4.225       4.822\n",
       "Digital Advertisement                     -0.2912      1.433     -0.203      0.839      -3.099       2.517\n",
       "A free copy of Mastering The Interview    -0.0240      0.095     -0.252      0.801      -0.211       0.163\n",
       "Lead_Origin_Landing Page Submission        0.1671      0.092      1.819      0.069      -0.013       0.347\n",
       "Lead_Origin_Lead Import/Add Form           4.2101      0.298     14.127      0.000       3.626       4.794\n",
       "Lead_Source_Google                         0.2931      0.101      2.891      0.004       0.094       0.492\n",
       "Lead_Source_Olark Chat                     1.1113      0.140      7.931      0.000       0.837       1.386\n",
       "Lead_Source_Organic Search                 0.1098      0.114      0.964      0.335      -0.114       0.333\n",
       "Lead_Source_Others                        -0.0544      0.272     -0.200      0.841      -0.587       0.478\n",
       "==========================================================================================================\n",
       "\"\"\""
      ]
     },
     "execution_count": 938,
     "metadata": {},
     "output_type": "execute_result"
    }
   ],
   "source": [
    "X_train_sm = sm.add_constant(X_train[col])\n",
    "logm2 = sm.GLM(y_train,X_train_sm, family = sm.families.Binomial())\n",
    "res = logm2.fit()\n",
    "res.summary()"
   ]
  },
  {
   "cell_type": "markdown",
   "metadata": {},
   "source": [
    "From above we can see `Digital Advertisement` has high  p-value . So we will be droppping that column."
   ]
  },
  {
   "cell_type": "code",
   "execution_count": 939,
   "metadata": {},
   "outputs": [
    {
     "data": {
      "text/plain": [
       "Index(['Do Not Email', 'TotalVisits', 'Total Time Spent on Website',\n",
       "       'A free copy of Mastering The Interview',\n",
       "       'Lead_Origin_Landing Page Submission',\n",
       "       'Lead_Origin_Lead Import/Add Form', 'Lead_Source_Google',\n",
       "       'Lead_Source_Olark Chat', 'Lead_Source_Organic Search',\n",
       "       'Lead_Source_Others'],\n",
       "      dtype='object')"
      ]
     },
     "execution_count": 939,
     "metadata": {},
     "output_type": "execute_result"
    }
   ],
   "source": [
    "col=col.drop(\"Digital Advertisement\",1)\n",
    "col"
   ]
  },
  {
   "cell_type": "code",
   "execution_count": 940,
   "metadata": {},
   "outputs": [
    {
     "data": {
      "text/html": [
       "<table class=\"simpletable\">\n",
       "<caption>Generalized Linear Model Regression Results</caption>\n",
       "<tr>\n",
       "  <th>Dep. Variable:</th>       <td>Converted</td>    <th>  No. Observations:  </th>  <td>  6363</td> \n",
       "</tr>\n",
       "<tr>\n",
       "  <th>Model:</th>                  <td>GLM</td>       <th>  Df Residuals:      </th>  <td>  6352</td> \n",
       "</tr>\n",
       "<tr>\n",
       "  <th>Model Family:</th>        <td>Binomial</td>     <th>  Df Model:          </th>  <td>    10</td> \n",
       "</tr>\n",
       "<tr>\n",
       "  <th>Link Function:</th>         <td>logit</td>      <th>  Scale:             </th> <td>  1.0000</td>\n",
       "</tr>\n",
       "<tr>\n",
       "  <th>Method:</th>                <td>IRLS</td>       <th>  Log-Likelihood:    </th> <td> -3244.7</td>\n",
       "</tr>\n",
       "<tr>\n",
       "  <th>Date:</th>            <td>Mon, 14 Jun 2021</td> <th>  Deviance:          </th> <td>  6489.3</td>\n",
       "</tr>\n",
       "<tr>\n",
       "  <th>Time:</th>                <td>19:23:03</td>     <th>  Pearson chi2:      </th> <td>6.87e+03</td>\n",
       "</tr>\n",
       "<tr>\n",
       "  <th>No. Iterations:</th>          <td>5</td>        <th>                     </th>     <td> </td>   \n",
       "</tr>\n",
       "<tr>\n",
       "  <th>Covariance Type:</th>     <td>nonrobust</td>    <th>                     </th>     <td> </td>   \n",
       "</tr>\n",
       "</table>\n",
       "<table class=\"simpletable\">\n",
       "<tr>\n",
       "                     <td></td>                       <th>coef</th>     <th>std err</th>      <th>z</th>      <th>P>|z|</th>  <th>[0.025</th>    <th>0.975]</th>  \n",
       "</tr>\n",
       "<tr>\n",
       "  <th>const</th>                                  <td>   -2.3434</td> <td>    0.125</td> <td>  -18.676</td> <td> 0.000</td> <td>   -2.589</td> <td>   -2.097</td>\n",
       "</tr>\n",
       "<tr>\n",
       "  <th>Do Not Email</th>                           <td>   -1.2606</td> <td>    0.148</td> <td>   -8.539</td> <td> 0.000</td> <td>   -1.550</td> <td>   -0.971</td>\n",
       "</tr>\n",
       "<tr>\n",
       "  <th>TotalVisits</th>                            <td>    0.9431</td> <td>    0.227</td> <td>    4.154</td> <td> 0.000</td> <td>    0.498</td> <td>    1.388</td>\n",
       "</tr>\n",
       "<tr>\n",
       "  <th>Total Time Spent on Website</th>            <td>    4.5234</td> <td>    0.152</td> <td>   29.709</td> <td> 0.000</td> <td>    4.225</td> <td>    4.822</td>\n",
       "</tr>\n",
       "<tr>\n",
       "  <th>A free copy of Mastering The Interview</th> <td>   -0.0229</td> <td>    0.095</td> <td>   -0.241</td> <td> 0.809</td> <td>   -0.209</td> <td>    0.163</td>\n",
       "</tr>\n",
       "<tr>\n",
       "  <th>Lead_Origin_Landing Page Submission</th>    <td>    0.1668</td> <td>    0.092</td> <td>    1.815</td> <td> 0.069</td> <td>   -0.013</td> <td>    0.347</td>\n",
       "</tr>\n",
       "<tr>\n",
       "  <th>Lead_Origin_Lead Import/Add Form</th>       <td>    4.2099</td> <td>    0.298</td> <td>   14.126</td> <td> 0.000</td> <td>    3.626</td> <td>    4.794</td>\n",
       "</tr>\n",
       "<tr>\n",
       "  <th>Lead_Source_Google</th>                     <td>    0.2943</td> <td>    0.101</td> <td>    2.907</td> <td> 0.004</td> <td>    0.096</td> <td>    0.493</td>\n",
       "</tr>\n",
       "<tr>\n",
       "  <th>Lead_Source_Olark Chat</th>                 <td>    1.1121</td> <td>    0.140</td> <td>    7.940</td> <td> 0.000</td> <td>    0.838</td> <td>    1.387</td>\n",
       "</tr>\n",
       "<tr>\n",
       "  <th>Lead_Source_Organic Search</th>             <td>    0.1106</td> <td>    0.114</td> <td>    0.971</td> <td> 0.332</td> <td>   -0.113</td> <td>    0.334</td>\n",
       "</tr>\n",
       "<tr>\n",
       "  <th>Lead_Source_Others</th>                     <td>   -0.0535</td> <td>    0.272</td> <td>   -0.197</td> <td> 0.844</td> <td>   -0.586</td> <td>    0.479</td>\n",
       "</tr>\n",
       "</table>"
      ],
      "text/plain": [
       "<class 'statsmodels.iolib.summary.Summary'>\n",
       "\"\"\"\n",
       "                 Generalized Linear Model Regression Results                  \n",
       "==============================================================================\n",
       "Dep. Variable:              Converted   No. Observations:                 6363\n",
       "Model:                            GLM   Df Residuals:                     6352\n",
       "Model Family:                Binomial   Df Model:                           10\n",
       "Link Function:                  logit   Scale:                          1.0000\n",
       "Method:                          IRLS   Log-Likelihood:                -3244.7\n",
       "Date:                Mon, 14 Jun 2021   Deviance:                       6489.3\n",
       "Time:                        19:23:03   Pearson chi2:                 6.87e+03\n",
       "No. Iterations:                     5                                         \n",
       "Covariance Type:            nonrobust                                         \n",
       "==========================================================================================================\n",
       "                                             coef    std err          z      P>|z|      [0.025      0.975]\n",
       "----------------------------------------------------------------------------------------------------------\n",
       "const                                     -2.3434      0.125    -18.676      0.000      -2.589      -2.097\n",
       "Do Not Email                              -1.2606      0.148     -8.539      0.000      -1.550      -0.971\n",
       "TotalVisits                                0.9431      0.227      4.154      0.000       0.498       1.388\n",
       "Total Time Spent on Website                4.5234      0.152     29.709      0.000       4.225       4.822\n",
       "A free copy of Mastering The Interview    -0.0229      0.095     -0.241      0.809      -0.209       0.163\n",
       "Lead_Origin_Landing Page Submission        0.1668      0.092      1.815      0.069      -0.013       0.347\n",
       "Lead_Origin_Lead Import/Add Form           4.2099      0.298     14.126      0.000       3.626       4.794\n",
       "Lead_Source_Google                         0.2943      0.101      2.907      0.004       0.096       0.493\n",
       "Lead_Source_Olark Chat                     1.1121      0.140      7.940      0.000       0.838       1.387\n",
       "Lead_Source_Organic Search                 0.1106      0.114      0.971      0.332      -0.113       0.334\n",
       "Lead_Source_Others                        -0.0535      0.272     -0.197      0.844      -0.586       0.479\n",
       "==========================================================================================================\n",
       "\"\"\""
      ]
     },
     "execution_count": 940,
     "metadata": {},
     "output_type": "execute_result"
    }
   ],
   "source": [
    "X_train_sm = sm.add_constant(X_train[col])\n",
    "logm2 = sm.GLM(y_train,X_train_sm, family = sm.families.Binomial())\n",
    "res = logm2.fit()\n",
    "res.summary()"
   ]
  },
  {
   "cell_type": "markdown",
   "metadata": {},
   "source": [
    "From above we can see `A free copy of Mastering The Interview` has high  p-value . So we will be droppping that column."
   ]
  },
  {
   "cell_type": "code",
   "execution_count": 941,
   "metadata": {},
   "outputs": [
    {
     "data": {
      "text/plain": [
       "Index(['Do Not Email', 'TotalVisits', 'Total Time Spent on Website',\n",
       "       'Lead_Origin_Landing Page Submission',\n",
       "       'Lead_Origin_Lead Import/Add Form', 'Lead_Source_Google',\n",
       "       'Lead_Source_Olark Chat', 'Lead_Source_Organic Search',\n",
       "       'Lead_Source_Others'],\n",
       "      dtype='object')"
      ]
     },
     "execution_count": 941,
     "metadata": {},
     "output_type": "execute_result"
    }
   ],
   "source": [
    "col=col.drop(\"A free copy of Mastering The Interview\",1)\n",
    "col"
   ]
  },
  {
   "cell_type": "code",
   "execution_count": 942,
   "metadata": {},
   "outputs": [
    {
     "data": {
      "text/html": [
       "<table class=\"simpletable\">\n",
       "<caption>Generalized Linear Model Regression Results</caption>\n",
       "<tr>\n",
       "  <th>Dep. Variable:</th>       <td>Converted</td>    <th>  No. Observations:  </th>  <td>  6363</td> \n",
       "</tr>\n",
       "<tr>\n",
       "  <th>Model:</th>                  <td>GLM</td>       <th>  Df Residuals:      </th>  <td>  6353</td> \n",
       "</tr>\n",
       "<tr>\n",
       "  <th>Model Family:</th>        <td>Binomial</td>     <th>  Df Model:          </th>  <td>     9</td> \n",
       "</tr>\n",
       "<tr>\n",
       "  <th>Link Function:</th>         <td>logit</td>      <th>  Scale:             </th> <td>  1.0000</td>\n",
       "</tr>\n",
       "<tr>\n",
       "  <th>Method:</th>                <td>IRLS</td>       <th>  Log-Likelihood:    </th> <td> -3244.7</td>\n",
       "</tr>\n",
       "<tr>\n",
       "  <th>Date:</th>            <td>Mon, 14 Jun 2021</td> <th>  Deviance:          </th> <td>  6489.4</td>\n",
       "</tr>\n",
       "<tr>\n",
       "  <th>Time:</th>                <td>19:23:03</td>     <th>  Pearson chi2:      </th> <td>6.87e+03</td>\n",
       "</tr>\n",
       "<tr>\n",
       "  <th>No. Iterations:</th>          <td>5</td>        <th>                     </th>     <td> </td>   \n",
       "</tr>\n",
       "<tr>\n",
       "  <th>Covariance Type:</th>     <td>nonrobust</td>    <th>                     </th>     <td> </td>   \n",
       "</tr>\n",
       "</table>\n",
       "<table class=\"simpletable\">\n",
       "<tr>\n",
       "                   <td></td>                      <th>coef</th>     <th>std err</th>      <th>z</th>      <th>P>|z|</th>  <th>[0.025</th>    <th>0.975]</th>  \n",
       "</tr>\n",
       "<tr>\n",
       "  <th>const</th>                               <td>   -2.3530</td> <td>    0.119</td> <td>  -19.783</td> <td> 0.000</td> <td>   -2.586</td> <td>   -2.120</td>\n",
       "</tr>\n",
       "<tr>\n",
       "  <th>Do Not Email</th>                        <td>   -1.2593</td> <td>    0.148</td> <td>   -8.537</td> <td> 0.000</td> <td>   -1.548</td> <td>   -0.970</td>\n",
       "</tr>\n",
       "<tr>\n",
       "  <th>TotalVisits</th>                         <td>    0.9379</td> <td>    0.226</td> <td>    4.150</td> <td> 0.000</td> <td>    0.495</td> <td>    1.381</td>\n",
       "</tr>\n",
       "<tr>\n",
       "  <th>Total Time Spent on Website</th>         <td>    4.5224</td> <td>    0.152</td> <td>   29.714</td> <td> 0.000</td> <td>    4.224</td> <td>    4.821</td>\n",
       "</tr>\n",
       "<tr>\n",
       "  <th>Lead_Origin_Landing Page Submission</th> <td>    0.1600</td> <td>    0.087</td> <td>    1.829</td> <td> 0.067</td> <td>   -0.011</td> <td>    0.331</td>\n",
       "</tr>\n",
       "<tr>\n",
       "  <th>Lead_Origin_Lead Import/Add Form</th>    <td>    4.2100</td> <td>    0.298</td> <td>   14.124</td> <td> 0.000</td> <td>    3.626</td> <td>    4.794</td>\n",
       "</tr>\n",
       "<tr>\n",
       "  <th>Lead_Source_Google</th>                  <td>    0.3075</td> <td>    0.085</td> <td>    3.616</td> <td> 0.000</td> <td>    0.141</td> <td>    0.474</td>\n",
       "</tr>\n",
       "<tr>\n",
       "  <th>Lead_Source_Olark Chat</th>              <td>    1.1210</td> <td>    0.135</td> <td>    8.297</td> <td> 0.000</td> <td>    0.856</td> <td>    1.386</td>\n",
       "</tr>\n",
       "<tr>\n",
       "  <th>Lead_Source_Organic Search</th>          <td>    0.1152</td> <td>    0.112</td> <td>    1.026</td> <td> 0.305</td> <td>   -0.105</td> <td>    0.335</td>\n",
       "</tr>\n",
       "<tr>\n",
       "  <th>Lead_Source_Others</th>                  <td>   -0.0442</td> <td>    0.269</td> <td>   -0.164</td> <td> 0.869</td> <td>   -0.571</td> <td>    0.483</td>\n",
       "</tr>\n",
       "</table>"
      ],
      "text/plain": [
       "<class 'statsmodels.iolib.summary.Summary'>\n",
       "\"\"\"\n",
       "                 Generalized Linear Model Regression Results                  \n",
       "==============================================================================\n",
       "Dep. Variable:              Converted   No. Observations:                 6363\n",
       "Model:                            GLM   Df Residuals:                     6353\n",
       "Model Family:                Binomial   Df Model:                            9\n",
       "Link Function:                  logit   Scale:                          1.0000\n",
       "Method:                          IRLS   Log-Likelihood:                -3244.7\n",
       "Date:                Mon, 14 Jun 2021   Deviance:                       6489.4\n",
       "Time:                        19:23:03   Pearson chi2:                 6.87e+03\n",
       "No. Iterations:                     5                                         \n",
       "Covariance Type:            nonrobust                                         \n",
       "=======================================================================================================\n",
       "                                          coef    std err          z      P>|z|      [0.025      0.975]\n",
       "-------------------------------------------------------------------------------------------------------\n",
       "const                                  -2.3530      0.119    -19.783      0.000      -2.586      -2.120\n",
       "Do Not Email                           -1.2593      0.148     -8.537      0.000      -1.548      -0.970\n",
       "TotalVisits                             0.9379      0.226      4.150      0.000       0.495       1.381\n",
       "Total Time Spent on Website             4.5224      0.152     29.714      0.000       4.224       4.821\n",
       "Lead_Origin_Landing Page Submission     0.1600      0.087      1.829      0.067      -0.011       0.331\n",
       "Lead_Origin_Lead Import/Add Form        4.2100      0.298     14.124      0.000       3.626       4.794\n",
       "Lead_Source_Google                      0.3075      0.085      3.616      0.000       0.141       0.474\n",
       "Lead_Source_Olark Chat                  1.1210      0.135      8.297      0.000       0.856       1.386\n",
       "Lead_Source_Organic Search              0.1152      0.112      1.026      0.305      -0.105       0.335\n",
       "Lead_Source_Others                     -0.0442      0.269     -0.164      0.869      -0.571       0.483\n",
       "=======================================================================================================\n",
       "\"\"\""
      ]
     },
     "execution_count": 942,
     "metadata": {},
     "output_type": "execute_result"
    }
   ],
   "source": [
    "X_train_sm = sm.add_constant(X_train[col])\n",
    "logm2 = sm.GLM(y_train,X_train_sm, family = sm.families.Binomial())\n",
    "res = logm2.fit()\n",
    "res.summary()"
   ]
  },
  {
   "cell_type": "markdown",
   "metadata": {},
   "source": [
    "From above we can see `Lead_Source_Others` has high  p-value . So we will be droppping that column."
   ]
  },
  {
   "cell_type": "code",
   "execution_count": 943,
   "metadata": {},
   "outputs": [
    {
     "data": {
      "text/plain": [
       "Index(['Do Not Email', 'TotalVisits', 'Total Time Spent on Website',\n",
       "       'Lead_Origin_Landing Page Submission',\n",
       "       'Lead_Origin_Lead Import/Add Form', 'Lead_Source_Google',\n",
       "       'Lead_Source_Olark Chat', 'Lead_Source_Organic Search'],\n",
       "      dtype='object')"
      ]
     },
     "execution_count": 943,
     "metadata": {},
     "output_type": "execute_result"
    }
   ],
   "source": [
    "col=col.drop(\"Lead_Source_Others\",1)\n",
    "col"
   ]
  },
  {
   "cell_type": "code",
   "execution_count": 944,
   "metadata": {},
   "outputs": [
    {
     "data": {
      "text/html": [
       "<table class=\"simpletable\">\n",
       "<caption>Generalized Linear Model Regression Results</caption>\n",
       "<tr>\n",
       "  <th>Dep. Variable:</th>       <td>Converted</td>    <th>  No. Observations:  </th>  <td>  6363</td> \n",
       "</tr>\n",
       "<tr>\n",
       "  <th>Model:</th>                  <td>GLM</td>       <th>  Df Residuals:      </th>  <td>  6354</td> \n",
       "</tr>\n",
       "<tr>\n",
       "  <th>Model Family:</th>        <td>Binomial</td>     <th>  Df Model:          </th>  <td>     8</td> \n",
       "</tr>\n",
       "<tr>\n",
       "  <th>Link Function:</th>         <td>logit</td>      <th>  Scale:             </th> <td>  1.0000</td>\n",
       "</tr>\n",
       "<tr>\n",
       "  <th>Method:</th>                <td>IRLS</td>       <th>  Log-Likelihood:    </th> <td> -3244.7</td>\n",
       "</tr>\n",
       "<tr>\n",
       "  <th>Date:</th>            <td>Mon, 14 Jun 2021</td> <th>  Deviance:          </th> <td>  6489.4</td>\n",
       "</tr>\n",
       "<tr>\n",
       "  <th>Time:</th>                <td>19:23:03</td>     <th>  Pearson chi2:      </th> <td>6.87e+03</td>\n",
       "</tr>\n",
       "<tr>\n",
       "  <th>No. Iterations:</th>          <td>5</td>        <th>                     </th>     <td> </td>   \n",
       "</tr>\n",
       "<tr>\n",
       "  <th>Covariance Type:</th>     <td>nonrobust</td>    <th>                     </th>     <td> </td>   \n",
       "</tr>\n",
       "</table>\n",
       "<table class=\"simpletable\">\n",
       "<tr>\n",
       "                   <td></td>                      <th>coef</th>     <th>std err</th>      <th>z</th>      <th>P>|z|</th>  <th>[0.025</th>    <th>0.975]</th>  \n",
       "</tr>\n",
       "<tr>\n",
       "  <th>const</th>                               <td>   -2.3577</td> <td>    0.116</td> <td>  -20.403</td> <td> 0.000</td> <td>   -2.584</td> <td>   -2.131</td>\n",
       "</tr>\n",
       "<tr>\n",
       "  <th>Do Not Email</th>                        <td>   -1.2589</td> <td>    0.147</td> <td>   -8.535</td> <td> 0.000</td> <td>   -1.548</td> <td>   -0.970</td>\n",
       "</tr>\n",
       "<tr>\n",
       "  <th>TotalVisits</th>                         <td>    0.9348</td> <td>    0.225</td> <td>    4.151</td> <td> 0.000</td> <td>    0.493</td> <td>    1.376</td>\n",
       "</tr>\n",
       "<tr>\n",
       "  <th>Total Time Spent on Website</th>         <td>    4.5229</td> <td>    0.152</td> <td>   29.722</td> <td> 0.000</td> <td>    4.225</td> <td>    4.821</td>\n",
       "</tr>\n",
       "<tr>\n",
       "  <th>Lead_Origin_Landing Page Submission</th> <td>    0.1631</td> <td>    0.085</td> <td>    1.910</td> <td> 0.056</td> <td>   -0.004</td> <td>    0.331</td>\n",
       "</tr>\n",
       "<tr>\n",
       "  <th>Lead_Origin_Lead Import/Add Form</th>    <td>    4.1705</td> <td>    0.176</td> <td>   23.763</td> <td> 0.000</td> <td>    3.826</td> <td>    4.514</td>\n",
       "</tr>\n",
       "<tr>\n",
       "  <th>Lead_Source_Google</th>                  <td>    0.3109</td> <td>    0.083</td> <td>    3.762</td> <td> 0.000</td> <td>    0.149</td> <td>    0.473</td>\n",
       "</tr>\n",
       "<tr>\n",
       "  <th>Lead_Source_Olark Chat</th>              <td>    1.1257</td> <td>    0.132</td> <td>    8.522</td> <td> 0.000</td> <td>    0.867</td> <td>    1.385</td>\n",
       "</tr>\n",
       "<tr>\n",
       "  <th>Lead_Source_Organic Search</th>          <td>    0.1188</td> <td>    0.110</td> <td>    1.078</td> <td> 0.281</td> <td>   -0.097</td> <td>    0.335</td>\n",
       "</tr>\n",
       "</table>"
      ],
      "text/plain": [
       "<class 'statsmodels.iolib.summary.Summary'>\n",
       "\"\"\"\n",
       "                 Generalized Linear Model Regression Results                  \n",
       "==============================================================================\n",
       "Dep. Variable:              Converted   No. Observations:                 6363\n",
       "Model:                            GLM   Df Residuals:                     6354\n",
       "Model Family:                Binomial   Df Model:                            8\n",
       "Link Function:                  logit   Scale:                          1.0000\n",
       "Method:                          IRLS   Log-Likelihood:                -3244.7\n",
       "Date:                Mon, 14 Jun 2021   Deviance:                       6489.4\n",
       "Time:                        19:23:03   Pearson chi2:                 6.87e+03\n",
       "No. Iterations:                     5                                         \n",
       "Covariance Type:            nonrobust                                         \n",
       "=======================================================================================================\n",
       "                                          coef    std err          z      P>|z|      [0.025      0.975]\n",
       "-------------------------------------------------------------------------------------------------------\n",
       "const                                  -2.3577      0.116    -20.403      0.000      -2.584      -2.131\n",
       "Do Not Email                           -1.2589      0.147     -8.535      0.000      -1.548      -0.970\n",
       "TotalVisits                             0.9348      0.225      4.151      0.000       0.493       1.376\n",
       "Total Time Spent on Website             4.5229      0.152     29.722      0.000       4.225       4.821\n",
       "Lead_Origin_Landing Page Submission     0.1631      0.085      1.910      0.056      -0.004       0.331\n",
       "Lead_Origin_Lead Import/Add Form        4.1705      0.176     23.763      0.000       3.826       4.514\n",
       "Lead_Source_Google                      0.3109      0.083      3.762      0.000       0.149       0.473\n",
       "Lead_Source_Olark Chat                  1.1257      0.132      8.522      0.000       0.867       1.385\n",
       "Lead_Source_Organic Search              0.1188      0.110      1.078      0.281      -0.097       0.335\n",
       "=======================================================================================================\n",
       "\"\"\""
      ]
     },
     "execution_count": 944,
     "metadata": {},
     "output_type": "execute_result"
    }
   ],
   "source": [
    "X_train_sm = sm.add_constant(X_train[col])\n",
    "logm2 = sm.GLM(y_train,X_train_sm, family = sm.families.Binomial())\n",
    "res = logm2.fit()\n",
    "res.summary()"
   ]
  },
  {
   "cell_type": "markdown",
   "metadata": {},
   "source": [
    "#### Checking VIFs"
   ]
  },
  {
   "cell_type": "code",
   "execution_count": 945,
   "metadata": {},
   "outputs": [],
   "source": [
    "# Check for the VIF values of the feature variables. \n",
    "from statsmodels.stats.outliers_influence import variance_inflation_factor"
   ]
  },
  {
   "cell_type": "code",
   "execution_count": 946,
   "metadata": {},
   "outputs": [
    {
     "data": {
      "text/html": [
       "<div>\n",
       "<style scoped>\n",
       "    .dataframe tbody tr th:only-of-type {\n",
       "        vertical-align: middle;\n",
       "    }\n",
       "\n",
       "    .dataframe tbody tr th {\n",
       "        vertical-align: top;\n",
       "    }\n",
       "\n",
       "    .dataframe thead th {\n",
       "        text-align: right;\n",
       "    }\n",
       "</style>\n",
       "<table border=\"1\" class=\"dataframe\">\n",
       "  <thead>\n",
       "    <tr style=\"text-align: right;\">\n",
       "      <th></th>\n",
       "      <th>Features</th>\n",
       "      <th>VIF</th>\n",
       "    </tr>\n",
       "  </thead>\n",
       "  <tbody>\n",
       "    <tr>\n",
       "      <th>1</th>\n",
       "      <td>TotalVisits</td>\n",
       "      <td>3.22</td>\n",
       "    </tr>\n",
       "    <tr>\n",
       "      <th>3</th>\n",
       "      <td>Lead_Origin_Landing Page Submission</td>\n",
       "      <td>2.50</td>\n",
       "    </tr>\n",
       "    <tr>\n",
       "      <th>2</th>\n",
       "      <td>Total Time Spent on Website</td>\n",
       "      <td>2.07</td>\n",
       "    </tr>\n",
       "    <tr>\n",
       "      <th>5</th>\n",
       "      <td>Lead_Source_Google</td>\n",
       "      <td>1.66</td>\n",
       "    </tr>\n",
       "    <tr>\n",
       "      <th>7</th>\n",
       "      <td>Lead_Source_Organic Search</td>\n",
       "      <td>1.39</td>\n",
       "    </tr>\n",
       "    <tr>\n",
       "      <th>0</th>\n",
       "      <td>Do Not Email</td>\n",
       "      <td>1.09</td>\n",
       "    </tr>\n",
       "    <tr>\n",
       "      <th>4</th>\n",
       "      <td>Lead_Origin_Lead Import/Add Form</td>\n",
       "      <td>1.02</td>\n",
       "    </tr>\n",
       "    <tr>\n",
       "      <th>6</th>\n",
       "      <td>Lead_Source_Olark Chat</td>\n",
       "      <td>1.01</td>\n",
       "    </tr>\n",
       "  </tbody>\n",
       "</table>\n",
       "</div>"
      ],
      "text/plain": [
       "                              Features   VIF\n",
       "1                          TotalVisits  3.22\n",
       "3  Lead_Origin_Landing Page Submission  2.50\n",
       "2          Total Time Spent on Website  2.07\n",
       "5                   Lead_Source_Google  1.66\n",
       "7           Lead_Source_Organic Search  1.39\n",
       "0                         Do Not Email  1.09\n",
       "4     Lead_Origin_Lead Import/Add Form  1.02\n",
       "6               Lead_Source_Olark Chat  1.01"
      ]
     },
     "execution_count": 946,
     "metadata": {},
     "output_type": "execute_result"
    }
   ],
   "source": [
    "# Create a dataframe that will contain the names of all the feature variables and their respective VIFs\n",
    "vif = pd.DataFrame()\n",
    "vif['Features'] = X_train[col].columns\n",
    "vif['VIF'] = [variance_inflation_factor(X_train[col].values, i) for i in range(X_train[col].shape[1])]\n",
    "vif['VIF'] = round(vif['VIF'], 2)\n",
    "vif = vif.sort_values(by = \"VIF\", ascending = False)\n",
    "vif"
   ]
  },
  {
   "cell_type": "markdown",
   "metadata": {},
   "source": [
    "From above we can see `Lead_Source_Organic Search` has high  p-value . So we will be droppping that column."
   ]
  },
  {
   "cell_type": "code",
   "execution_count": 947,
   "metadata": {},
   "outputs": [
    {
     "data": {
      "text/plain": [
       "Index(['Do Not Email', 'TotalVisits', 'Total Time Spent on Website',\n",
       "       'Lead_Origin_Landing Page Submission',\n",
       "       'Lead_Origin_Lead Import/Add Form', 'Lead_Source_Google',\n",
       "       'Lead_Source_Olark Chat'],\n",
       "      dtype='object')"
      ]
     },
     "execution_count": 947,
     "metadata": {},
     "output_type": "execute_result"
    }
   ],
   "source": [
    "col=col.drop(\"Lead_Source_Organic Search\",1)\n",
    "col"
   ]
  },
  {
   "cell_type": "code",
   "execution_count": 948,
   "metadata": {},
   "outputs": [
    {
     "data": {
      "text/html": [
       "<table class=\"simpletable\">\n",
       "<caption>Generalized Linear Model Regression Results</caption>\n",
       "<tr>\n",
       "  <th>Dep. Variable:</th>       <td>Converted</td>    <th>  No. Observations:  </th>  <td>  6363</td> \n",
       "</tr>\n",
       "<tr>\n",
       "  <th>Model:</th>                  <td>GLM</td>       <th>  Df Residuals:      </th>  <td>  6355</td> \n",
       "</tr>\n",
       "<tr>\n",
       "  <th>Model Family:</th>        <td>Binomial</td>     <th>  Df Model:          </th>  <td>     7</td> \n",
       "</tr>\n",
       "<tr>\n",
       "  <th>Link Function:</th>         <td>logit</td>      <th>  Scale:             </th> <td>  1.0000</td>\n",
       "</tr>\n",
       "<tr>\n",
       "  <th>Method:</th>                <td>IRLS</td>       <th>  Log-Likelihood:    </th> <td> -3245.3</td>\n",
       "</tr>\n",
       "<tr>\n",
       "  <th>Date:</th>            <td>Mon, 14 Jun 2021</td> <th>  Deviance:          </th> <td>  6490.6</td>\n",
       "</tr>\n",
       "<tr>\n",
       "  <th>Time:</th>                <td>19:23:04</td>     <th>  Pearson chi2:      </th> <td>6.87e+03</td>\n",
       "</tr>\n",
       "<tr>\n",
       "  <th>No. Iterations:</th>          <td>5</td>        <th>                     </th>     <td> </td>   \n",
       "</tr>\n",
       "<tr>\n",
       "  <th>Covariance Type:</th>     <td>nonrobust</td>    <th>                     </th>     <td> </td>   \n",
       "</tr>\n",
       "</table>\n",
       "<table class=\"simpletable\">\n",
       "<tr>\n",
       "                   <td></td>                      <th>coef</th>     <th>std err</th>      <th>z</th>      <th>P>|z|</th>  <th>[0.025</th>    <th>0.975]</th>  \n",
       "</tr>\n",
       "<tr>\n",
       "  <th>const</th>                               <td>   -2.3136</td> <td>    0.108</td> <td>  -21.449</td> <td> 0.000</td> <td>   -2.525</td> <td>   -2.102</td>\n",
       "</tr>\n",
       "<tr>\n",
       "  <th>Do Not Email</th>                        <td>   -1.2566</td> <td>    0.147</td> <td>   -8.524</td> <td> 0.000</td> <td>   -1.546</td> <td>   -0.968</td>\n",
       "</tr>\n",
       "<tr>\n",
       "  <th>TotalVisits</th>                         <td>    0.9864</td> <td>    0.220</td> <td>    4.481</td> <td> 0.000</td> <td>    0.555</td> <td>    1.418</td>\n",
       "</tr>\n",
       "<tr>\n",
       "  <th>Total Time Spent on Website</th>         <td>    4.5221</td> <td>    0.152</td> <td>   29.717</td> <td> 0.000</td> <td>    4.224</td> <td>    4.820</td>\n",
       "</tr>\n",
       "<tr>\n",
       "  <th>Lead_Origin_Landing Page Submission</th> <td>    0.1378</td> <td>    0.082</td> <td>    1.678</td> <td> 0.093</td> <td>   -0.023</td> <td>    0.299</td>\n",
       "</tr>\n",
       "<tr>\n",
       "  <th>Lead_Origin_Lead Import/Add Form</th>    <td>    4.1254</td> <td>    0.170</td> <td>   24.220</td> <td> 0.000</td> <td>    3.792</td> <td>    4.459</td>\n",
       "</tr>\n",
       "<tr>\n",
       "  <th>Lead_Source_Google</th>                  <td>    0.2698</td> <td>    0.073</td> <td>    3.685</td> <td> 0.000</td> <td>    0.126</td> <td>    0.413</td>\n",
       "</tr>\n",
       "<tr>\n",
       "  <th>Lead_Source_Olark Chat</th>              <td>    1.0805</td> <td>    0.125</td> <td>    8.636</td> <td> 0.000</td> <td>    0.835</td> <td>    1.326</td>\n",
       "</tr>\n",
       "</table>"
      ],
      "text/plain": [
       "<class 'statsmodels.iolib.summary.Summary'>\n",
       "\"\"\"\n",
       "                 Generalized Linear Model Regression Results                  \n",
       "==============================================================================\n",
       "Dep. Variable:              Converted   No. Observations:                 6363\n",
       "Model:                            GLM   Df Residuals:                     6355\n",
       "Model Family:                Binomial   Df Model:                            7\n",
       "Link Function:                  logit   Scale:                          1.0000\n",
       "Method:                          IRLS   Log-Likelihood:                -3245.3\n",
       "Date:                Mon, 14 Jun 2021   Deviance:                       6490.6\n",
       "Time:                        19:23:04   Pearson chi2:                 6.87e+03\n",
       "No. Iterations:                     5                                         \n",
       "Covariance Type:            nonrobust                                         \n",
       "=======================================================================================================\n",
       "                                          coef    std err          z      P>|z|      [0.025      0.975]\n",
       "-------------------------------------------------------------------------------------------------------\n",
       "const                                  -2.3136      0.108    -21.449      0.000      -2.525      -2.102\n",
       "Do Not Email                           -1.2566      0.147     -8.524      0.000      -1.546      -0.968\n",
       "TotalVisits                             0.9864      0.220      4.481      0.000       0.555       1.418\n",
       "Total Time Spent on Website             4.5221      0.152     29.717      0.000       4.224       4.820\n",
       "Lead_Origin_Landing Page Submission     0.1378      0.082      1.678      0.093      -0.023       0.299\n",
       "Lead_Origin_Lead Import/Add Form        4.1254      0.170     24.220      0.000       3.792       4.459\n",
       "Lead_Source_Google                      0.2698      0.073      3.685      0.000       0.126       0.413\n",
       "Lead_Source_Olark Chat                  1.0805      0.125      8.636      0.000       0.835       1.326\n",
       "=======================================================================================================\n",
       "\"\"\""
      ]
     },
     "execution_count": 948,
     "metadata": {},
     "output_type": "execute_result"
    }
   ],
   "source": [
    "X_train_sm = sm.add_constant(X_train[col])\n",
    "logm2 = sm.GLM(y_train,X_train_sm, family = sm.families.Binomial())\n",
    "res = logm2.fit()\n",
    "res.summary()"
   ]
  },
  {
   "cell_type": "markdown",
   "metadata": {},
   "source": [
    "From above we can see `Lead_Origin_Landing Page Submission` has high p-value . So we will be droppping that column."
   ]
  },
  {
   "cell_type": "code",
   "execution_count": 949,
   "metadata": {},
   "outputs": [
    {
     "data": {
      "text/plain": [
       "Index(['Do Not Email', 'TotalVisits', 'Total Time Spent on Website',\n",
       "       'Lead_Origin_Lead Import/Add Form', 'Lead_Source_Google',\n",
       "       'Lead_Source_Olark Chat'],\n",
       "      dtype='object')"
      ]
     },
     "execution_count": 949,
     "metadata": {},
     "output_type": "execute_result"
    }
   ],
   "source": [
    "col=col.drop(\"Lead_Origin_Landing Page Submission\",1)\n",
    "col"
   ]
  },
  {
   "cell_type": "code",
   "execution_count": 950,
   "metadata": {},
   "outputs": [
    {
     "data": {
      "text/html": [
       "<table class=\"simpletable\">\n",
       "<caption>Generalized Linear Model Regression Results</caption>\n",
       "<tr>\n",
       "  <th>Dep. Variable:</th>       <td>Converted</td>    <th>  No. Observations:  </th>  <td>  6363</td> \n",
       "</tr>\n",
       "<tr>\n",
       "  <th>Model:</th>                  <td>GLM</td>       <th>  Df Residuals:      </th>  <td>  6356</td> \n",
       "</tr>\n",
       "<tr>\n",
       "  <th>Model Family:</th>        <td>Binomial</td>     <th>  Df Model:          </th>  <td>     6</td> \n",
       "</tr>\n",
       "<tr>\n",
       "  <th>Link Function:</th>         <td>logit</td>      <th>  Scale:             </th> <td>  1.0000</td>\n",
       "</tr>\n",
       "<tr>\n",
       "  <th>Method:</th>                <td>IRLS</td>       <th>  Log-Likelihood:    </th> <td> -3246.7</td>\n",
       "</tr>\n",
       "<tr>\n",
       "  <th>Date:</th>            <td>Mon, 14 Jun 2021</td> <th>  Deviance:          </th> <td>  6493.4</td>\n",
       "</tr>\n",
       "<tr>\n",
       "  <th>Time:</th>                <td>19:23:04</td>     <th>  Pearson chi2:      </th> <td>6.87e+03</td>\n",
       "</tr>\n",
       "<tr>\n",
       "  <th>No. Iterations:</th>          <td>5</td>        <th>                     </th>     <td> </td>   \n",
       "</tr>\n",
       "<tr>\n",
       "  <th>Covariance Type:</th>     <td>nonrobust</td>    <th>                     </th>     <td> </td>   \n",
       "</tr>\n",
       "</table>\n",
       "<table class=\"simpletable\">\n",
       "<tr>\n",
       "                  <td></td>                    <th>coef</th>     <th>std err</th>      <th>z</th>      <th>P>|z|</th>  <th>[0.025</th>    <th>0.975]</th>  \n",
       "</tr>\n",
       "<tr>\n",
       "  <th>const</th>                            <td>   -2.2105</td> <td>    0.088</td> <td>  -25.100</td> <td> 0.000</td> <td>   -2.383</td> <td>   -2.038</td>\n",
       "</tr>\n",
       "<tr>\n",
       "  <th>Do Not Email</th>                     <td>   -1.2486</td> <td>    0.147</td> <td>   -8.470</td> <td> 0.000</td> <td>   -1.538</td> <td>   -0.960</td>\n",
       "</tr>\n",
       "<tr>\n",
       "  <th>TotalVisits</th>                      <td>    1.0217</td> <td>    0.219</td> <td>    4.664</td> <td> 0.000</td> <td>    0.592</td> <td>    1.451</td>\n",
       "</tr>\n",
       "<tr>\n",
       "  <th>Total Time Spent on Website</th>      <td>    4.5240</td> <td>    0.152</td> <td>   29.738</td> <td> 0.000</td> <td>    4.226</td> <td>    4.822</td>\n",
       "</tr>\n",
       "<tr>\n",
       "  <th>Lead_Origin_Lead Import/Add Form</th> <td>    4.0211</td> <td>    0.158</td> <td>   25.411</td> <td> 0.000</td> <td>    3.711</td> <td>    4.331</td>\n",
       "</tr>\n",
       "<tr>\n",
       "  <th>Lead_Source_Google</th>               <td>    0.2411</td> <td>    0.071</td> <td>    3.388</td> <td> 0.001</td> <td>    0.102</td> <td>    0.381</td>\n",
       "</tr>\n",
       "<tr>\n",
       "  <th>Lead_Source_Olark Chat</th>           <td>    0.9765</td> <td>    0.108</td> <td>    9.022</td> <td> 0.000</td> <td>    0.764</td> <td>    1.189</td>\n",
       "</tr>\n",
       "</table>"
      ],
      "text/plain": [
       "<class 'statsmodels.iolib.summary.Summary'>\n",
       "\"\"\"\n",
       "                 Generalized Linear Model Regression Results                  \n",
       "==============================================================================\n",
       "Dep. Variable:              Converted   No. Observations:                 6363\n",
       "Model:                            GLM   Df Residuals:                     6356\n",
       "Model Family:                Binomial   Df Model:                            6\n",
       "Link Function:                  logit   Scale:                          1.0000\n",
       "Method:                          IRLS   Log-Likelihood:                -3246.7\n",
       "Date:                Mon, 14 Jun 2021   Deviance:                       6493.4\n",
       "Time:                        19:23:04   Pearson chi2:                 6.87e+03\n",
       "No. Iterations:                     5                                         \n",
       "Covariance Type:            nonrobust                                         \n",
       "====================================================================================================\n",
       "                                       coef    std err          z      P>|z|      [0.025      0.975]\n",
       "----------------------------------------------------------------------------------------------------\n",
       "const                               -2.2105      0.088    -25.100      0.000      -2.383      -2.038\n",
       "Do Not Email                        -1.2486      0.147     -8.470      0.000      -1.538      -0.960\n",
       "TotalVisits                          1.0217      0.219      4.664      0.000       0.592       1.451\n",
       "Total Time Spent on Website          4.5240      0.152     29.738      0.000       4.226       4.822\n",
       "Lead_Origin_Lead Import/Add Form     4.0211      0.158     25.411      0.000       3.711       4.331\n",
       "Lead_Source_Google                   0.2411      0.071      3.388      0.001       0.102       0.381\n",
       "Lead_Source_Olark Chat               0.9765      0.108      9.022      0.000       0.764       1.189\n",
       "====================================================================================================\n",
       "\"\"\""
      ]
     },
     "execution_count": 950,
     "metadata": {},
     "output_type": "execute_result"
    }
   ],
   "source": [
    "X_train_sm = sm.add_constant(X_train[col])\n",
    "logm2 = sm.GLM(y_train,X_train_sm, family = sm.families.Binomial())\n",
    "res = logm2.fit()\n",
    "res.summary()"
   ]
  },
  {
   "cell_type": "markdown",
   "metadata": {},
   "source": [
    "#### Checking VIFs"
   ]
  },
  {
   "cell_type": "code",
   "execution_count": 951,
   "metadata": {},
   "outputs": [
    {
     "data": {
      "text/html": [
       "<div>\n",
       "<style scoped>\n",
       "    .dataframe tbody tr th:only-of-type {\n",
       "        vertical-align: middle;\n",
       "    }\n",
       "\n",
       "    .dataframe tbody tr th {\n",
       "        vertical-align: top;\n",
       "    }\n",
       "\n",
       "    .dataframe thead th {\n",
       "        text-align: right;\n",
       "    }\n",
       "</style>\n",
       "<table border=\"1\" class=\"dataframe\">\n",
       "  <thead>\n",
       "    <tr style=\"text-align: right;\">\n",
       "      <th></th>\n",
       "      <th>Features</th>\n",
       "      <th>VIF</th>\n",
       "    </tr>\n",
       "  </thead>\n",
       "  <tbody>\n",
       "    <tr>\n",
       "      <th>1</th>\n",
       "      <td>TotalVisits</td>\n",
       "      <td>2.02</td>\n",
       "    </tr>\n",
       "    <tr>\n",
       "      <th>2</th>\n",
       "      <td>Total Time Spent on Website</td>\n",
       "      <td>1.90</td>\n",
       "    </tr>\n",
       "    <tr>\n",
       "      <th>4</th>\n",
       "      <td>Lead_Source_Google</td>\n",
       "      <td>1.49</td>\n",
       "    </tr>\n",
       "    <tr>\n",
       "      <th>0</th>\n",
       "      <td>Do Not Email</td>\n",
       "      <td>1.05</td>\n",
       "    </tr>\n",
       "    <tr>\n",
       "      <th>3</th>\n",
       "      <td>Lead_Origin_Lead Import/Add Form</td>\n",
       "      <td>1.01</td>\n",
       "    </tr>\n",
       "    <tr>\n",
       "      <th>5</th>\n",
       "      <td>Lead_Source_Olark Chat</td>\n",
       "      <td>1.01</td>\n",
       "    </tr>\n",
       "  </tbody>\n",
       "</table>\n",
       "</div>"
      ],
      "text/plain": [
       "                           Features   VIF\n",
       "1                       TotalVisits  2.02\n",
       "2       Total Time Spent on Website  1.90\n",
       "4                Lead_Source_Google  1.49\n",
       "0                      Do Not Email  1.05\n",
       "3  Lead_Origin_Lead Import/Add Form  1.01\n",
       "5            Lead_Source_Olark Chat  1.01"
      ]
     },
     "execution_count": 951,
     "metadata": {},
     "output_type": "execute_result"
    }
   ],
   "source": [
    "# Create a dataframe that will contain the names of all the feature variables and their respective VIFs\n",
    "vif = pd.DataFrame()\n",
    "vif['Features'] = X_train[col].columns\n",
    "vif['VIF'] = [variance_inflation_factor(X_train[col].values, i) for i in range(X_train[col].shape[1])]\n",
    "vif['VIF'] = round(vif['VIF'], 2)\n",
    "vif = vif.sort_values(by = \"VIF\", ascending = False)\n",
    "vif"
   ]
  },
  {
   "cell_type": "markdown",
   "metadata": {},
   "source": [
    "We can seen there is no significant collinearity among the final list of features."
   ]
  },
  {
   "cell_type": "code",
   "execution_count": 952,
   "metadata": {},
   "outputs": [
    {
     "data": {
      "text/plain": [
       "302     0.215513\n",
       "6087    0.077087\n",
       "1033    0.324537\n",
       "7656    0.083354\n",
       "3241    0.491831\n",
       "5738    0.116643\n",
       "7366    0.225484\n",
       "3680    0.146864\n",
       "4170    0.469963\n",
       "43      0.226739\n",
       "dtype: float64"
      ]
     },
     "execution_count": 952,
     "metadata": {},
     "output_type": "execute_result"
    }
   ],
   "source": [
    "# Getting the predicted values on the train set\n",
    "y_train_pred = res.predict(X_train_sm)\n",
    "y_train_pred[:10]"
   ]
  },
  {
   "cell_type": "code",
   "execution_count": 953,
   "metadata": {},
   "outputs": [
    {
     "data": {
      "text/plain": [
       "array([0.21551343, 0.07708683, 0.32453663, 0.08335428, 0.49183104,\n",
       "       0.11664347, 0.22548416, 0.14686406, 0.46996338, 0.22673902])"
      ]
     },
     "execution_count": 953,
     "metadata": {},
     "output_type": "execute_result"
    }
   ],
   "source": [
    "y_train_pred = y_train_pred.values.reshape(-1)\n",
    "y_train_pred[:10]"
   ]
  },
  {
   "cell_type": "markdown",
   "metadata": {},
   "source": [
    "##### Creating a dataframe with the actual Converted flag and the predicted probabilities"
   ]
  },
  {
   "cell_type": "code",
   "execution_count": 954,
   "metadata": {},
   "outputs": [
    {
     "data": {
      "text/html": [
       "<div>\n",
       "<style scoped>\n",
       "    .dataframe tbody tr th:only-of-type {\n",
       "        vertical-align: middle;\n",
       "    }\n",
       "\n",
       "    .dataframe tbody tr th {\n",
       "        vertical-align: top;\n",
       "    }\n",
       "\n",
       "    .dataframe thead th {\n",
       "        text-align: right;\n",
       "    }\n",
       "</style>\n",
       "<table border=\"1\" class=\"dataframe\">\n",
       "  <thead>\n",
       "    <tr style=\"text-align: right;\">\n",
       "      <th></th>\n",
       "      <th>Converted</th>\n",
       "      <th>Converted_Prob</th>\n",
       "      <th>LeadNumber</th>\n",
       "    </tr>\n",
       "  </thead>\n",
       "  <tbody>\n",
       "    <tr>\n",
       "      <th>0</th>\n",
       "      <td>0</td>\n",
       "      <td>0.215513</td>\n",
       "      <td>302</td>\n",
       "    </tr>\n",
       "    <tr>\n",
       "      <th>1</th>\n",
       "      <td>0</td>\n",
       "      <td>0.077087</td>\n",
       "      <td>6087</td>\n",
       "    </tr>\n",
       "    <tr>\n",
       "      <th>2</th>\n",
       "      <td>0</td>\n",
       "      <td>0.324537</td>\n",
       "      <td>1033</td>\n",
       "    </tr>\n",
       "    <tr>\n",
       "      <th>3</th>\n",
       "      <td>0</td>\n",
       "      <td>0.083354</td>\n",
       "      <td>7656</td>\n",
       "    </tr>\n",
       "    <tr>\n",
       "      <th>4</th>\n",
       "      <td>1</td>\n",
       "      <td>0.491831</td>\n",
       "      <td>3241</td>\n",
       "    </tr>\n",
       "  </tbody>\n",
       "</table>\n",
       "</div>"
      ],
      "text/plain": [
       "   Converted  Converted_Prob  LeadNumber\n",
       "0          0        0.215513         302\n",
       "1          0        0.077087        6087\n",
       "2          0        0.324537        1033\n",
       "3          0        0.083354        7656\n",
       "4          1        0.491831        3241"
      ]
     },
     "execution_count": 954,
     "metadata": {},
     "output_type": "execute_result"
    }
   ],
   "source": [
    "y_train_pred_final = pd.DataFrame({'Converted':y_train.values, 'Converted_Prob':y_train_pred})\n",
    "y_train_pred_final['LeadNumber'] = y_train.index\n",
    "y_train_pred_final.head()"
   ]
  },
  {
   "cell_type": "markdown",
   "metadata": {},
   "source": [
    "##### Creating new column 'predicted' with 1 if Converted_Prob > 0.5 else 0"
   ]
  },
  {
   "cell_type": "code",
   "execution_count": 955,
   "metadata": {},
   "outputs": [
    {
     "data": {
      "text/html": [
       "<div>\n",
       "<style scoped>\n",
       "    .dataframe tbody tr th:only-of-type {\n",
       "        vertical-align: middle;\n",
       "    }\n",
       "\n",
       "    .dataframe tbody tr th {\n",
       "        vertical-align: top;\n",
       "    }\n",
       "\n",
       "    .dataframe thead th {\n",
       "        text-align: right;\n",
       "    }\n",
       "</style>\n",
       "<table border=\"1\" class=\"dataframe\">\n",
       "  <thead>\n",
       "    <tr style=\"text-align: right;\">\n",
       "      <th></th>\n",
       "      <th>Converted</th>\n",
       "      <th>Converted_Prob</th>\n",
       "      <th>LeadNumber</th>\n",
       "      <th>predicted</th>\n",
       "    </tr>\n",
       "  </thead>\n",
       "  <tbody>\n",
       "    <tr>\n",
       "      <th>0</th>\n",
       "      <td>0</td>\n",
       "      <td>0.215513</td>\n",
       "      <td>302</td>\n",
       "      <td>0</td>\n",
       "    </tr>\n",
       "    <tr>\n",
       "      <th>1</th>\n",
       "      <td>0</td>\n",
       "      <td>0.077087</td>\n",
       "      <td>6087</td>\n",
       "      <td>0</td>\n",
       "    </tr>\n",
       "    <tr>\n",
       "      <th>2</th>\n",
       "      <td>0</td>\n",
       "      <td>0.324537</td>\n",
       "      <td>1033</td>\n",
       "      <td>0</td>\n",
       "    </tr>\n",
       "    <tr>\n",
       "      <th>3</th>\n",
       "      <td>0</td>\n",
       "      <td>0.083354</td>\n",
       "      <td>7656</td>\n",
       "      <td>0</td>\n",
       "    </tr>\n",
       "    <tr>\n",
       "      <th>4</th>\n",
       "      <td>1</td>\n",
       "      <td>0.491831</td>\n",
       "      <td>3241</td>\n",
       "      <td>0</td>\n",
       "    </tr>\n",
       "  </tbody>\n",
       "</table>\n",
       "</div>"
      ],
      "text/plain": [
       "   Converted  Converted_Prob  LeadNumber  predicted\n",
       "0          0        0.215513         302          0\n",
       "1          0        0.077087        6087          0\n",
       "2          0        0.324537        1033          0\n",
       "3          0        0.083354        7656          0\n",
       "4          1        0.491831        3241          0"
      ]
     },
     "execution_count": 955,
     "metadata": {},
     "output_type": "execute_result"
    }
   ],
   "source": [
    "y_train_pred_final['predicted'] = y_train_pred_final.Converted_Prob.map(lambda x: 1 if x > 0.5 else 0)\n",
    "\n",
    "# Let's see the head\n",
    "y_train_pred_final.head()"
   ]
  },
  {
   "cell_type": "markdown",
   "metadata": {},
   "source": [
    "#### Matrix evaulation on train set"
   ]
  },
  {
   "cell_type": "code",
   "execution_count": 956,
   "metadata": {},
   "outputs": [],
   "source": [
    "from sklearn import metrics"
   ]
  },
  {
   "cell_type": "code",
   "execution_count": 957,
   "metadata": {},
   "outputs": [
    {
     "name": "stdout",
     "output_type": "stream",
     "text": [
      "[[3435  500]\n",
      " [ 939 1489]]\n"
     ]
    }
   ],
   "source": [
    "# Confusion matrix \n",
    "confusion = metrics.confusion_matrix(y_train_pred_final.Converted, y_train_pred_final.predicted )\n",
    "print(confusion)"
   ]
  },
  {
   "cell_type": "code",
   "execution_count": 958,
   "metadata": {},
   "outputs": [],
   "source": [
    "# Actual/Predicted           not_converted    converted\n",
    "        # not_converted          3435            500\n",
    "        # converted              939            1489  "
   ]
  },
  {
   "cell_type": "code",
   "execution_count": 959,
   "metadata": {},
   "outputs": [
    {
     "name": "stdout",
     "output_type": "stream",
     "text": [
      "0.7738488134527739\n"
     ]
    }
   ],
   "source": [
    "# Let's check the overall accuracy.\n",
    "print(metrics.accuracy_score(y_train_pred_final.Converted, y_train_pred_final.predicted))"
   ]
  },
  {
   "cell_type": "markdown",
   "metadata": {},
   "source": [
    "### Matrix beyond simply accuracy"
   ]
  },
  {
   "cell_type": "code",
   "execution_count": 960,
   "metadata": {},
   "outputs": [],
   "source": [
    "TP = confusion[1,1] # true positive \n",
    "TN = confusion[0,0] # true negatives\n",
    "FP = confusion[0,1] # false positives\n",
    "FN = confusion[1,0] # false negatives"
   ]
  },
  {
   "cell_type": "code",
   "execution_count": 961,
   "metadata": {},
   "outputs": [
    {
     "data": {
      "text/plain": [
       "0.6132619439868204"
      ]
     },
     "execution_count": 961,
     "metadata": {},
     "output_type": "execute_result"
    }
   ],
   "source": [
    "# Let's see the sensitivity of our logistic regression model\n",
    "TP / float(TP+FN)"
   ]
  },
  {
   "cell_type": "code",
   "execution_count": 962,
   "metadata": {},
   "outputs": [
    {
     "data": {
      "text/plain": [
       "0.8729351969504447"
      ]
     },
     "execution_count": 962,
     "metadata": {},
     "output_type": "execute_result"
    }
   ],
   "source": [
    "# Let us calculate specificity\n",
    "TN / float(TN+FP)"
   ]
  },
  {
   "cell_type": "code",
   "execution_count": 963,
   "metadata": {},
   "outputs": [
    {
     "name": "stdout",
     "output_type": "stream",
     "text": [
      "0.12706480304955528\n"
     ]
    }
   ],
   "source": [
    "# Calculate false postive rate - predicting Converted when customer does not have converted\n",
    "print(FP/ float(TN+FP))"
   ]
  },
  {
   "cell_type": "code",
   "execution_count": 964,
   "metadata": {},
   "outputs": [
    {
     "name": "stdout",
     "output_type": "stream",
     "text": [
      "0.7486173956762192\n"
     ]
    }
   ],
   "source": [
    "# positive predictive value \n",
    "print (TP / float(TP+FP))"
   ]
  },
  {
   "cell_type": "code",
   "execution_count": 965,
   "metadata": {},
   "outputs": [
    {
     "name": "stdout",
     "output_type": "stream",
     "text": [
      "0.7853223593964335\n"
     ]
    }
   ],
   "source": [
    "# Negative predictive value\n",
    "print (TN / float(TN+ FN))"
   ]
  },
  {
   "cell_type": "markdown",
   "metadata": {},
   "source": [
    "### Plotting the ROC Curve\n",
    "\n",
    "An ROC curve demonstrates several things:\n",
    "\n",
    "- It shows the tradeoff between sensitivity and specificity (any increase in sensitivity will be accompanied by a decrease in specificity)."
   ]
  },
  {
   "cell_type": "code",
   "execution_count": 966,
   "metadata": {},
   "outputs": [],
   "source": [
    "def draw_roc( actual, probs ):\n",
    "    fpr, tpr, thresholds = metrics.roc_curve( actual, probs,\n",
    "                                              drop_intermediate = False )\n",
    "    auc_score = metrics.roc_auc_score( actual, probs )\n",
    "    plt.figure(figsize=(5, 5))\n",
    "    plt.plot( fpr, tpr, label='ROC curve (area = %0.2f)' % auc_score )\n",
    "    plt.plot([0, 1], [0, 1], 'k--')\n",
    "    plt.xlim([0.0, 1.0])\n",
    "    plt.ylim([0.0, 1.05])\n",
    "    plt.xlabel('False Positive Rate or [1 - True Negative Rate]')\n",
    "    plt.ylabel('True Positive Rate')\n",
    "    plt.title('Receiver operating characteristic example')\n",
    "    plt.legend(loc=\"lower right\")\n",
    "    plt.show()\n",
    "\n",
    "    return None"
   ]
  },
  {
   "cell_type": "code",
   "execution_count": 967,
   "metadata": {},
   "outputs": [],
   "source": [
    "fpr, tpr, thresholds = metrics.roc_curve( y_train_pred_final.Converted, y_train_pred_final.Converted_Prob, drop_intermediate = False )"
   ]
  },
  {
   "cell_type": "code",
   "execution_count": 968,
   "metadata": {},
   "outputs": [
    {
     "data": {
      "image/png": "[encoded data removed]",
      "text/plain": [
       "<Figure size 360x360 with 1 Axes>"
      ]
     },
     "metadata": {
      "needs_background": "light"
     },
     "output_type": "display_data"
    }
   ],
   "source": [
    "draw_roc(y_train_pred_final.Converted, y_train_pred_final.Converted_Prob)"
   ]
  },
  {
   "cell_type": "markdown",
   "metadata": {},
   "source": [
    "### Finding Optimal Cutoff Point\n",
    "\n",
    "Optimal cutoff probability is that prob where we get balanced sensitivity and specificity"
   ]
  },
  {
   "cell_type": "code",
   "execution_count": 969,
   "metadata": {},
   "outputs": [
    {
     "data": {
      "text/html": [
       "<div>\n",
       "<style scoped>\n",
       "    .dataframe tbody tr th:only-of-type {\n",
       "        vertical-align: middle;\n",
       "    }\n",
       "\n",
       "    .dataframe tbody tr th {\n",
       "        vertical-align: top;\n",
       "    }\n",
       "\n",
       "    .dataframe thead th {\n",
       "        text-align: right;\n",
       "    }\n",
       "</style>\n",
       "<table border=\"1\" class=\"dataframe\">\n",
       "  <thead>\n",
       "    <tr style=\"text-align: right;\">\n",
       "      <th></th>\n",
       "      <th>Converted</th>\n",
       "      <th>Converted_Prob</th>\n",
       "      <th>LeadNumber</th>\n",
       "      <th>predicted</th>\n",
       "      <th>0.0</th>\n",
       "      <th>0.1</th>\n",
       "      <th>0.2</th>\n",
       "      <th>0.3</th>\n",
       "      <th>0.4</th>\n",
       "      <th>0.5</th>\n",
       "      <th>0.6</th>\n",
       "      <th>0.7</th>\n",
       "      <th>0.8</th>\n",
       "      <th>0.9</th>\n",
       "    </tr>\n",
       "  </thead>\n",
       "  <tbody>\n",
       "    <tr>\n",
       "      <th>0</th>\n",
       "      <td>0</td>\n",
       "      <td>0.215513</td>\n",
       "      <td>302</td>\n",
       "      <td>0</td>\n",
       "      <td>1</td>\n",
       "      <td>1</td>\n",
       "      <td>1</td>\n",
       "      <td>0</td>\n",
       "      <td>0</td>\n",
       "      <td>0</td>\n",
       "      <td>0</td>\n",
       "      <td>0</td>\n",
       "      <td>0</td>\n",
       "      <td>0</td>\n",
       "    </tr>\n",
       "    <tr>\n",
       "      <th>1</th>\n",
       "      <td>0</td>\n",
       "      <td>0.077087</td>\n",
       "      <td>6087</td>\n",
       "      <td>0</td>\n",
       "      <td>1</td>\n",
       "      <td>0</td>\n",
       "      <td>0</td>\n",
       "      <td>0</td>\n",
       "      <td>0</td>\n",
       "      <td>0</td>\n",
       "      <td>0</td>\n",
       "      <td>0</td>\n",
       "      <td>0</td>\n",
       "      <td>0</td>\n",
       "    </tr>\n",
       "    <tr>\n",
       "      <th>2</th>\n",
       "      <td>0</td>\n",
       "      <td>0.324537</td>\n",
       "      <td>1033</td>\n",
       "      <td>0</td>\n",
       "      <td>1</td>\n",
       "      <td>1</td>\n",
       "      <td>1</td>\n",
       "      <td>1</td>\n",
       "      <td>0</td>\n",
       "      <td>0</td>\n",
       "      <td>0</td>\n",
       "      <td>0</td>\n",
       "      <td>0</td>\n",
       "      <td>0</td>\n",
       "    </tr>\n",
       "    <tr>\n",
       "      <th>3</th>\n",
       "      <td>0</td>\n",
       "      <td>0.083354</td>\n",
       "      <td>7656</td>\n",
       "      <td>0</td>\n",
       "      <td>1</td>\n",
       "      <td>0</td>\n",
       "      <td>0</td>\n",
       "      <td>0</td>\n",
       "      <td>0</td>\n",
       "      <td>0</td>\n",
       "      <td>0</td>\n",
       "      <td>0</td>\n",
       "      <td>0</td>\n",
       "      <td>0</td>\n",
       "    </tr>\n",
       "    <tr>\n",
       "      <th>4</th>\n",
       "      <td>1</td>\n",
       "      <td>0.491831</td>\n",
       "      <td>3241</td>\n",
       "      <td>0</td>\n",
       "      <td>1</td>\n",
       "      <td>1</td>\n",
       "      <td>1</td>\n",
       "      <td>1</td>\n",
       "      <td>1</td>\n",
       "      <td>0</td>\n",
       "      <td>0</td>\n",
       "      <td>0</td>\n",
       "      <td>0</td>\n",
       "      <td>0</td>\n",
       "    </tr>\n",
       "  </tbody>\n",
       "</table>\n",
       "</div>"
      ],
      "text/plain": [
       "   Converted  Converted_Prob  LeadNumber  predicted  0.0  0.1  0.2  0.3  0.4  \\\n",
       "0          0        0.215513         302          0    1    1    1    0    0   \n",
       "1          0        0.077087        6087          0    1    0    0    0    0   \n",
       "2          0        0.324537        1033          0    1    1    1    1    0   \n",
       "3          0        0.083354        7656          0    1    0    0    0    0   \n",
       "4          1        0.491831        3241          0    1    1    1    1    1   \n",
       "\n",
       "   0.5  0.6  0.7  0.8  0.9  \n",
       "0    0    0    0    0    0  \n",
       "1    0    0    0    0    0  \n",
       "2    0    0    0    0    0  \n",
       "3    0    0    0    0    0  \n",
       "4    0    0    0    0    0  "
      ]
     },
     "execution_count": 969,
     "metadata": {},
     "output_type": "execute_result"
    }
   ],
   "source": [
    "# Let's create columns with different probability cutoffs \n",
    "numbers = [float(x)/10 for x in range(10)]\n",
    "for i in numbers:\n",
    "    y_train_pred_final[i]= y_train_pred_final.Converted_Prob.map(lambda x: 1 if x > i else 0)\n",
    "y_train_pred_final.head()"
   ]
  },
  {
   "cell_type": "code",
   "execution_count": 970,
   "metadata": {},
   "outputs": [
    {
     "name": "stdout",
     "output_type": "stream",
     "text": [
      "     prob  accuracy     sensi     speci\n",
      "0.0   0.0  0.381581  1.000000  0.000000\n",
      "0.1   0.1  0.428571  0.992586  0.080559\n",
      "0.2   0.2  0.583215  0.913097  0.379670\n",
      "0.3   0.3  0.773063  0.743822  0.791105\n",
      "0.4   0.4  0.785321  0.691928  0.842948\n",
      "0.5   0.5  0.773849  0.613262  0.872935\n",
      "0.6   0.6  0.750747  0.506590  0.901398\n",
      "0.7   0.7  0.720101  0.372323  0.934689\n",
      "0.8   0.8  0.693226  0.254119  0.964168\n",
      "0.9   0.9  0.633192  0.047776  0.994409\n"
     ]
    }
   ],
   "source": [
    "# Now let's calculate accuracy sensitivity and specificity for various probability cutoffs.\n",
    "cutoff_df = pd.DataFrame( columns = ['prob','accuracy','sensi','speci'])\n",
    "from sklearn.metrics import confusion_matrix\n",
    "\n",
    "# TP = confusion[1,1] # true positive \n",
    "# TN = confusion[0,0] # true negatives\n",
    "# FP = confusion[0,1] # false positives\n",
    "# FN = confusion[1,0] # false negatives\n",
    "\n",
    "num = [0.0,0.1,0.2,0.3,0.4,0.5,0.6,0.7,0.8,0.9]\n",
    "for i in num:\n",
    "    cm1 = metrics.confusion_matrix(y_train_pred_final.Converted, y_train_pred_final[i] )\n",
    "    total1=sum(sum(cm1))\n",
    "    accuracy = (cm1[0,0]+cm1[1,1])/total1\n",
    "    \n",
    "    speci = cm1[0,0]/(cm1[0,0]+cm1[0,1])\n",
    "    sensi = cm1[1,1]/(cm1[1,0]+cm1[1,1])\n",
    "    cutoff_df.loc[i] =[ i ,accuracy,sensi,speci]\n",
    "print(cutoff_df)"
   ]
  },
  {
   "cell_type": "code",
   "execution_count": 971,
   "metadata": {},
   "outputs": [
    {
     "data": {
      "image/png": "[encoded data removed]",
      "text/plain": [
       "<Figure size 432x288 with 1 Axes>"
      ]
     },
     "metadata": {
      "needs_background": "light"
     },
     "output_type": "display_data"
    }
   ],
   "source": [
    "# Let's plot accuracy sensitivity and specificity for various probabilities.\n",
    "cutoff_df.plot.line(x='prob', y=['accuracy','sensi','speci'])\n",
    "plt.show()"
   ]
  },
  {
   "cell_type": "markdown",
   "metadata": {},
   "source": [
    "#### From the curve above, 0.28 is the optimum point to take it as a cutoff probability."
   ]
  },
  {
   "cell_type": "code",
   "execution_count": 972,
   "metadata": {},
   "outputs": [
    {
     "data": {
      "text/html": [
       "<div>\n",
       "<style scoped>\n",
       "    .dataframe tbody tr th:only-of-type {\n",
       "        vertical-align: middle;\n",
       "    }\n",
       "\n",
       "    .dataframe tbody tr th {\n",
       "        vertical-align: top;\n",
       "    }\n",
       "\n",
       "    .dataframe thead th {\n",
       "        text-align: right;\n",
       "    }\n",
       "</style>\n",
       "<table border=\"1\" class=\"dataframe\">\n",
       "  <thead>\n",
       "    <tr style=\"text-align: right;\">\n",
       "      <th></th>\n",
       "      <th>Converted</th>\n",
       "      <th>Converted_Prob</th>\n",
       "      <th>LeadNumber</th>\n",
       "      <th>predicted</th>\n",
       "      <th>0.0</th>\n",
       "      <th>0.1</th>\n",
       "      <th>0.2</th>\n",
       "      <th>0.3</th>\n",
       "      <th>0.4</th>\n",
       "      <th>0.5</th>\n",
       "      <th>0.6</th>\n",
       "      <th>0.7</th>\n",
       "      <th>0.8</th>\n",
       "      <th>0.9</th>\n",
       "      <th>final_predicted</th>\n",
       "    </tr>\n",
       "  </thead>\n",
       "  <tbody>\n",
       "    <tr>\n",
       "      <th>0</th>\n",
       "      <td>0</td>\n",
       "      <td>0.215513</td>\n",
       "      <td>302</td>\n",
       "      <td>0</td>\n",
       "      <td>1</td>\n",
       "      <td>1</td>\n",
       "      <td>1</td>\n",
       "      <td>0</td>\n",
       "      <td>0</td>\n",
       "      <td>0</td>\n",
       "      <td>0</td>\n",
       "      <td>0</td>\n",
       "      <td>0</td>\n",
       "      <td>0</td>\n",
       "      <td>0</td>\n",
       "    </tr>\n",
       "    <tr>\n",
       "      <th>1</th>\n",
       "      <td>0</td>\n",
       "      <td>0.077087</td>\n",
       "      <td>6087</td>\n",
       "      <td>0</td>\n",
       "      <td>1</td>\n",
       "      <td>0</td>\n",
       "      <td>0</td>\n",
       "      <td>0</td>\n",
       "      <td>0</td>\n",
       "      <td>0</td>\n",
       "      <td>0</td>\n",
       "      <td>0</td>\n",
       "      <td>0</td>\n",
       "      <td>0</td>\n",
       "      <td>0</td>\n",
       "    </tr>\n",
       "    <tr>\n",
       "      <th>2</th>\n",
       "      <td>0</td>\n",
       "      <td>0.324537</td>\n",
       "      <td>1033</td>\n",
       "      <td>0</td>\n",
       "      <td>1</td>\n",
       "      <td>1</td>\n",
       "      <td>1</td>\n",
       "      <td>1</td>\n",
       "      <td>0</td>\n",
       "      <td>0</td>\n",
       "      <td>0</td>\n",
       "      <td>0</td>\n",
       "      <td>0</td>\n",
       "      <td>0</td>\n",
       "      <td>1</td>\n",
       "    </tr>\n",
       "    <tr>\n",
       "      <th>3</th>\n",
       "      <td>0</td>\n",
       "      <td>0.083354</td>\n",
       "      <td>7656</td>\n",
       "      <td>0</td>\n",
       "      <td>1</td>\n",
       "      <td>0</td>\n",
       "      <td>0</td>\n",
       "      <td>0</td>\n",
       "      <td>0</td>\n",
       "      <td>0</td>\n",
       "      <td>0</td>\n",
       "      <td>0</td>\n",
       "      <td>0</td>\n",
       "      <td>0</td>\n",
       "      <td>0</td>\n",
       "    </tr>\n",
       "    <tr>\n",
       "      <th>4</th>\n",
       "      <td>1</td>\n",
       "      <td>0.491831</td>\n",
       "      <td>3241</td>\n",
       "      <td>0</td>\n",
       "      <td>1</td>\n",
       "      <td>1</td>\n",
       "      <td>1</td>\n",
       "      <td>1</td>\n",
       "      <td>1</td>\n",
       "      <td>0</td>\n",
       "      <td>0</td>\n",
       "      <td>0</td>\n",
       "      <td>0</td>\n",
       "      <td>0</td>\n",
       "      <td>1</td>\n",
       "    </tr>\n",
       "  </tbody>\n",
       "</table>\n",
       "</div>"
      ],
      "text/plain": [
       "   Converted  Converted_Prob  LeadNumber  predicted  0.0  0.1  0.2  0.3  0.4  \\\n",
       "0          0        0.215513         302          0    1    1    1    0    0   \n",
       "1          0        0.077087        6087          0    1    0    0    0    0   \n",
       "2          0        0.324537        1033          0    1    1    1    1    0   \n",
       "3          0        0.083354        7656          0    1    0    0    0    0   \n",
       "4          1        0.491831        3241          0    1    1    1    1    1   \n",
       "\n",
       "   0.5  0.6  0.7  0.8  0.9  final_predicted  \n",
       "0    0    0    0    0    0                0  \n",
       "1    0    0    0    0    0                0  \n",
       "2    0    0    0    0    0                1  \n",
       "3    0    0    0    0    0                0  \n",
       "4    0    0    0    0    0                1  "
      ]
     },
     "execution_count": 972,
     "metadata": {},
     "output_type": "execute_result"
    }
   ],
   "source": [
    "y_train_pred_final['final_predicted'] = y_train_pred_final.Converted_Prob.map( lambda x: 1 if x > 0.28 else 0)\n",
    "\n",
    "y_train_pred_final.head()"
   ]
  },
  {
   "cell_type": "code",
   "execution_count": 973,
   "metadata": {},
   "outputs": [
    {
     "data": {
      "text/plain": [
       "0.7636335062077636"
      ]
     },
     "execution_count": 973,
     "metadata": {},
     "output_type": "execute_result"
    }
   ],
   "source": [
    "# Let's check the overall accuracy.\n",
    "metrics.accuracy_score(y_train_pred_final.Converted, y_train_pred_final.final_predicted)"
   ]
  },
  {
   "cell_type": "code",
   "execution_count": 974,
   "metadata": {},
   "outputs": [
    {
     "data": {
      "text/plain": [
       "array([[3029,  906],\n",
       "       [ 598, 1830]], dtype=int64)"
      ]
     },
     "execution_count": 974,
     "metadata": {},
     "output_type": "execute_result"
    }
   ],
   "source": [
    "confusion2 = metrics.confusion_matrix(y_train_pred_final.Converted, y_train_pred_final.final_predicted )\n",
    "confusion2"
   ]
  },
  {
   "cell_type": "code",
   "execution_count": 975,
   "metadata": {},
   "outputs": [],
   "source": [
    "TP = confusion2[1,1] # true positive \n",
    "TN = confusion2[0,0] # true negatives\n",
    "FP = confusion2[0,1] # false positives\n",
    "FN = confusion2[1,0] # false negatives"
   ]
  },
  {
   "cell_type": "code",
   "execution_count": 976,
   "metadata": {},
   "outputs": [
    {
     "data": {
      "text/plain": [
       "0.7537067545304778"
      ]
     },
     "execution_count": 976,
     "metadata": {},
     "output_type": "execute_result"
    }
   ],
   "source": [
    "# Let's see the sensitivity of our logistic regression model\n",
    "TP / float(TP+FN)"
   ]
  },
  {
   "cell_type": "code",
   "execution_count": 977,
   "metadata": {},
   "outputs": [
    {
     "data": {
      "text/plain": [
       "0.7697585768742058"
      ]
     },
     "execution_count": 977,
     "metadata": {},
     "output_type": "execute_result"
    }
   ],
   "source": [
    "# Let us calculate specificity\n",
    "TN / float(TN+FP)"
   ]
  },
  {
   "cell_type": "code",
   "execution_count": 978,
   "metadata": {},
   "outputs": [
    {
     "name": "stdout",
     "output_type": "stream",
     "text": [
      "0.23024142312579415\n"
     ]
    }
   ],
   "source": [
    "# Calculate false postive rate - predicting Converted when customer does not have converted\n",
    "print(FP/ float(TN+FP))"
   ]
  },
  {
   "cell_type": "code",
   "execution_count": 979,
   "metadata": {},
   "outputs": [
    {
     "name": "stdout",
     "output_type": "stream",
     "text": [
      "0.668859649122807\n"
     ]
    }
   ],
   "source": [
    "# Positive predictive value \n",
    "print (TP / float(TP+FP))"
   ]
  },
  {
   "cell_type": "code",
   "execution_count": 980,
   "metadata": {},
   "outputs": [
    {
     "name": "stdout",
     "output_type": "stream",
     "text": [
      "0.8351254480286738\n"
     ]
    }
   ],
   "source": [
    "# Negative predictive value\n",
    "print (TN / float(TN+ FN))"
   ]
  },
  {
   "cell_type": "markdown",
   "metadata": {},
   "source": [
    "### Precision and Recall"
   ]
  },
  {
   "cell_type": "code",
   "execution_count": 981,
   "metadata": {},
   "outputs": [
    {
     "data": {
      "text/plain": [
       "array([[3435,  500],\n",
       "       [ 939, 1489]], dtype=int64)"
      ]
     },
     "execution_count": 981,
     "metadata": {},
     "output_type": "execute_result"
    }
   ],
   "source": [
    "#Looking at the confusion matrix again\n",
    "confusion3 = metrics.confusion_matrix(y_train_pred_final.Converted, y_train_pred_final.predicted )\n",
    "confusion3"
   ]
  },
  {
   "cell_type": "markdown",
   "metadata": {},
   "source": [
    "##### Precision\n",
    "TP / TP + FP"
   ]
  },
  {
   "cell_type": "code",
   "execution_count": 982,
   "metadata": {},
   "outputs": [
    {
     "data": {
      "text/plain": [
       "0.7486173956762192"
      ]
     },
     "execution_count": 982,
     "metadata": {},
     "output_type": "execute_result"
    }
   ],
   "source": [
    "confusion3[1,1]/(confusion3[0,1]+confusion3[1,1])"
   ]
  },
  {
   "cell_type": "markdown",
   "metadata": {},
   "source": [
    "##### Recall\n",
    "TP / TP + FN"
   ]
  },
  {
   "cell_type": "code",
   "execution_count": 983,
   "metadata": {},
   "outputs": [
    {
     "data": {
      "text/plain": [
       "0.6132619439868204"
      ]
     },
     "execution_count": 983,
     "metadata": {},
     "output_type": "execute_result"
    }
   ],
   "source": [
    "confusion3[1,1]/(confusion3[1,0]+confusion3[1,1])"
   ]
  },
  {
   "cell_type": "markdown",
   "metadata": {},
   "source": [
    "### Precision and recall tradeoff"
   ]
  },
  {
   "cell_type": "code",
   "execution_count": 984,
   "metadata": {},
   "outputs": [],
   "source": [
    "from sklearn.metrics import precision_recall_curve"
   ]
  },
  {
   "cell_type": "code",
   "execution_count": 985,
   "metadata": {},
   "outputs": [
    {
     "data": {
      "text/plain": [
       "(0       0\n",
       " 1       0\n",
       " 2       0\n",
       " 3       0\n",
       " 4       1\n",
       "        ..\n",
       " 6358    0\n",
       " 6359    1\n",
       " 6360    1\n",
       " 6361    1\n",
       " 6362    0\n",
       " Name: Converted, Length: 6363, dtype: int64,\n",
       " 0       0\n",
       " 1       0\n",
       " 2       0\n",
       " 3       0\n",
       " 4       0\n",
       "        ..\n",
       " 6358    0\n",
       " 6359    1\n",
       " 6360    1\n",
       " 6361    1\n",
       " 6362    0\n",
       " Name: predicted, Length: 6363, dtype: int64)"
      ]
     },
     "execution_count": 985,
     "metadata": {},
     "output_type": "execute_result"
    }
   ],
   "source": [
    "y_train_pred_final.Converted, y_train_pred_final.predicted"
   ]
  },
  {
   "cell_type": "code",
   "execution_count": 986,
   "metadata": {},
   "outputs": [],
   "source": [
    "p, r, thresholds = precision_recall_curve(y_train_pred_final.Converted, y_train_pred_final.Converted_Prob)"
   ]
  },
  {
   "cell_type": "code",
   "execution_count": 987,
   "metadata": {},
   "outputs": [
    {
     "data": {
      "image/png": "[encoded data removed]",
      "text/plain": [
       "<Figure size 432x288 with 1 Axes>"
      ]
     },
     "metadata": {
      "needs_background": "light"
     },
     "output_type": "display_data"
    }
   ],
   "source": [
    "plt.plot(thresholds, p[:-1], \"g-\")\n",
    "plt.plot(thresholds, r[:-1], \"r-\")\n",
    "plt.show()"
   ]
  },
  {
   "cell_type": "markdown",
   "metadata": {},
   "source": [
    " ## Step 6 - Model prediction and evaluation on test set"
   ]
  },
  {
   "cell_type": "code",
   "execution_count": 988,
   "metadata": {},
   "outputs": [
    {
     "data": {
      "text/html": [
       "<div>\n",
       "<style scoped>\n",
       "    .dataframe tbody tr th:only-of-type {\n",
       "        vertical-align: middle;\n",
       "    }\n",
       "\n",
       "    .dataframe tbody tr th {\n",
       "        vertical-align: top;\n",
       "    }\n",
       "\n",
       "    .dataframe thead th {\n",
       "        text-align: right;\n",
       "    }\n",
       "</style>\n",
       "<table border=\"1\" class=\"dataframe\">\n",
       "  <thead>\n",
       "    <tr style=\"text-align: right;\">\n",
       "      <th></th>\n",
       "      <th>Do Not Email</th>\n",
       "      <th>Do Not Call</th>\n",
       "      <th>TotalVisits</th>\n",
       "      <th>Total Time Spent on Website</th>\n",
       "      <th>Page Views Per Visit</th>\n",
       "      <th>Search</th>\n",
       "      <th>Newspaper Article</th>\n",
       "      <th>X Education Forums</th>\n",
       "      <th>Newspaper</th>\n",
       "      <th>Digital Advertisement</th>\n",
       "      <th>...</th>\n",
       "      <th>Update me on Supply Chain Content</th>\n",
       "      <th>Get updates on DM Content</th>\n",
       "      <th>I agree to pay the amount through cheque</th>\n",
       "      <th>A free copy of Mastering The Interview</th>\n",
       "      <th>Lead_Origin_Landing Page Submission</th>\n",
       "      <th>Lead_Origin_Lead Import/Add Form</th>\n",
       "      <th>Lead_Source_Google</th>\n",
       "      <th>Lead_Source_Olark Chat</th>\n",
       "      <th>Lead_Source_Organic Search</th>\n",
       "      <th>Lead_Source_Others</th>\n",
       "    </tr>\n",
       "  </thead>\n",
       "  <tbody>\n",
       "    <tr>\n",
       "      <th>302</th>\n",
       "      <td>0</td>\n",
       "      <td>0</td>\n",
       "      <td>0.411765</td>\n",
       "      <td>0.110035</td>\n",
       "      <td>0.222222</td>\n",
       "      <td>0</td>\n",
       "      <td>0</td>\n",
       "      <td>0</td>\n",
       "      <td>0</td>\n",
       "      <td>0</td>\n",
       "      <td>...</td>\n",
       "      <td>0</td>\n",
       "      <td>0</td>\n",
       "      <td>0</td>\n",
       "      <td>0</td>\n",
       "      <td>0</td>\n",
       "      <td>0</td>\n",
       "      <td>0</td>\n",
       "      <td>0</td>\n",
       "      <td>0</td>\n",
       "      <td>1</td>\n",
       "    </tr>\n",
       "    <tr>\n",
       "      <th>6087</th>\n",
       "      <td>1</td>\n",
       "      <td>0</td>\n",
       "      <td>0.000000</td>\n",
       "      <td>0.000000</td>\n",
       "      <td>0.000000</td>\n",
       "      <td>0</td>\n",
       "      <td>0</td>\n",
       "      <td>0</td>\n",
       "      <td>0</td>\n",
       "      <td>0</td>\n",
       "      <td>...</td>\n",
       "      <td>0</td>\n",
       "      <td>0</td>\n",
       "      <td>0</td>\n",
       "      <td>0</td>\n",
       "      <td>0</td>\n",
       "      <td>0</td>\n",
       "      <td>0</td>\n",
       "      <td>1</td>\n",
       "      <td>0</td>\n",
       "      <td>0</td>\n",
       "    </tr>\n",
       "    <tr>\n",
       "      <th>1033</th>\n",
       "      <td>0</td>\n",
       "      <td>0</td>\n",
       "      <td>0.294118</td>\n",
       "      <td>0.206866</td>\n",
       "      <td>0.555556</td>\n",
       "      <td>0</td>\n",
       "      <td>0</td>\n",
       "      <td>0</td>\n",
       "      <td>0</td>\n",
       "      <td>0</td>\n",
       "      <td>...</td>\n",
       "      <td>0</td>\n",
       "      <td>0</td>\n",
       "      <td>0</td>\n",
       "      <td>0</td>\n",
       "      <td>0</td>\n",
       "      <td>0</td>\n",
       "      <td>1</td>\n",
       "      <td>0</td>\n",
       "      <td>0</td>\n",
       "      <td>0</td>\n",
       "    </tr>\n",
       "    <tr>\n",
       "      <th>7656</th>\n",
       "      <td>1</td>\n",
       "      <td>0</td>\n",
       "      <td>0.352941</td>\n",
       "      <td>0.154930</td>\n",
       "      <td>0.666667</td>\n",
       "      <td>0</td>\n",
       "      <td>0</td>\n",
       "      <td>0</td>\n",
       "      <td>0</td>\n",
       "      <td>0</td>\n",
       "      <td>...</td>\n",
       "      <td>0</td>\n",
       "      <td>0</td>\n",
       "      <td>0</td>\n",
       "      <td>1</td>\n",
       "      <td>1</td>\n",
       "      <td>0</td>\n",
       "      <td>0</td>\n",
       "      <td>0</td>\n",
       "      <td>0</td>\n",
       "      <td>0</td>\n",
       "    </tr>\n",
       "    <tr>\n",
       "      <th>3241</th>\n",
       "      <td>0</td>\n",
       "      <td>0</td>\n",
       "      <td>0.235294</td>\n",
       "      <td>0.428257</td>\n",
       "      <td>0.111111</td>\n",
       "      <td>0</td>\n",
       "      <td>0</td>\n",
       "      <td>0</td>\n",
       "      <td>0</td>\n",
       "      <td>0</td>\n",
       "      <td>...</td>\n",
       "      <td>0</td>\n",
       "      <td>0</td>\n",
       "      <td>0</td>\n",
       "      <td>1</td>\n",
       "      <td>1</td>\n",
       "      <td>0</td>\n",
       "      <td>0</td>\n",
       "      <td>0</td>\n",
       "      <td>0</td>\n",
       "      <td>0</td>\n",
       "    </tr>\n",
       "  </tbody>\n",
       "</table>\n",
       "<p>5 rows × 21 columns</p>\n",
       "</div>"
      ],
      "text/plain": [
       "      Do Not Email  Do Not Call  TotalVisits  Total Time Spent on Website  \\\n",
       "302              0            0     0.411765                     0.110035   \n",
       "6087             1            0     0.000000                     0.000000   \n",
       "1033             0            0     0.294118                     0.206866   \n",
       "7656             1            0     0.352941                     0.154930   \n",
       "3241             0            0     0.235294                     0.428257   \n",
       "\n",
       "      Page Views Per Visit  Search  Newspaper Article  X Education Forums  \\\n",
       "302               0.222222       0                  0                   0   \n",
       "6087              0.000000       0                  0                   0   \n",
       "1033              0.555556       0                  0                   0   \n",
       "7656              0.666667       0                  0                   0   \n",
       "3241              0.111111       0                  0                   0   \n",
       "\n",
       "      Newspaper  Digital Advertisement  ...  \\\n",
       "302           0                      0  ...   \n",
       "6087          0                      0  ...   \n",
       "1033          0                      0  ...   \n",
       "7656          0                      0  ...   \n",
       "3241          0                      0  ...   \n",
       "\n",
       "      Update me on Supply Chain Content  Get updates on DM Content  \\\n",
       "302                                   0                          0   \n",
       "6087                                  0                          0   \n",
       "1033                                  0                          0   \n",
       "7656                                  0                          0   \n",
       "3241                                  0                          0   \n",
       "\n",
       "      I agree to pay the amount through cheque  \\\n",
       "302                                          0   \n",
       "6087                                         0   \n",
       "1033                                         0   \n",
       "7656                                         0   \n",
       "3241                                         0   \n",
       "\n",
       "      A free copy of Mastering The Interview  \\\n",
       "302                                        0   \n",
       "6087                                       0   \n",
       "1033                                       0   \n",
       "7656                                       1   \n",
       "3241                                       1   \n",
       "\n",
       "      Lead_Origin_Landing Page Submission  Lead_Origin_Lead Import/Add Form  \\\n",
       "302                                     0                                 0   \n",
       "6087                                    0                                 0   \n",
       "1033                                    0                                 0   \n",
       "7656                                    1                                 0   \n",
       "3241                                    1                                 0   \n",
       "\n",
       "      Lead_Source_Google  Lead_Source_Olark Chat  Lead_Source_Organic Search  \\\n",
       "302                    0                       0                           0   \n",
       "6087                   0                       1                           0   \n",
       "1033                   1                       0                           0   \n",
       "7656                   0                       0                           0   \n",
       "3241                   0                       0                           0   \n",
       "\n",
       "      Lead_Source_Others  \n",
       "302                    1  \n",
       "6087                   0  \n",
       "1033                   0  \n",
       "7656                   0  \n",
       "3241                   0  \n",
       "\n",
       "[5 rows x 21 columns]"
      ]
     },
     "execution_count": 988,
     "metadata": {},
     "output_type": "execute_result"
    }
   ],
   "source": [
    "X_test[[\"TotalVisits\",\"Total Time Spent on Website\",\"Page Views Per Visit\"]] = scaler.transform(X_test[[\"TotalVisits\",\"Total Time Spent on Website\",\"Page Views Per Visit\"]])\n",
    "X_train.head()"
   ]
  },
  {
   "cell_type": "code",
   "execution_count": 989,
   "metadata": {},
   "outputs": [
    {
     "data": {
      "text/html": [
       "<div>\n",
       "<style scoped>\n",
       "    .dataframe tbody tr th:only-of-type {\n",
       "        vertical-align: middle;\n",
       "    }\n",
       "\n",
       "    .dataframe tbody tr th {\n",
       "        vertical-align: top;\n",
       "    }\n",
       "\n",
       "    .dataframe thead th {\n",
       "        text-align: right;\n",
       "    }\n",
       "</style>\n",
       "<table border=\"1\" class=\"dataframe\">\n",
       "  <thead>\n",
       "    <tr style=\"text-align: right;\">\n",
       "      <th></th>\n",
       "      <th>Do Not Email</th>\n",
       "      <th>TotalVisits</th>\n",
       "      <th>Total Time Spent on Website</th>\n",
       "      <th>Lead_Origin_Lead Import/Add Form</th>\n",
       "      <th>Lead_Source_Google</th>\n",
       "      <th>Lead_Source_Olark Chat</th>\n",
       "    </tr>\n",
       "  </thead>\n",
       "  <tbody>\n",
       "    <tr>\n",
       "      <th>6906</th>\n",
       "      <td>0</td>\n",
       "      <td>0.235294</td>\n",
       "      <td>0.673415</td>\n",
       "      <td>0</td>\n",
       "      <td>0</td>\n",
       "      <td>0</td>\n",
       "    </tr>\n",
       "    <tr>\n",
       "      <th>1873</th>\n",
       "      <td>0</td>\n",
       "      <td>0.117647</td>\n",
       "      <td>0.081866</td>\n",
       "      <td>0</td>\n",
       "      <td>1</td>\n",
       "      <td>0</td>\n",
       "    </tr>\n",
       "    <tr>\n",
       "      <th>771</th>\n",
       "      <td>0</td>\n",
       "      <td>0.411765</td>\n",
       "      <td>0.021567</td>\n",
       "      <td>0</td>\n",
       "      <td>1</td>\n",
       "      <td>0</td>\n",
       "    </tr>\n",
       "    <tr>\n",
       "      <th>4495</th>\n",
       "      <td>0</td>\n",
       "      <td>0.235294</td>\n",
       "      <td>0.063380</td>\n",
       "      <td>0</td>\n",
       "      <td>1</td>\n",
       "      <td>0</td>\n",
       "    </tr>\n",
       "    <tr>\n",
       "      <th>9061</th>\n",
       "      <td>0</td>\n",
       "      <td>0.117647</td>\n",
       "      <td>0.786972</td>\n",
       "      <td>0</td>\n",
       "      <td>0</td>\n",
       "      <td>0</td>\n",
       "    </tr>\n",
       "  </tbody>\n",
       "</table>\n",
       "</div>"
      ],
      "text/plain": [
       "      Do Not Email  TotalVisits  Total Time Spent on Website  \\\n",
       "6906             0     0.235294                     0.673415   \n",
       "1873             0     0.117647                     0.081866   \n",
       "771              0     0.411765                     0.021567   \n",
       "4495             0     0.235294                     0.063380   \n",
       "9061             0     0.117647                     0.786972   \n",
       "\n",
       "      Lead_Origin_Lead Import/Add Form  Lead_Source_Google  \\\n",
       "6906                                 0                   0   \n",
       "1873                                 0                   1   \n",
       "771                                  0                   1   \n",
       "4495                                 0                   1   \n",
       "9061                                 0                   0   \n",
       "\n",
       "      Lead_Source_Olark Chat  \n",
       "6906                       0  \n",
       "1873                       0  \n",
       "771                        0  \n",
       "4495                       0  \n",
       "9061                       0  "
      ]
     },
     "execution_count": 989,
     "metadata": {},
     "output_type": "execute_result"
    }
   ],
   "source": [
    "X_test = X_test[col]\n",
    "X_test.head()"
   ]
  },
  {
   "cell_type": "code",
   "execution_count": 990,
   "metadata": {},
   "outputs": [],
   "source": [
    "X_test_sm = sm.add_constant(X_test)"
   ]
  },
  {
   "cell_type": "markdown",
   "metadata": {},
   "source": [
    "##### Making predictions on the test set"
   ]
  },
  {
   "cell_type": "code",
   "execution_count": 991,
   "metadata": {},
   "outputs": [],
   "source": [
    "y_test_pred = res.predict(X_test_sm)"
   ]
  },
  {
   "cell_type": "code",
   "execution_count": 992,
   "metadata": {},
   "outputs": [
    {
     "data": {
      "text/plain": [
       "6906    0.745815\n",
       "1873    0.185608\n",
       "771     0.189834\n",
       "4495    0.191200\n",
       "9061    0.813048\n",
       "4929    0.726318\n",
       "2308    0.213589\n",
       "1034    0.139279\n",
       "9033    0.146845\n",
       "7008    0.750554\n",
       "dtype: float64"
      ]
     },
     "execution_count": 992,
     "metadata": {},
     "output_type": "execute_result"
    }
   ],
   "source": [
    "y_test_pred[:10]"
   ]
  },
  {
   "cell_type": "code",
   "execution_count": 993,
   "metadata": {},
   "outputs": [],
   "source": [
    "# Converting y_pred to a dataframe which is an array\n",
    "y_pred_1 = pd.DataFrame(y_test_pred)"
   ]
  },
  {
   "cell_type": "code",
   "execution_count": 994,
   "metadata": {},
   "outputs": [
    {
     "data": {
      "text/html": [
       "<div>\n",
       "<style scoped>\n",
       "    .dataframe tbody tr th:only-of-type {\n",
       "        vertical-align: middle;\n",
       "    }\n",
       "\n",
       "    .dataframe tbody tr th {\n",
       "        vertical-align: top;\n",
       "    }\n",
       "\n",
       "    .dataframe thead th {\n",
       "        text-align: right;\n",
       "    }\n",
       "</style>\n",
       "<table border=\"1\" class=\"dataframe\">\n",
       "  <thead>\n",
       "    <tr style=\"text-align: right;\">\n",
       "      <th></th>\n",
       "      <th>0</th>\n",
       "    </tr>\n",
       "  </thead>\n",
       "  <tbody>\n",
       "    <tr>\n",
       "      <th>6906</th>\n",
       "      <td>0.745815</td>\n",
       "    </tr>\n",
       "    <tr>\n",
       "      <th>1873</th>\n",
       "      <td>0.185608</td>\n",
       "    </tr>\n",
       "    <tr>\n",
       "      <th>771</th>\n",
       "      <td>0.189834</td>\n",
       "    </tr>\n",
       "    <tr>\n",
       "      <th>4495</th>\n",
       "      <td>0.191200</td>\n",
       "    </tr>\n",
       "    <tr>\n",
       "      <th>9061</th>\n",
       "      <td>0.813048</td>\n",
       "    </tr>\n",
       "  </tbody>\n",
       "</table>\n",
       "</div>"
      ],
      "text/plain": [
       "             0\n",
       "6906  0.745815\n",
       "1873  0.185608\n",
       "771   0.189834\n",
       "4495  0.191200\n",
       "9061  0.813048"
      ]
     },
     "execution_count": 994,
     "metadata": {},
     "output_type": "execute_result"
    }
   ],
   "source": [
    "# Let's see the head\n",
    "y_pred_1.head()"
   ]
  },
  {
   "cell_type": "code",
   "execution_count": 995,
   "metadata": {},
   "outputs": [
    {
     "data": {
      "text/html": [
       "<div>\n",
       "<style scoped>\n",
       "    .dataframe tbody tr th:only-of-type {\n",
       "        vertical-align: middle;\n",
       "    }\n",
       "\n",
       "    .dataframe tbody tr th {\n",
       "        vertical-align: top;\n",
       "    }\n",
       "\n",
       "    .dataframe thead th {\n",
       "        text-align: right;\n",
       "    }\n",
       "</style>\n",
       "<table border=\"1\" class=\"dataframe\">\n",
       "  <thead>\n",
       "    <tr style=\"text-align: right;\">\n",
       "      <th></th>\n",
       "      <th>Converted</th>\n",
       "    </tr>\n",
       "  </thead>\n",
       "  <tbody>\n",
       "    <tr>\n",
       "      <th>6906</th>\n",
       "      <td>1</td>\n",
       "    </tr>\n",
       "    <tr>\n",
       "      <th>1873</th>\n",
       "      <td>0</td>\n",
       "    </tr>\n",
       "    <tr>\n",
       "      <th>771</th>\n",
       "      <td>0</td>\n",
       "    </tr>\n",
       "    <tr>\n",
       "      <th>4495</th>\n",
       "      <td>0</td>\n",
       "    </tr>\n",
       "    <tr>\n",
       "      <th>9061</th>\n",
       "      <td>1</td>\n",
       "    </tr>\n",
       "  </tbody>\n",
       "</table>\n",
       "</div>"
      ],
      "text/plain": [
       "      Converted\n",
       "6906          1\n",
       "1873          0\n",
       "771           0\n",
       "4495          0\n",
       "9061          1"
      ]
     },
     "execution_count": 995,
     "metadata": {},
     "output_type": "execute_result"
    }
   ],
   "source": [
    "# Converting y_test to dataframe\n",
    "y_test_df = pd.DataFrame(y_test)\n",
    "y_test_df.head()"
   ]
  },
  {
   "cell_type": "code",
   "execution_count": 996,
   "metadata": {},
   "outputs": [],
   "source": [
    "# Putting LeadNumber to index\n",
    "y_test_df['LeadNumber'] = y_test_df.index"
   ]
  },
  {
   "cell_type": "code",
   "execution_count": 997,
   "metadata": {},
   "outputs": [],
   "source": [
    "# Removing index for both dataframes to append them side by side \n",
    "y_pred_1.reset_index(drop=True, inplace=True)\n",
    "y_test_df.reset_index(drop=True, inplace=True)"
   ]
  },
  {
   "cell_type": "code",
   "execution_count": 998,
   "metadata": {},
   "outputs": [],
   "source": [
    "# Appending y_test_df and y_pred_1\n",
    "y_pred_final = pd.concat([y_test_df, y_pred_1],axis=1)"
   ]
  },
  {
   "cell_type": "code",
   "execution_count": 999,
   "metadata": {},
   "outputs": [
    {
     "data": {
      "text/html": [
       "<div>\n",
       "<style scoped>\n",
       "    .dataframe tbody tr th:only-of-type {\n",
       "        vertical-align: middle;\n",
       "    }\n",
       "\n",
       "    .dataframe tbody tr th {\n",
       "        vertical-align: top;\n",
       "    }\n",
       "\n",
       "    .dataframe thead th {\n",
       "        text-align: right;\n",
       "    }\n",
       "</style>\n",
       "<table border=\"1\" class=\"dataframe\">\n",
       "  <thead>\n",
       "    <tr style=\"text-align: right;\">\n",
       "      <th></th>\n",
       "      <th>Converted</th>\n",
       "      <th>LeadNumber</th>\n",
       "      <th>0</th>\n",
       "    </tr>\n",
       "  </thead>\n",
       "  <tbody>\n",
       "    <tr>\n",
       "      <th>0</th>\n",
       "      <td>1</td>\n",
       "      <td>6906</td>\n",
       "      <td>0.745815</td>\n",
       "    </tr>\n",
       "    <tr>\n",
       "      <th>1</th>\n",
       "      <td>0</td>\n",
       "      <td>1873</td>\n",
       "      <td>0.185608</td>\n",
       "    </tr>\n",
       "    <tr>\n",
       "      <th>2</th>\n",
       "      <td>0</td>\n",
       "      <td>771</td>\n",
       "      <td>0.189834</td>\n",
       "    </tr>\n",
       "    <tr>\n",
       "      <th>3</th>\n",
       "      <td>0</td>\n",
       "      <td>4495</td>\n",
       "      <td>0.191200</td>\n",
       "    </tr>\n",
       "    <tr>\n",
       "      <th>4</th>\n",
       "      <td>1</td>\n",
       "      <td>9061</td>\n",
       "      <td>0.813048</td>\n",
       "    </tr>\n",
       "  </tbody>\n",
       "</table>\n",
       "</div>"
      ],
      "text/plain": [
       "   Converted  LeadNumber         0\n",
       "0          1        6906  0.745815\n",
       "1          0        1873  0.185608\n",
       "2          0         771  0.189834\n",
       "3          0        4495  0.191200\n",
       "4          1        9061  0.813048"
      ]
     },
     "execution_count": 999,
     "metadata": {},
     "output_type": "execute_result"
    }
   ],
   "source": [
    "y_pred_final.head()"
   ]
  },
  {
   "cell_type": "code",
   "execution_count": 1000,
   "metadata": {},
   "outputs": [],
   "source": [
    "# Renaming the column \n",
    "y_pred_final= y_pred_final.rename(columns={ 0 : 'Converted_Prob'})"
   ]
  },
  {
   "cell_type": "code",
   "execution_count": 1001,
   "metadata": {},
   "outputs": [],
   "source": [
    "# Rearranging the columns\n",
    "y_pred_final = y_pred_final.reindex(['LeadNumber','Converted','Converted_Prob'], axis=1)"
   ]
  },
  {
   "cell_type": "code",
   "execution_count": 1002,
   "metadata": {},
   "outputs": [
    {
     "data": {
      "text/html": [
       "<div>\n",
       "<style scoped>\n",
       "    .dataframe tbody tr th:only-of-type {\n",
       "        vertical-align: middle;\n",
       "    }\n",
       "\n",
       "    .dataframe tbody tr th {\n",
       "        vertical-align: top;\n",
       "    }\n",
       "\n",
       "    .dataframe thead th {\n",
       "        text-align: right;\n",
       "    }\n",
       "</style>\n",
       "<table border=\"1\" class=\"dataframe\">\n",
       "  <thead>\n",
       "    <tr style=\"text-align: right;\">\n",
       "      <th></th>\n",
       "      <th>LeadNumber</th>\n",
       "      <th>Converted</th>\n",
       "      <th>Converted_Prob</th>\n",
       "    </tr>\n",
       "  </thead>\n",
       "  <tbody>\n",
       "    <tr>\n",
       "      <th>0</th>\n",
       "      <td>6906</td>\n",
       "      <td>1</td>\n",
       "      <td>0.745815</td>\n",
       "    </tr>\n",
       "    <tr>\n",
       "      <th>1</th>\n",
       "      <td>1873</td>\n",
       "      <td>0</td>\n",
       "      <td>0.185608</td>\n",
       "    </tr>\n",
       "    <tr>\n",
       "      <th>2</th>\n",
       "      <td>771</td>\n",
       "      <td>0</td>\n",
       "      <td>0.189834</td>\n",
       "    </tr>\n",
       "    <tr>\n",
       "      <th>3</th>\n",
       "      <td>4495</td>\n",
       "      <td>0</td>\n",
       "      <td>0.191200</td>\n",
       "    </tr>\n",
       "    <tr>\n",
       "      <th>4</th>\n",
       "      <td>9061</td>\n",
       "      <td>1</td>\n",
       "      <td>0.813048</td>\n",
       "    </tr>\n",
       "  </tbody>\n",
       "</table>\n",
       "</div>"
      ],
      "text/plain": [
       "   LeadNumber  Converted  Converted_Prob\n",
       "0        6906          1        0.745815\n",
       "1        1873          0        0.185608\n",
       "2         771          0        0.189834\n",
       "3        4495          0        0.191200\n",
       "4        9061          1        0.813048"
      ]
     },
     "execution_count": 1002,
     "metadata": {},
     "output_type": "execute_result"
    }
   ],
   "source": [
    "# Let's see the head of y_pred_final\n",
    "y_pred_final.head()"
   ]
  },
  {
   "cell_type": "code",
   "execution_count": 1003,
   "metadata": {},
   "outputs": [],
   "source": [
    "y_pred_final['final_predicted'] = y_pred_final.Converted_Prob.map(lambda x: 1 if x > 0.35 else 0)"
   ]
  },
  {
   "cell_type": "code",
   "execution_count": 1004,
   "metadata": {},
   "outputs": [
    {
     "data": {
      "text/html": [
       "<div>\n",
       "<style scoped>\n",
       "    .dataframe tbody tr th:only-of-type {\n",
       "        vertical-align: middle;\n",
       "    }\n",
       "\n",
       "    .dataframe tbody tr th {\n",
       "        vertical-align: top;\n",
       "    }\n",
       "\n",
       "    .dataframe thead th {\n",
       "        text-align: right;\n",
       "    }\n",
       "</style>\n",
       "<table border=\"1\" class=\"dataframe\">\n",
       "  <thead>\n",
       "    <tr style=\"text-align: right;\">\n",
       "      <th></th>\n",
       "      <th>LeadNumber</th>\n",
       "      <th>Converted</th>\n",
       "      <th>Converted_Prob</th>\n",
       "      <th>final_predicted</th>\n",
       "    </tr>\n",
       "  </thead>\n",
       "  <tbody>\n",
       "    <tr>\n",
       "      <th>0</th>\n",
       "      <td>6906</td>\n",
       "      <td>1</td>\n",
       "      <td>0.745815</td>\n",
       "      <td>1</td>\n",
       "    </tr>\n",
       "    <tr>\n",
       "      <th>1</th>\n",
       "      <td>1873</td>\n",
       "      <td>0</td>\n",
       "      <td>0.185608</td>\n",
       "      <td>0</td>\n",
       "    </tr>\n",
       "    <tr>\n",
       "      <th>2</th>\n",
       "      <td>771</td>\n",
       "      <td>0</td>\n",
       "      <td>0.189834</td>\n",
       "      <td>0</td>\n",
       "    </tr>\n",
       "    <tr>\n",
       "      <th>3</th>\n",
       "      <td>4495</td>\n",
       "      <td>0</td>\n",
       "      <td>0.191200</td>\n",
       "      <td>0</td>\n",
       "    </tr>\n",
       "    <tr>\n",
       "      <th>4</th>\n",
       "      <td>9061</td>\n",
       "      <td>1</td>\n",
       "      <td>0.813048</td>\n",
       "      <td>1</td>\n",
       "    </tr>\n",
       "  </tbody>\n",
       "</table>\n",
       "</div>"
      ],
      "text/plain": [
       "   LeadNumber  Converted  Converted_Prob  final_predicted\n",
       "0        6906          1        0.745815                1\n",
       "1        1873          0        0.185608                0\n",
       "2         771          0        0.189834                0\n",
       "3        4495          0        0.191200                0\n",
       "4        9061          1        0.813048                1"
      ]
     },
     "execution_count": 1004,
     "metadata": {},
     "output_type": "execute_result"
    }
   ],
   "source": [
    "y_pred_final.head()"
   ]
  },
  {
   "cell_type": "code",
   "execution_count": 1005,
   "metadata": {},
   "outputs": [
    {
     "data": {
      "text/plain": [
       "0.7821782178217822"
      ]
     },
     "execution_count": 1005,
     "metadata": {},
     "output_type": "execute_result"
    }
   ],
   "source": [
    "# Let's check the overall accuracy.\n",
    "metrics.accuracy_score(y_pred_final.Converted, y_pred_final.final_predicted)"
   ]
  },
  {
   "cell_type": "code",
   "execution_count": 1006,
   "metadata": {},
   "outputs": [
    {
     "data": {
      "text/plain": [
       "array([[1372,  288],\n",
       "       [ 306,  761]], dtype=int64)"
      ]
     },
     "execution_count": 1006,
     "metadata": {},
     "output_type": "execute_result"
    }
   ],
   "source": [
    "confusion4 = metrics.confusion_matrix(y_pred_final.Converted, y_pred_final.final_predicted )\n",
    "confusion4"
   ]
  },
  {
   "cell_type": "code",
   "execution_count": 1007,
   "metadata": {},
   "outputs": [],
   "source": [
    "TP = confusion4[1,1] # true positive \n",
    "TN = confusion4[0,0] # true negatives\n",
    "FP = confusion4[0,1] # false positives\n",
    "FN = confusion4[1,0] # false negatives"
   ]
  },
  {
   "cell_type": "code",
   "execution_count": 1008,
   "metadata": {},
   "outputs": [
    {
     "data": {
      "text/plain": [
       "0.7132146204311153"
      ]
     },
     "execution_count": 1008,
     "metadata": {},
     "output_type": "execute_result"
    }
   ],
   "source": [
    "# Let's see the sensitivity of our logistic regression model\n",
    "TP / float(TP+FN)"
   ]
  },
  {
   "cell_type": "code",
   "execution_count": 1009,
   "metadata": {},
   "outputs": [
    {
     "data": {
      "text/plain": [
       "0.8265060240963855"
      ]
     },
     "execution_count": 1009,
     "metadata": {},
     "output_type": "execute_result"
    }
   ],
   "source": [
    "# Let us calculate specificity\n",
    "TN / float(TN+FP)"
   ]
  },
  {
   "cell_type": "markdown",
   "metadata": {},
   "source": [
    "### Calculating Lead score on test data set"
   ]
  },
  {
   "cell_type": "code",
   "execution_count": 1010,
   "metadata": {},
   "outputs": [
    {
     "data": {
      "text/html": [
       "<div>\n",
       "<style scoped>\n",
       "    .dataframe tbody tr th:only-of-type {\n",
       "        vertical-align: middle;\n",
       "    }\n",
       "\n",
       "    .dataframe tbody tr th {\n",
       "        vertical-align: top;\n",
       "    }\n",
       "\n",
       "    .dataframe thead th {\n",
       "        text-align: right;\n",
       "    }\n",
       "</style>\n",
       "<table border=\"1\" class=\"dataframe\">\n",
       "  <thead>\n",
       "    <tr style=\"text-align: right;\">\n",
       "      <th></th>\n",
       "      <th>LeadNumber</th>\n",
       "      <th>Converted</th>\n",
       "      <th>Converted_Prob</th>\n",
       "      <th>final_predicted</th>\n",
       "      <th>LeadScore</th>\n",
       "    </tr>\n",
       "  </thead>\n",
       "  <tbody>\n",
       "    <tr>\n",
       "      <th>0</th>\n",
       "      <td>6906</td>\n",
       "      <td>1</td>\n",
       "      <td>0.745815</td>\n",
       "      <td>1</td>\n",
       "      <td>74.58</td>\n",
       "    </tr>\n",
       "    <tr>\n",
       "      <th>1</th>\n",
       "      <td>1873</td>\n",
       "      <td>0</td>\n",
       "      <td>0.185608</td>\n",
       "      <td>0</td>\n",
       "      <td>18.56</td>\n",
       "    </tr>\n",
       "    <tr>\n",
       "      <th>2</th>\n",
       "      <td>771</td>\n",
       "      <td>0</td>\n",
       "      <td>0.189834</td>\n",
       "      <td>0</td>\n",
       "      <td>18.98</td>\n",
       "    </tr>\n",
       "    <tr>\n",
       "      <th>3</th>\n",
       "      <td>4495</td>\n",
       "      <td>0</td>\n",
       "      <td>0.191200</td>\n",
       "      <td>0</td>\n",
       "      <td>19.12</td>\n",
       "    </tr>\n",
       "    <tr>\n",
       "      <th>4</th>\n",
       "      <td>9061</td>\n",
       "      <td>1</td>\n",
       "      <td>0.813048</td>\n",
       "      <td>1</td>\n",
       "      <td>81.30</td>\n",
       "    </tr>\n",
       "    <tr>\n",
       "      <th>5</th>\n",
       "      <td>4929</td>\n",
       "      <td>1</td>\n",
       "      <td>0.726318</td>\n",
       "      <td>1</td>\n",
       "      <td>72.63</td>\n",
       "    </tr>\n",
       "    <tr>\n",
       "      <th>6</th>\n",
       "      <td>2308</td>\n",
       "      <td>0</td>\n",
       "      <td>0.213589</td>\n",
       "      <td>0</td>\n",
       "      <td>21.36</td>\n",
       "    </tr>\n",
       "    <tr>\n",
       "      <th>7</th>\n",
       "      <td>1034</td>\n",
       "      <td>0</td>\n",
       "      <td>0.139279</td>\n",
       "      <td>0</td>\n",
       "      <td>13.93</td>\n",
       "    </tr>\n",
       "    <tr>\n",
       "      <th>8</th>\n",
       "      <td>9033</td>\n",
       "      <td>0</td>\n",
       "      <td>0.146845</td>\n",
       "      <td>0</td>\n",
       "      <td>14.68</td>\n",
       "    </tr>\n",
       "    <tr>\n",
       "      <th>9</th>\n",
       "      <td>7008</td>\n",
       "      <td>1</td>\n",
       "      <td>0.750554</td>\n",
       "      <td>1</td>\n",
       "      <td>75.06</td>\n",
       "    </tr>\n",
       "  </tbody>\n",
       "</table>\n",
       "</div>"
      ],
      "text/plain": [
       "   LeadNumber  Converted  Converted_Prob  final_predicted  LeadScore\n",
       "0        6906          1        0.745815                1      74.58\n",
       "1        1873          0        0.185608                0      18.56\n",
       "2         771          0        0.189834                0      18.98\n",
       "3        4495          0        0.191200                0      19.12\n",
       "4        9061          1        0.813048                1      81.30\n",
       "5        4929          1        0.726318                1      72.63\n",
       "6        2308          0        0.213589                0      21.36\n",
       "7        1034          0        0.139279                0      13.93\n",
       "8        9033          0        0.146845                0      14.68\n",
       "9        7008          1        0.750554                1      75.06"
      ]
     },
     "execution_count": 1010,
     "metadata": {},
     "output_type": "execute_result"
    }
   ],
   "source": [
    "y_pred_final[\"LeadScore\"]=y_pred_final.Converted_Prob.apply(lambda x: round(x*100,2) )\n",
    "y_pred_final.head(10)"
   ]
  }
 ],
 "metadata": {
  "kernelspec": {
   "display_name": "Python 3",
   "language": "python",
   "name": "python3"
  },
  "language_info": {
   "codemirror_mode": {
    "name": "ipython",
    "version": 3
   },
   "file_extension": ".py",
   "mimetype": "text/x-python",
   "name": "python",
   "nbconvert_exporter": "python",
   "pygments_lexer": "ipython3",
   "version": "3.8.5"
  }
 },
 "nbformat": 4,
 "nbformat_minor": 4
}
